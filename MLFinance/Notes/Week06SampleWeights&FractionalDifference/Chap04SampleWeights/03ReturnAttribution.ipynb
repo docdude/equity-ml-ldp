{
 "cells": [
  {
   "cell_type": "markdown",
   "id": "bfe2668a554344d7",
   "metadata": {},
   "source": [
    "### Return Attribution\n",
    "\n",
    "In this section, we introduce a technique for assigning weights to these samples to train a machine learning algorithm. Highly overlapping results will have disproportionate weights compared to non-overlapping results. At the same time, labels associated with large absolute returns are more important than labels with negligibly small absolute returns. Simply put, observations must be weighted using a function that takes both eigenvalue and absolute return into account.\n",
    "\n",
    "When label is a function of the return sign, the sample weight can be defined by the sum of the contribution returns over the event's life cycle $[t_{i,0}, t_{i,1}]$.\n",
    "\n",
    "$$\\tilde{w_i} = \\begin{vmatrix} \\sum_{t = t_{i,0}}^{t_{i,1}} \\frac{r_{t-1}, t}{c_{t}}\\end{vmatrix}$$\n",
    "\n",
    "$$w_i = \\tilde{w_i} I \\left( \\sum_{j=1}^I \\tilde{w_j}\\right)$$\n",
    "\n",
    "Therefore, $\\sum_{i=1}^I w_i = I$. The library generally assumes that the default weight of algorithmic parameters is 1, so we adjusted the size of this weight so that the sum is $I$.\n",
    "\n",
    "The logic of this method is that we want to express the weight of an observation as a function of its absolute log return, which can uniquely affect the observation. However, if a 'neutral' case exists for this method, it will not work. In this case, lower returns should be given a higher weight, not a lower weight. Ultimately, the 'neutral' case is unnecessary because it means predicting '-1' or 1' with low confidence. The code below implements this method."
   ]
  },
  {
   "cell_type": "code",
   "execution_count": 2,
   "id": "ffa33312",
   "metadata": {},
   "outputs": [
    {
     "name": "stdout",
     "output_type": "stream",
     "text": [
      "✓ Added /mnt/ssd_backup/equity-ml-ldp/MLFinance/Notes to Python path\n",
      "✓ Added /mnt/ssd_backup/equity-ml-ldp/MLFinance to Python path\n"
     ]
    }
   ],
   "source": [
    "# Setup path to import modules\n",
    "import sys\n",
    "from pathlib import Path\n",
    "\n",
    "# Add the MLFinance root directory to Python path\n",
    "notebook_dir = Path.cwd()\n",
    "project_root = notebook_dir.parent.parent  # Go up from Notes/Week05Labeling to MLFinance\n",
    "equity_ml_root = project_root.parent  # Go up to equity-ml-ldp\n",
    "\n",
    "if str(project_root) not in sys.path:\n",
    "    sys.path.insert(0, str(project_root))\n",
    "    print(f\"✓ Added {project_root} to Python path\")\n",
    "    \n",
    "if str(equity_ml_root) not in sys.path:\n",
    "    sys.path.insert(0, str(equity_ml_root))\n",
    "    print(f\"✓ Added {equity_ml_root} to Python path\")"
   ]
  },
  {
   "cell_type": "code",
   "execution_count": 5,
   "id": "initial_id",
   "metadata": {
    "ExecuteTime": {
     "end_time": "2024-05-05T13:29:59.830428Z",
     "start_time": "2024-05-05T13:29:56.788591Z"
    },
    "collapsed": true
   },
   "outputs": [
    {
     "name": "stderr",
     "output_type": "stream",
     "text": [
      "[*********************100%***********************]  1 of 1 completed\n"
     ]
    }
   ],
   "source": [
    "import numpy as np\n",
    "import pandas as pd\n",
    "import matplotlib.pyplot as plt\n",
    "import seaborn as sns\n",
    "import yfinance as yf\n",
    "\n",
    "from FinancialMachineLearning.labeling.labeling import *\n",
    "from FinancialMachineLearning.features.volatility import daily_volatility\n",
    "from FinancialMachineLearning.sample_weights.concurrency import *\n",
    "from FinancialMachineLearning.utils.multiprocess import *\n",
    "\n",
    "start_date = '2000-01-01'\n",
    "end_date = '2024-04-10'\n",
    "ticker = 'AAPL'\n",
    "data = yf.download(\n",
    "    ticker, \n",
    "    start = start_date, \n",
    "    end = end_date,\n",
    "    multi_level_index=False,\n",
    "    auto_adjust=True\n",
    ")"
   ]
  },
  {
   "cell_type": "code",
   "execution_count": 6,
   "id": "2ebe6123fa19edfb",
   "metadata": {
    "ExecuteTime": {
     "end_time": "2024-05-05T13:29:59.839572Z",
     "start_time": "2024-05-05T13:29:59.831491Z"
    }
   },
   "outputs": [
    {
     "data": {
      "application/vnd.microsoft.datawrangler.viewer.v0+json": {
       "columns": [
        {
         "name": "Date",
         "rawType": "datetime64[ns]",
         "type": "datetime"
        },
        {
         "name": "Date",
         "rawType": "datetime64[ns]",
         "type": "datetime"
        }
       ],
       "ref": "57f56d30-99ec-488a-9a42-aba69b2fa646",
       "rows": [
        [
         "2000-01-03 00:00:00",
         "2000-01-10 00:00:00"
        ],
        [
         "2000-01-04 00:00:00",
         "2000-01-11 00:00:00"
        ],
        [
         "2000-01-05 00:00:00",
         "2000-01-12 00:00:00"
        ],
        [
         "2000-01-06 00:00:00",
         "2000-01-13 00:00:00"
        ],
        [
         "2000-01-07 00:00:00",
         "2000-01-14 00:00:00"
        ]
       ],
       "shape": {
        "columns": 1,
        "rows": 5
       }
      },
      "text/plain": [
       "Date\n",
       "2000-01-03   2000-01-10\n",
       "2000-01-04   2000-01-11\n",
       "2000-01-05   2000-01-12\n",
       "2000-01-06   2000-01-13\n",
       "2000-01-07   2000-01-14\n",
       "Name: Date, dtype: datetime64[ns]"
      ]
     },
     "execution_count": 6,
     "metadata": {},
     "output_type": "execute_result"
    }
   ],
   "source": [
    "vertical_barrier = add_vertical_barrier(\n",
    "    data.index, \n",
    "    data['Close'], \n",
    "    num_days = 7 # expariation limit\n",
    ")\n",
    "vertical_barrier.head()"
   ]
  },
  {
   "cell_type": "code",
   "execution_count": 7,
   "id": "8afd5f82548dae4a",
   "metadata": {
    "ExecuteTime": {
     "end_time": "2024-05-05T13:29:59.848801Z",
     "start_time": "2024-05-05T13:29:59.840660Z"
    }
   },
   "outputs": [],
   "source": [
    "volatility = daily_volatility(\n",
    "    data['Close'], \n",
    "    lookback = 60 # moving average span\n",
    ")"
   ]
  },
  {
   "cell_type": "code",
   "execution_count": 11,
   "id": "6079c91460297385",
   "metadata": {
    "ExecuteTime": {
     "end_time": "2024-05-05T13:30:04.393146Z",
     "start_time": "2024-05-05T13:29:59.850076Z"
    }
   },
   "outputs": [
    {
     "name": "stderr",
     "output_type": "stream",
     "text": [
      "2025-10-19 13:57:09.584187 100.0% apply_pt_sl_on_t1 done after 0.01 minutes. Remaining 0.0 minutes..\n"
     ]
    },
    {
     "data": {
      "application/vnd.microsoft.datawrangler.viewer.v0+json": {
       "columns": [
        {
         "name": "Date",
         "rawType": "datetime64[ns]",
         "type": "datetime"
        },
        {
         "name": "t1",
         "rawType": "datetime64[ns]",
         "type": "datetime"
        },
        {
         "name": "trgt",
         "rawType": "float64",
         "type": "float"
        },
        {
         "name": "pt",
         "rawType": "int64",
         "type": "integer"
        },
        {
         "name": "sl",
         "rawType": "int64",
         "type": "integer"
        }
       ],
       "ref": "03ad503e-dfe1-4f6e-9ba1-91826e49a817",
       "rows": [
        [
         "2000-01-07 00:00:00",
         "2000-01-11 00:00:00",
         "0.016797275165719147",
         "2",
         "1"
        ],
        [
         "2000-01-10 00:00:00",
         "2000-01-12 00:00:00",
         "0.026414404907648268",
         "2",
         "1"
        ],
        [
         "2000-01-11 00:00:00",
         "2000-01-12 00:00:00",
         "0.02404301598748611",
         "2",
         "1"
        ],
        [
         "2000-01-12 00:00:00",
         "2000-01-13 00:00:00",
         "0.031168055324062527",
         "2",
         "1"
        ],
        [
         "2000-01-13 00:00:00",
         "2000-01-19 00:00:00",
         "0.050702916012624055",
         "2",
         "1"
        ]
       ],
       "shape": {
        "columns": 4,
        "rows": 5
       }
      },
      "text/html": [
       "<div>\n",
       "<style scoped>\n",
       "    .dataframe tbody tr th:only-of-type {\n",
       "        vertical-align: middle;\n",
       "    }\n",
       "\n",
       "    .dataframe tbody tr th {\n",
       "        vertical-align: top;\n",
       "    }\n",
       "\n",
       "    .dataframe thead th {\n",
       "        text-align: right;\n",
       "    }\n",
       "</style>\n",
       "<table border=\"1\" class=\"dataframe\">\n",
       "  <thead>\n",
       "    <tr style=\"text-align: right;\">\n",
       "      <th></th>\n",
       "      <th>t1</th>\n",
       "      <th>trgt</th>\n",
       "      <th>pt</th>\n",
       "      <th>sl</th>\n",
       "    </tr>\n",
       "    <tr>\n",
       "      <th>Date</th>\n",
       "      <th></th>\n",
       "      <th></th>\n",
       "      <th></th>\n",
       "      <th></th>\n",
       "    </tr>\n",
       "  </thead>\n",
       "  <tbody>\n",
       "    <tr>\n",
       "      <th>2000-01-07</th>\n",
       "      <td>2000-01-11</td>\n",
       "      <td>0.016797</td>\n",
       "      <td>2</td>\n",
       "      <td>1</td>\n",
       "    </tr>\n",
       "    <tr>\n",
       "      <th>2000-01-10</th>\n",
       "      <td>2000-01-12</td>\n",
       "      <td>0.026414</td>\n",
       "      <td>2</td>\n",
       "      <td>1</td>\n",
       "    </tr>\n",
       "    <tr>\n",
       "      <th>2000-01-11</th>\n",
       "      <td>2000-01-12</td>\n",
       "      <td>0.024043</td>\n",
       "      <td>2</td>\n",
       "      <td>1</td>\n",
       "    </tr>\n",
       "    <tr>\n",
       "      <th>2000-01-12</th>\n",
       "      <td>2000-01-13</td>\n",
       "      <td>0.031168</td>\n",
       "      <td>2</td>\n",
       "      <td>1</td>\n",
       "    </tr>\n",
       "    <tr>\n",
       "      <th>2000-01-13</th>\n",
       "      <td>2000-01-19</td>\n",
       "      <td>0.050703</td>\n",
       "      <td>2</td>\n",
       "      <td>1</td>\n",
       "    </tr>\n",
       "  </tbody>\n",
       "</table>\n",
       "</div>"
      ],
      "text/plain": [
       "                   t1      trgt  pt  sl\n",
       "Date                                   \n",
       "2000-01-07 2000-01-11  0.016797   2   1\n",
       "2000-01-10 2000-01-12  0.026414   2   1\n",
       "2000-01-11 2000-01-12  0.024043   2   1\n",
       "2000-01-12 2000-01-13  0.031168   2   1\n",
       "2000-01-13 2000-01-19  0.050703   2   1"
      ]
     },
     "execution_count": 11,
     "metadata": {},
     "output_type": "execute_result"
    }
   ],
   "source": [
    "triple_barrier_events = get_events(\n",
    "    close = data['Close'],\n",
    "    t_events = data.index[2:],\n",
    "    pt_sl = [2, 1], # profit taking 2, stopping loss 1\n",
    "    target = volatility, # dynamic threshold\n",
    "    min_ret = 0.01, # minimum position return\n",
    "    num_threads = 12, # number of multi-thread \n",
    "    vertical_barrier_times = vertical_barrier, # add vertical barrier\n",
    "    side_prediction = None # betting side prediction (primary model)\n",
    ")\n",
    "triple_barrier_events.head()"
   ]
  },
  {
   "cell_type": "code",
   "execution_count": 12,
   "id": "d94a34f15b39c1e7",
   "metadata": {
    "ExecuteTime": {
     "end_time": "2024-05-05T13:30:04.766372Z",
     "start_time": "2024-05-05T13:30:04.394133Z"
    }
   },
   "outputs": [],
   "source": [
    "labels = meta_labeling(\n",
    "    triple_barrier_events, \n",
    "    data['Close']\n",
    ")"
   ]
  },
  {
   "cell_type": "code",
   "execution_count": 13,
   "id": "6c68efab0addcd9f",
   "metadata": {
    "ExecuteTime": {
     "end_time": "2024-05-05T13:30:04.774356Z",
     "start_time": "2024-05-05T13:30:04.769263Z"
    }
   },
   "outputs": [
    {
     "data": {
      "application/vnd.microsoft.datawrangler.viewer.v0+json": {
       "columns": [
        {
         "name": "Date",
         "rawType": "datetime64[ns]",
         "type": "datetime"
        },
        {
         "name": "ret",
         "rawType": "float64",
         "type": "float"
        },
        {
         "name": "trgt",
         "rawType": "float64",
         "type": "float"
        },
        {
         "name": "bin",
         "rawType": "int64",
         "type": "integer"
        }
       ],
       "ref": "17a43497-2d78-4f16-b5fa-2a97d62b7cce",
       "rows": [
        [
         "2000-01-07 00:00:00",
         "-0.06783948497162084",
         "0.016797275165719147",
         "-1"
        ],
        [
         "2000-01-10 00:00:00",
         "-0.10805599102050734",
         "0.026414404907648268",
         "-1"
        ],
        [
         "2000-01-11 00:00:00",
         "-0.05997271733291931",
         "0.02404301598748611",
         "-1"
        ],
        [
         "2000-01-12 00:00:00",
         "0.10967684989197113",
         "0.031168055324062527",
         "1"
        ],
        [
         "2000-01-13 00:00:00",
         "0.10142135254026607",
         "0.050702916012624055",
         "0"
        ]
       ],
       "shape": {
        "columns": 3,
        "rows": 5
       }
      },
      "text/html": [
       "<div>\n",
       "<style scoped>\n",
       "    .dataframe tbody tr th:only-of-type {\n",
       "        vertical-align: middle;\n",
       "    }\n",
       "\n",
       "    .dataframe tbody tr th {\n",
       "        vertical-align: top;\n",
       "    }\n",
       "\n",
       "    .dataframe thead th {\n",
       "        text-align: right;\n",
       "    }\n",
       "</style>\n",
       "<table border=\"1\" class=\"dataframe\">\n",
       "  <thead>\n",
       "    <tr style=\"text-align: right;\">\n",
       "      <th></th>\n",
       "      <th>ret</th>\n",
       "      <th>trgt</th>\n",
       "      <th>bin</th>\n",
       "    </tr>\n",
       "    <tr>\n",
       "      <th>Date</th>\n",
       "      <th></th>\n",
       "      <th></th>\n",
       "      <th></th>\n",
       "    </tr>\n",
       "  </thead>\n",
       "  <tbody>\n",
       "    <tr>\n",
       "      <th>2000-01-07</th>\n",
       "      <td>-0.067839</td>\n",
       "      <td>0.016797</td>\n",
       "      <td>-1</td>\n",
       "    </tr>\n",
       "    <tr>\n",
       "      <th>2000-01-10</th>\n",
       "      <td>-0.108056</td>\n",
       "      <td>0.026414</td>\n",
       "      <td>-1</td>\n",
       "    </tr>\n",
       "    <tr>\n",
       "      <th>2000-01-11</th>\n",
       "      <td>-0.059973</td>\n",
       "      <td>0.024043</td>\n",
       "      <td>-1</td>\n",
       "    </tr>\n",
       "    <tr>\n",
       "      <th>2000-01-12</th>\n",
       "      <td>0.109677</td>\n",
       "      <td>0.031168</td>\n",
       "      <td>1</td>\n",
       "    </tr>\n",
       "    <tr>\n",
       "      <th>2000-01-13</th>\n",
       "      <td>0.101421</td>\n",
       "      <td>0.050703</td>\n",
       "      <td>0</td>\n",
       "    </tr>\n",
       "  </tbody>\n",
       "</table>\n",
       "</div>"
      ],
      "text/plain": [
       "                 ret      trgt  bin\n",
       "Date                               \n",
       "2000-01-07 -0.067839  0.016797   -1\n",
       "2000-01-10 -0.108056  0.026414   -1\n",
       "2000-01-11 -0.059973  0.024043   -1\n",
       "2000-01-12  0.109677  0.031168    1\n",
       "2000-01-13  0.101421  0.050703    0"
      ]
     },
     "execution_count": 13,
     "metadata": {},
     "output_type": "execute_result"
    }
   ],
   "source": [
    "labels.head()"
   ]
  },
  {
   "cell_type": "code",
   "execution_count": 14,
   "id": "60b9474ebbc90921",
   "metadata": {
    "ExecuteTime": {
     "end_time": "2024-05-05T13:30:04.782324Z",
     "start_time": "2024-05-05T13:30:04.775498Z"
    }
   },
   "outputs": [
    {
     "data": {
      "application/vnd.microsoft.datawrangler.viewer.v0+json": {
       "columns": [
        {
         "name": "Date",
         "rawType": "datetime64[ns]",
         "type": "datetime"
        },
        {
         "name": "t1",
         "rawType": "datetime64[ns]",
         "type": "datetime"
        },
        {
         "name": "trgt",
         "rawType": "float64",
         "type": "float"
        },
        {
         "name": "pt",
         "rawType": "int64",
         "type": "integer"
        },
        {
         "name": "sl",
         "rawType": "int64",
         "type": "integer"
        },
        {
         "name": "side",
         "rawType": "float64",
         "type": "float"
        }
       ],
       "ref": "27e7a9b4-8889-4f2c-af87-20d2c35f6f14",
       "rows": [
        [
         "2000-01-07 00:00:00",
         "2000-01-11 00:00:00",
         "0.016797275165719147",
         "2",
         "1",
         "-1.0"
        ],
        [
         "2000-01-10 00:00:00",
         "2000-01-12 00:00:00",
         "0.026414404907648268",
         "2",
         "1",
         "-1.0"
        ],
        [
         "2000-01-11 00:00:00",
         "2000-01-12 00:00:00",
         "0.02404301598748611",
         "2",
         "1",
         "-1.0"
        ],
        [
         "2000-01-12 00:00:00",
         "2000-01-13 00:00:00",
         "0.031168055324062527",
         "2",
         "1",
         "1.0"
        ],
        [
         "2000-01-13 00:00:00",
         "2000-01-19 00:00:00",
         "0.050702916012624055",
         "2",
         "1",
         "0.0"
        ]
       ],
       "shape": {
        "columns": 5,
        "rows": 5
       }
      },
      "text/html": [
       "<div>\n",
       "<style scoped>\n",
       "    .dataframe tbody tr th:only-of-type {\n",
       "        vertical-align: middle;\n",
       "    }\n",
       "\n",
       "    .dataframe tbody tr th {\n",
       "        vertical-align: top;\n",
       "    }\n",
       "\n",
       "    .dataframe thead th {\n",
       "        text-align: right;\n",
       "    }\n",
       "</style>\n",
       "<table border=\"1\" class=\"dataframe\">\n",
       "  <thead>\n",
       "    <tr style=\"text-align: right;\">\n",
       "      <th></th>\n",
       "      <th>t1</th>\n",
       "      <th>trgt</th>\n",
       "      <th>pt</th>\n",
       "      <th>sl</th>\n",
       "      <th>side</th>\n",
       "    </tr>\n",
       "    <tr>\n",
       "      <th>Date</th>\n",
       "      <th></th>\n",
       "      <th></th>\n",
       "      <th></th>\n",
       "      <th></th>\n",
       "      <th></th>\n",
       "    </tr>\n",
       "  </thead>\n",
       "  <tbody>\n",
       "    <tr>\n",
       "      <th>2000-01-07</th>\n",
       "      <td>2000-01-11</td>\n",
       "      <td>0.016797</td>\n",
       "      <td>2</td>\n",
       "      <td>1</td>\n",
       "      <td>-1.0</td>\n",
       "    </tr>\n",
       "    <tr>\n",
       "      <th>2000-01-10</th>\n",
       "      <td>2000-01-12</td>\n",
       "      <td>0.026414</td>\n",
       "      <td>2</td>\n",
       "      <td>1</td>\n",
       "      <td>-1.0</td>\n",
       "    </tr>\n",
       "    <tr>\n",
       "      <th>2000-01-11</th>\n",
       "      <td>2000-01-12</td>\n",
       "      <td>0.024043</td>\n",
       "      <td>2</td>\n",
       "      <td>1</td>\n",
       "      <td>-1.0</td>\n",
       "    </tr>\n",
       "    <tr>\n",
       "      <th>2000-01-12</th>\n",
       "      <td>2000-01-13</td>\n",
       "      <td>0.031168</td>\n",
       "      <td>2</td>\n",
       "      <td>1</td>\n",
       "      <td>1.0</td>\n",
       "    </tr>\n",
       "    <tr>\n",
       "      <th>2000-01-13</th>\n",
       "      <td>2000-01-19</td>\n",
       "      <td>0.050703</td>\n",
       "      <td>2</td>\n",
       "      <td>1</td>\n",
       "      <td>0.0</td>\n",
       "    </tr>\n",
       "  </tbody>\n",
       "</table>\n",
       "</div>"
      ],
      "text/plain": [
       "                   t1      trgt  pt  sl  side\n",
       "Date                                         \n",
       "2000-01-07 2000-01-11  0.016797   2   1  -1.0\n",
       "2000-01-10 2000-01-12  0.026414   2   1  -1.0\n",
       "2000-01-11 2000-01-12  0.024043   2   1  -1.0\n",
       "2000-01-12 2000-01-13  0.031168   2   1   1.0\n",
       "2000-01-13 2000-01-19  0.050703   2   1   0.0"
      ]
     },
     "execution_count": 14,
     "metadata": {},
     "output_type": "execute_result"
    }
   ],
   "source": [
    "triple_barrier_events['side'] = labels['bin']\n",
    "triple_barrier_events.head()"
   ]
  },
  {
   "cell_type": "code",
   "execution_count": 19,
   "id": "315b94a3d4303ae3",
   "metadata": {
    "ExecuteTime": {
     "end_time": "2024-05-05T13:30:06.212908Z",
     "start_time": "2024-05-05T13:30:04.783601Z"
    }
   },
   "outputs": [],
   "source": [
    "num_threads = 1\n",
    "num_conc_events = mp_pandas_obj(\n",
    "    concurrent_events, \n",
    "    ('molecule', triple_barrier_events.index), \n",
    "    num_threads, \n",
    "    close_series_index = data['Close'].index, \n",
    "    label_endtime = triple_barrier_events['t1']\n",
    ")"
   ]
  },
  {
   "cell_type": "code",
   "execution_count": 20,
   "id": "a02df82f22f8ef0e",
   "metadata": {
    "ExecuteTime": {
     "end_time": "2024-05-05T13:30:06.218019Z",
     "start_time": "2024-05-05T13:30:06.214075Z"
    }
   },
   "outputs": [],
   "source": [
    "num_conc_events = num_conc_events.reindex(data['Close'].index).fillna(0)"
   ]
  },
  {
   "cell_type": "code",
   "execution_count": 21,
   "id": "63ea34e394c734c0",
   "metadata": {
    "ExecuteTime": {
     "end_time": "2024-05-05T13:30:06.230008Z",
     "start_time": "2024-05-05T13:30:06.219666Z"
    }
   },
   "outputs": [
    {
     "data": {
      "application/vnd.microsoft.datawrangler.viewer.v0+json": {
       "columns": [
        {
         "name": "Date",
         "rawType": "datetime64[ns]",
         "type": "datetime"
        },
        {
         "name": "t1",
         "rawType": "datetime64[ns]",
         "type": "datetime"
        },
        {
         "name": "trgt",
         "rawType": "float64",
         "type": "float"
        },
        {
         "name": "pt",
         "rawType": "int64",
         "type": "integer"
        },
        {
         "name": "sl",
         "rawType": "int64",
         "type": "integer"
        },
        {
         "name": "side",
         "rawType": "float64",
         "type": "float"
        }
       ],
       "ref": "d5b652b7-3731-4c41-967a-afc1714c61c6",
       "rows": [
        [
         "2000-01-07 00:00:00",
         "2000-01-11 00:00:00",
         "0.016797275165719147",
         "2",
         "1",
         "-1.0"
        ],
        [
         "2000-01-10 00:00:00",
         "2000-01-12 00:00:00",
         "0.026414404907648268",
         "2",
         "1",
         "-1.0"
        ],
        [
         "2000-01-11 00:00:00",
         "2000-01-12 00:00:00",
         "0.02404301598748611",
         "2",
         "1",
         "-1.0"
        ],
        [
         "2000-01-12 00:00:00",
         "2000-01-13 00:00:00",
         "0.031168055324062527",
         "2",
         "1",
         "1.0"
        ],
        [
         "2000-01-13 00:00:00",
         "2000-01-19 00:00:00",
         "0.050702916012624055",
         "2",
         "1",
         "0.0"
        ],
        [
         "2000-01-14 00:00:00",
         "2000-01-21 00:00:00",
         "0.08730494610913081",
         "2",
         "1",
         "0.0"
        ],
        [
         "2000-01-18 00:00:00",
         "2000-01-25 00:00:00",
         "0.08317220971241229",
         "2",
         "1",
         "0.0"
        ],
        [
         "2000-01-19 00:00:00",
         "2000-01-26 00:00:00",
         "0.0815729456478553",
         "2",
         "1",
         "0.0"
        ],
        [
         "2000-01-20 00:00:00",
         "2000-01-27 00:00:00",
         "0.08276416918578026",
         "2",
         "1",
         "0.0"
        ],
        [
         "2000-01-21 00:00:00",
         "2000-01-28 00:00:00",
         "0.07912647966139391",
         "2",
         "1",
         "-1.0"
        ],
        [
         "2000-01-24 00:00:00",
         "2000-01-31 00:00:00",
         "0.07695764385700407",
         "2",
         "1",
         "0.0"
        ],
        [
         "2000-01-25 00:00:00",
         "2000-02-01 00:00:00",
         "0.07328950015824319",
         "2",
         "1",
         "-1.0"
        ],
        [
         "2000-01-26 00:00:00",
         "2000-02-02 00:00:00",
         "0.07058208480561132",
         "2",
         "1",
         "-1.0"
        ],
        [
         "2000-01-27 00:00:00",
         "2000-02-03 00:00:00",
         "0.06802811893774781",
         "2",
         "1",
         "0.0"
        ],
        [
         "2000-01-28 00:00:00",
         "2000-02-04 00:00:00",
         "0.06913483412207871",
         "2",
         "1",
         "0.0"
        ],
        [
         "2000-01-31 00:00:00",
         "2000-02-07 00:00:00",
         "0.06671182540562659",
         "2",
         "1",
         "0.0"
        ],
        [
         "2000-02-01 00:00:00",
         "2000-02-07 00:00:00",
         "0.06435460535323234",
         "2",
         "1",
         "1.0"
        ],
        [
         "2000-02-02 00:00:00",
         "2000-02-07 00:00:00",
         "0.06326047075368843",
         "2",
         "1",
         "1.0"
        ],
        [
         "2000-02-03 00:00:00",
         "2000-02-10 00:00:00",
         "0.061688336733562464",
         "2",
         "1",
         "0.0"
        ],
        [
         "2000-02-04 00:00:00",
         "2000-02-11 00:00:00",
         "0.06408039815610435",
         "2",
         "1",
         "0.0"
        ],
        [
         "2000-02-07 00:00:00",
         "2000-02-14 00:00:00",
         "0.06328882731145422",
         "2",
         "1",
         "0.0"
        ],
        [
         "2000-02-08 00:00:00",
         "2000-02-15 00:00:00",
         "0.06278153914778178",
         "2",
         "1",
         "0.0"
        ],
        [
         "2000-02-09 00:00:00",
         "2000-02-16 00:00:00",
         "0.06115165288826842",
         "2",
         "1",
         "0.0"
        ],
        [
         "2000-02-10 00:00:00",
         "2000-02-17 00:00:00",
         "0.05957681232497435",
         "2",
         "1",
         "0.0"
        ],
        [
         "2000-02-11 00:00:00",
         "2000-02-18 00:00:00",
         "0.0587334933798785",
         "2",
         "1",
         "0.0"
        ],
        [
         "2000-02-14 00:00:00",
         "2000-02-22 00:00:00",
         "0.05866587351733878",
         "2",
         "1",
         "0.0"
        ],
        [
         "2000-02-15 00:00:00",
         "2000-02-22 00:00:00",
         "0.060246522633761034",
         "2",
         "1",
         "0.0"
        ],
        [
         "2000-02-16 00:00:00",
         "2000-02-23 00:00:00",
         "0.058984462169400134",
         "2",
         "1",
         "0.0"
        ],
        [
         "2000-02-17 00:00:00",
         "2000-02-24 00:00:00",
         "0.05839551296853102",
         "2",
         "1",
         "0.0"
        ],
        [
         "2000-02-18 00:00:00",
         "2000-02-25 00:00:00",
         "0.05742557970261242",
         "2",
         "1",
         "0.0"
        ],
        [
         "2000-02-22 00:00:00",
         "2000-02-29 00:00:00",
         "0.056065141403822114",
         "2",
         "1",
         "0.0"
        ],
        [
         "2000-02-23 00:00:00",
         "2000-03-01 00:00:00",
         "0.05522766213488026",
         "2",
         "1",
         "1.0"
        ],
        [
         "2000-02-24 00:00:00",
         "2000-03-01 00:00:00",
         "0.05387680246322143",
         "2",
         "1",
         "1.0"
        ],
        [
         "2000-02-25 00:00:00",
         "2000-03-01 00:00:00",
         "0.05420735200546283",
         "2",
         "1",
         "1.0"
        ],
        [
         "2000-02-28 00:00:00",
         "2000-03-01 00:00:00",
         "0.053060724405410084",
         "2",
         "1",
         "1.0"
        ],
        [
         "2000-02-29 00:00:00",
         "2000-03-01 00:00:00",
         "0.05219945869466426",
         "2",
         "1",
         "1.0"
        ],
        [
         "2000-03-01 00:00:00",
         "2000-03-08 00:00:00",
         "0.05895258531875307",
         "2",
         "1",
         "-1.0"
        ],
        [
         "2000-03-02 00:00:00",
         "2000-03-09 00:00:00",
         "0.058472294625594695",
         "2",
         "1",
         "0.0"
        ],
        [
         "2000-03-03 00:00:00",
         "2000-03-10 00:00:00",
         "0.05765462871160516",
         "2",
         "1",
         "0.0"
        ],
        [
         "2000-03-06 00:00:00",
         "2000-03-13 00:00:00",
         "0.05683745889136851",
         "2",
         "1",
         "0.0"
        ],
        [
         "2000-03-07 00:00:00",
         "2000-03-14 00:00:00",
         "0.056749877408756866",
         "2",
         "1",
         "-1.0"
        ],
        [
         "2000-03-08 00:00:00",
         "2000-03-15 00:00:00",
         "0.05619089559935108",
         "2",
         "1",
         "0.0"
        ],
        [
         "2000-03-09 00:00:00",
         "2000-03-16 00:00:00",
         "0.05508177613332911",
         "2",
         "1",
         "0.0"
        ],
        [
         "2000-03-10 00:00:00",
         "2000-03-17 00:00:00",
         "0.05406129007614434",
         "2",
         "1",
         "0.0"
        ],
        [
         "2000-03-13 00:00:00",
         "2000-03-20 00:00:00",
         "0.053753734199166875",
         "2",
         "1",
         "0.0"
        ],
        [
         "2000-03-14 00:00:00",
         "2000-03-21 00:00:00",
         "0.056406029198759304",
         "2",
         "1",
         "1.0"
        ],
        [
         "2000-03-15 00:00:00",
         "2000-03-21 00:00:00",
         "0.05603417272139489",
         "2",
         "1",
         "1.0"
        ],
        [
         "2000-03-16 00:00:00",
         "2000-03-22 00:00:00",
         "0.05619346765242472",
         "2",
         "1",
         "1.0"
        ],
        [
         "2000-03-17 00:00:00",
         "2000-03-22 00:00:00",
         "0.056744713546352916",
         "2",
         "1",
         "1.0"
        ],
        [
         "2000-03-20 00:00:00",
         "2000-03-22 00:00:00",
         "0.055809046915678985",
         "2",
         "1",
         "1.0"
        ]
       ],
       "shape": {
        "columns": 5,
        "rows": 6096
       }
      },
      "text/html": [
       "<div>\n",
       "<style scoped>\n",
       "    .dataframe tbody tr th:only-of-type {\n",
       "        vertical-align: middle;\n",
       "    }\n",
       "\n",
       "    .dataframe tbody tr th {\n",
       "        vertical-align: top;\n",
       "    }\n",
       "\n",
       "    .dataframe thead th {\n",
       "        text-align: right;\n",
       "    }\n",
       "</style>\n",
       "<table border=\"1\" class=\"dataframe\">\n",
       "  <thead>\n",
       "    <tr style=\"text-align: right;\">\n",
       "      <th></th>\n",
       "      <th>t1</th>\n",
       "      <th>trgt</th>\n",
       "      <th>pt</th>\n",
       "      <th>sl</th>\n",
       "      <th>side</th>\n",
       "    </tr>\n",
       "    <tr>\n",
       "      <th>Date</th>\n",
       "      <th></th>\n",
       "      <th></th>\n",
       "      <th></th>\n",
       "      <th></th>\n",
       "      <th></th>\n",
       "    </tr>\n",
       "  </thead>\n",
       "  <tbody>\n",
       "    <tr>\n",
       "      <th>2000-01-07</th>\n",
       "      <td>2000-01-11</td>\n",
       "      <td>0.016797</td>\n",
       "      <td>2</td>\n",
       "      <td>1</td>\n",
       "      <td>-1.0</td>\n",
       "    </tr>\n",
       "    <tr>\n",
       "      <th>2000-01-10</th>\n",
       "      <td>2000-01-12</td>\n",
       "      <td>0.026414</td>\n",
       "      <td>2</td>\n",
       "      <td>1</td>\n",
       "      <td>-1.0</td>\n",
       "    </tr>\n",
       "    <tr>\n",
       "      <th>2000-01-11</th>\n",
       "      <td>2000-01-12</td>\n",
       "      <td>0.024043</td>\n",
       "      <td>2</td>\n",
       "      <td>1</td>\n",
       "      <td>-1.0</td>\n",
       "    </tr>\n",
       "    <tr>\n",
       "      <th>2000-01-12</th>\n",
       "      <td>2000-01-13</td>\n",
       "      <td>0.031168</td>\n",
       "      <td>2</td>\n",
       "      <td>1</td>\n",
       "      <td>1.0</td>\n",
       "    </tr>\n",
       "    <tr>\n",
       "      <th>2000-01-13</th>\n",
       "      <td>2000-01-19</td>\n",
       "      <td>0.050703</td>\n",
       "      <td>2</td>\n",
       "      <td>1</td>\n",
       "      <td>0.0</td>\n",
       "    </tr>\n",
       "    <tr>\n",
       "      <th>...</th>\n",
       "      <td>...</td>\n",
       "      <td>...</td>\n",
       "      <td>...</td>\n",
       "      <td>...</td>\n",
       "      <td>...</td>\n",
       "    </tr>\n",
       "    <tr>\n",
       "      <th>2024-03-26</th>\n",
       "      <td>2024-04-02</td>\n",
       "      <td>0.018165</td>\n",
       "      <td>2</td>\n",
       "      <td>1</td>\n",
       "      <td>0.0</td>\n",
       "    </tr>\n",
       "    <tr>\n",
       "      <th>2024-03-27</th>\n",
       "      <td>2024-04-03</td>\n",
       "      <td>0.018154</td>\n",
       "      <td>2</td>\n",
       "      <td>1</td>\n",
       "      <td>-1.0</td>\n",
       "    </tr>\n",
       "    <tr>\n",
       "      <th>2024-03-28</th>\n",
       "      <td>2024-04-04</td>\n",
       "      <td>0.018015</td>\n",
       "      <td>2</td>\n",
       "      <td>1</td>\n",
       "      <td>0.0</td>\n",
       "    </tr>\n",
       "    <tr>\n",
       "      <th>2024-04-01</th>\n",
       "      <td>2024-04-08</td>\n",
       "      <td>0.017749</td>\n",
       "      <td>2</td>\n",
       "      <td>1</td>\n",
       "      <td>0.0</td>\n",
       "    </tr>\n",
       "    <tr>\n",
       "      <th>2024-04-02</th>\n",
       "      <td>2024-04-09</td>\n",
       "      <td>0.017604</td>\n",
       "      <td>2</td>\n",
       "      <td>1</td>\n",
       "      <td>0.0</td>\n",
       "    </tr>\n",
       "  </tbody>\n",
       "</table>\n",
       "<p>6096 rows × 5 columns</p>\n",
       "</div>"
      ],
      "text/plain": [
       "                   t1      trgt  pt  sl  side\n",
       "Date                                         \n",
       "2000-01-07 2000-01-11  0.016797   2   1  -1.0\n",
       "2000-01-10 2000-01-12  0.026414   2   1  -1.0\n",
       "2000-01-11 2000-01-12  0.024043   2   1  -1.0\n",
       "2000-01-12 2000-01-13  0.031168   2   1   1.0\n",
       "2000-01-13 2000-01-19  0.050703   2   1   0.0\n",
       "...               ...       ...  ..  ..   ...\n",
       "2024-03-26 2024-04-02  0.018165   2   1   0.0\n",
       "2024-03-27 2024-04-03  0.018154   2   1  -1.0\n",
       "2024-03-28 2024-04-04  0.018015   2   1   0.0\n",
       "2024-04-01 2024-04-08  0.017749   2   1   0.0\n",
       "2024-04-02 2024-04-09  0.017604   2   1   0.0\n",
       "\n",
       "[6096 rows x 5 columns]"
      ]
     },
     "execution_count": 21,
     "metadata": {},
     "output_type": "execute_result"
    }
   ],
   "source": [
    "triple_barrier_events[:-5]"
   ]
  },
  {
   "cell_type": "code",
   "execution_count": 22,
   "id": "6297e6d921d15222",
   "metadata": {
    "ExecuteTime": {
     "end_time": "2024-05-05T13:30:09.907425Z",
     "start_time": "2024-05-05T13:30:06.231186Z"
    }
   },
   "outputs": [],
   "source": [
    "from FinancialMachineLearning.sample_weights.attribution import *\n",
    "\n",
    "return_weights = weights_by_return(triple_barrier_events[:-5], data['Close'][:-5], num_threads = 1)"
   ]
  },
  {
   "cell_type": "code",
   "execution_count": 23,
   "id": "95b0ec5478b53170",
   "metadata": {
    "ExecuteTime": {
     "end_time": "2024-05-05T13:30:10.490343Z",
     "start_time": "2024-05-05T13:30:09.908884Z"
    }
   },
   "outputs": [
    {
     "data": {
      "image/png": "[encoded data removed]",
      "text/plain": [
       "<Figure size 800x500 with 2 Axes>"
      ]
     },
     "metadata": {},
     "output_type": "display_data"
    }
   ],
   "source": [
    "fig, ax = plt.subplots(figsize = (8, 5))\n",
    "data['Close'].pct_change().plot(alpha = 0.75, ax = ax, color = 'lightgray')\n",
    "plt.ylim([-0.5, 0.5])\n",
    "plt.grid(False)\n",
    "\n",
    "return_weights.plot(secondary_y=True, lw = 1)\n",
    "plt.ylim([-25, 25])\n",
    "plt.legend(['return_attribution'])\n",
    "plt.grid(False)\n",
    "\n",
    "plt.title('return attribution | market : AAPL | sample weights')\n",
    "plt.show()"
   ]
  }
 ],
 "metadata": {
  "kernelspec": {
   "display_name": ".venv (3.12.3)",
   "language": "python",
   "name": "python3"
  },
  "language_info": {
   "codemirror_mode": {
    "name": "ipython",
    "version": 3
   },
   "file_extension": ".py",
   "mimetype": "text/x-python",
   "name": "python",
   "nbconvert_exporter": "python",
   "pygments_lexer": "ipython3",
   "version": "3.12.3"
  }
 },
 "nbformat": 4,
 "nbformat_minor": 5
}
