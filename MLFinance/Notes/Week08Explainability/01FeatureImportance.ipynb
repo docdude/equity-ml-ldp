{
 "cells": [
  {
   "cell_type": "markdown",
   "id": "eafe82c749f9ec4b",
   "metadata": {},
   "source": [
    "### Feature Importance with substitution effects\n",
    "\n",
    "It is useful to distinguish between methods for estimating feature importance based on whether they are influenced by substitution effects. In this context, substitution effects occur when the estimated feature importance is reduced by the presence of other related features. The substitution effect in Machine Learning is similar to what is called Multicollinearity in the context of statistics or econometrics. One way to deal with the linear substitution effect is to apply PCA to the original features and then perform feature importance analysis on the orthogonal features."
   ]
  },
  {
   "cell_type": "markdown",
   "id": "8016b3292cd69786",
   "metadata": {},
   "source": [
    "#### $p-\\mathrm{value}$\n",
    "\n",
    "Classical regression frameworks make several assumptions about the fitted model, such as correct model specification, uncorrelated regressors, or white noise residuals. Assuming that such an assumption is true, researchers have tried to determine the importance of explanatory variables through hypothesis testing. A common way to express the importance and explanatory power of a variable is the p-value, a concept proposed in the 1700s.\n",
    "\n",
    "$$p-\\mathrm{value} = \\frac{\\hat{p} - p_0}{\\sqrt{\\frac{p_0(1-p_0)}{n}}}$$\n",
    "\n",
    "The p-value quantifies the probability that we would have obtained the same or more extreme results as we estimated when the actual coefficient associated with that variable was 0. This indicates how inconsistent the data is with the established statistical model. However, p-value does not measure the probability that the null or alternative hypothesis is not true or that the data are random. Additionally, the misuse of p-values ​​is not only widespread, but also raises credibility issues in financial research over the past few decades.\n",
    "\n",
    "In fact, the biggest disadvantage of the p-value is that its basis relies on very strong assumptions. When even one of those assumptions is wrong, the likelihood of false positives and false negatives increases. For this reason, the American Statistical Association does not recommend the application of p-value as a measure of statistical significance in 2019 (Wasserstein et al. 2019)\n",
    "\n",
    "The second drawback of p-value is that p-value cannot be robustly estimated for variables with high multicollinearity. In situations where multicollinearity exists, traditional regression analysis methods cannot distinguish between redundant information, so a substitution effect between p-values ​​may occur, resulting in results that are inflated compared to the actual value.\n",
    "\n",
    "A third drawback of the p-value is that it evaluates completely unrelated probabilities. Given the null hypothesis $H_0$ and the estimated coefficient $\\hat{\\beta}$, the p-value estimates the probability of obtaining an extreme result equal to or extreme than $\\hat{\\beta}$ if $H_0$ is true. However, researchers are often more interested in another probability, namely the probability that $H_0$ is true given $\\hat{\\beta}$. This probability can be calculated using Bayes theorem, and can only be obtained by making assumptions about the surrounding distribution.\n",
    "\n",
    "The fourth flaw of p-value is that it assesses the significance of samples. The entire sample is used to solve two tasks: estimating coefficients and determining significance. Therefore, p-values ​​can be low for variables that have no out-of-sample explanatory value. Running multiple in-sample tests on the same dataset increases the chance of making false discoveries, which is statistical fraud.\n",
    "\n",
    "In summary, p-value is not suitable for models with multiple variables because it requires too many assumptions than necessary, and is also an inappropriate value for estimating significance. Let’s look at the example below to see how p-value dilutes information."
   ]
  },
  {
   "cell_type": "markdown",
   "id": "f25651916a2f0454",
   "metadata": {},
   "source": [
    "The following function is a function that generates informative, redundant, and noise features. Each feature has the following characteristics:\n",
    "\n",
    "1. Informative: A feature that actually provides the most unique and independent information in label prediction.\n",
    "2. Redundant: A feature that provides important information in label prediction, but has multicollinearity between features.\n",
    "3. Noise: A feature that has almost no effect on label prediction."
   ]
  },
  {
   "cell_type": "code",
   "execution_count": 4,
   "id": "4a4d1a53",
   "metadata": {},
   "outputs": [
    {
     "name": "stdout",
     "output_type": "stream",
     "text": [
      "✓ Added /mnt/ssd_backup/equity-ml-ldp/MLFinance to Python path\n"
     ]
    }
   ],
   "source": [
    "# Setup path to import FinancialMachineLearning modules\n",
    "import sys\n",
    "from pathlib import Path\n",
    "\n",
    "# Add the MLFinance root directory to Python path\n",
    "notebook_dir = Path.cwd()\n",
    "project_root = notebook_dir.parent.parent  # Go up from Notes/Week05Labeling to MLFinance\n",
    "if str(project_root) not in sys.path:\n",
    "    sys.path.insert(0, str(project_root))\n",
    "    print(f\"✓ Added {project_root} to Python path\")"
   ]
  },
  {
   "cell_type": "code",
   "execution_count": 5,
   "id": "initial_id",
   "metadata": {
    "ExecuteTime": {
     "end_time": "2024-05-24T13:58:46.069423Z",
     "start_time": "2024-05-24T13:58:46.066543Z"
    },
    "collapsed": true
   },
   "outputs": [],
   "source": [
    "import pandas as pd\n",
    "import numpy as np\n",
    "from FinancialMachineLearning.generator.classification_data import get_test_data"
   ]
  },
  {
   "cell_type": "markdown",
   "id": "83765f3832281958",
   "metadata": {},
   "source": [
    "Total features are specified as 20, informative features as 5, and redundant features as 5. Noise automatically becomes 10. The number of observations is generated as 1000."
   ]
  },
  {
   "cell_type": "code",
   "execution_count": 6,
   "id": "b2599415f2565fc0",
   "metadata": {
    "ExecuteTime": {
     "end_time": "2024-05-24T13:58:46.210424Z",
     "start_time": "2024-05-24T13:58:46.070245Z"
    }
   },
   "outputs": [],
   "source": [
    "trnsX, cont = get_test_data(\n",
    "    n_features = 20, \n",
    "    n_informative = 5, \n",
    "    n_redundant = 5, \n",
    "    n_samples = 1000\n",
    ")"
   ]
  },
  {
   "cell_type": "code",
   "execution_count": 7,
   "id": "3f7b406fdf202f7",
   "metadata": {
    "ExecuteTime": {
     "end_time": "2024-05-24T13:58:46.504262Z",
     "start_time": "2024-05-24T13:58:46.210949Z"
    }
   },
   "outputs": [
    {
     "name": "stdout",
     "output_type": "stream",
     "text": [
      "Warning: Maximum number of iterations has been exceeded.\n",
      "         Current function value: 0.438438\n",
      "         Iterations: 35\n"
     ]
    }
   ],
   "source": [
    "import statsmodels.api as sm\n",
    "import warnings\n",
    "warnings.filterwarnings('ignore')\n",
    "\n",
    "ols = sm.Logit(cont['bin'], trnsX).fit()"
   ]
  },
  {
   "cell_type": "code",
   "execution_count": 8,
   "id": "7cf1c46c037fb824",
   "metadata": {
    "ExecuteTime": {
     "end_time": "2024-05-24T13:58:46.689998Z",
     "start_time": "2024-05-24T13:58:46.512048Z"
    }
   },
   "outputs": [
    {
     "data": {
      "image/png": "[encoded data removed]",
      "text/plain": [
       "<Figure size 1000x400 with 1 Axes>"
      ]
     },
     "metadata": {},
     "output_type": "display_data"
    }
   ],
   "source": [
    "import matplotlib.pyplot as plt\n",
    "\n",
    "plt.figure(figsize = (10, 4))\n",
    "plt.barh(\n",
    "    ols.pvalues.sort_values(ascending = True).index, \n",
    "    ols.pvalues.sort_values(ascending = True), \n",
    "    color = 'b', alpha = 0.25, height = 0.5\n",
    ")\n",
    "plt.axvline(0.05, ls = ':', color = 'r')\n",
    "plt.grid(False)\n",
    "plt.title('p-values')\n",
    "plt.show()"
   ]
  },
  {
   "cell_type": "markdown",
   "id": "834711d51ef8c4bb",
   "metadata": {},
   "source": [
    "Unfortunately, financial datasets are often highly multicollinear as a result of common risk factors shared by many parts of the investment environment, including markets, sectors, ratings, value, momentum, earnings quality, and duration. In this situation, financial researchers should stop relying solely on p-values. It is important for financial researchers to be familiar with additional methods for determining which variables contain information about a particular phenomenon."
   ]
  },
  {
   "cell_type": "markdown",
   "id": "204804979e924031",
   "metadata": {},
   "source": [
    "#### Mean Decrease Importance\n",
    "\n",
    "Suppose we have training samples of size N, consisting of F features and one label per observation. The classification/regression algorithm based on the Tree Model splits the label in each note $t$ into two samples. For a given feature $X_f$, the labels of nodes $t$ associated with $X_f$ below a certain threshold $\\tau$ are placed in the left sample, and the rest are placed in the right sample. This is called branching, and most ensemble models such as Tree-based Random Forest, XG Boost, and Cat Boost go through this branching process.\n",
    "\n",
    "For each sample, impurity can be evaluated according to the entropy of the label value distribution, Gini impurity, or other criteria. Intuitively, a sample is purest when it contains only one type of label, and impurity is highest when the labels follow a uniform distribution. The information gain obtained by segmentation is measured by the reduction in impurity as follows:\n",
    "\n",
    "$$\\Delta g(t, f) = i(t) - \\frac{N_t^{(0)}}{N_t}i(t^{(0)}) - \\frac{N_t^{(1)}}{N_t}i(t^{(1)})$$\n",
    "\n",
    "Here, $i(t)$ is the impurity of the label at node $t$, $i(t^{(0)})$ is the impurity of the sample branched to the left, and $i(t^{(1)})$ is the impurity of the sample branched to the right.\n",
    "\n",
    "At each node $t$, the classification model evaluates $\\Delta g(t, f)$ for various features of $\\{X_f\\}_{1, \\dots, F}$, determines the optimal threshold $t$ that maximizes $\\Delta g(t, f)$ for each of them, and Select the feature associated with $\\Delta g(t, f)$. The classification algorithm branches samples until an early termination condition is met, such as no more information gain or impurity below the maximum acceptable limit.\n",
    "\n",
    "Feature Importance can be calculated as Weighted Information Gain at all nodes where a feature is selected. Mean Decrease Impurity is an indicator that shows how much a feature contributes to reducing impurity, and the sum of the importance of all features is calculated as 1. If there are $F$ features with equal information, the importance of each feature is expected to be $\\frac{1}{F}$.\n",
    "\n",
    "There are a few things to keep in mind when working with MDI.\n",
    "\n",
    "1. A mask effect occurs when a tree-based classifier favors certain features and systematically ignores other features. To overcome this, you must set `max_features = 1` when using `RandomForestClassifier` of `sklearn`. Using this approach, we ensure that only one random quirk is considered per level.\n",
    "    - Provides opportunity to reduce impurity for all features\n",
    "    - Features with an importance of 0 should not be included in the average calculation. The only reason it is 0 is because the feature was not randomly selected. These values ​​should be replaced with `numpy.nan`, etc.\n",
    "2. The procedure is clearly In sample. All characteristics have some importance, even if they are not predictive.\n",
    "3. MDI does not generalize to other classifiers other than tree-based.\n",
    "4. In terms of structure, MDI has good characteristics in that the sum of feature importance is 1, and the importance of all features has a value between 0 and 1.\n",
    "5. This method does not address substitution effects when correlated features exist. MDI dilutes the importance of alternative characteristics because of their fungibility. Additionally, the importance of the same two features is reduced by half, since both can be selected randomly with equal probability.\n",
    "6. Strobl et al. (2007) experimentally showed which predictors MDI is biased by. White & Liu (1994) argued that in the case of a single decision tree, this bias is due to the fact that the famous impurity function unfairly favors predictors with many categories.\n",
    "\n",
    "Ensemble models such as Random Forest in sklearn are basically equipped with a method to estimate MDI feature importance in the following way.\n",
    "\n",
    "```\n",
    "importances = forest.feature_importances_\n",
    "std = np.std([tree.feature_importances_ for tree in forest.estimators_], axis=0)\n",
    "```\n",
    "\n",
    "The importance estimate corresponds to the beta (coefficient) estimate of the econometric model, and std is similar to estimating the t-distribution of a variable. In other words, feature importance can act as a parameter.\n",
    "\n",
    "Meanwhile, since we are dealing with a time series model, we use feature importance that removes duplication of temporal information as follows."
   ]
  },
  {
   "cell_type": "code",
   "execution_count": 9,
   "id": "46ff206af6eeba8f",
   "metadata": {
    "ExecuteTime": {
     "end_time": "2024-05-24T13:58:48.147610Z",
     "start_time": "2024-05-24T13:58:46.703787Z"
    }
   },
   "outputs": [],
   "source": [
    "from sklearn.ensemble import RandomForestClassifier\n",
    "\n",
    "from sklearn.metrics import accuracy_score\n",
    "from FinancialMachineLearning.feature_importance import *\n",
    "\n",
    "forest = RandomForestClassifier(\n",
    "    criterion = 'entropy',\n",
    "    class_weight = 'balanced_subsample',\n",
    "    min_weight_fraction_leaf = 0.0,\n",
    "    random_state = 42,\n",
    "    n_estimators = 1000,\n",
    "    max_features = 1,\n",
    "    oob_score = True,\n",
    "    n_jobs = 1\n",
    ")\n",
    "\n",
    "fit = forest.fit(X = trnsX, y = cont['bin'])\n",
    "oob_score = fit.oob_score_"
   ]
  },
  {
   "cell_type": "code",
   "execution_count": 10,
   "id": "91f8d989d2801423",
   "metadata": {
    "ExecuteTime": {
     "end_time": "2024-05-24T13:58:48.151937Z",
     "start_time": "2024-05-24T13:58:48.148306Z"
    }
   },
   "outputs": [],
   "source": [
    "from FinancialMachineLearning.cross_validation.cross_validation import PurgedKFold, cross_val_score\n",
    "cv_gen = PurgedKFold(\n",
    "    n_splits = 5, \n",
    "    samples_info_sets = cont['t1']\n",
    ")"
   ]
  },
  {
   "cell_type": "code",
   "execution_count": 11,
   "id": "7aabdcbb5da01031",
   "metadata": {
    "ExecuteTime": {
     "end_time": "2024-05-24T13:58:53.693839Z",
     "start_time": "2024-05-24T13:58:48.152619Z"
    }
   },
   "outputs": [],
   "source": [
    "oos_score = cross_val_score(\n",
    "    forest, # base classifier\n",
    "    trnsX, # train features\n",
    "    cont['bin'], # train labels\n",
    "    cv_gen = cv_gen, # purged k fold cross validation class\n",
    "    scoring = accuracy_score # optimizing to accuracy score\n",
    ").mean()"
   ]
  },
  {
   "cell_type": "code",
   "execution_count": 12,
   "id": "dfa583016fd3885e",
   "metadata": {
    "ExecuteTime": {
     "end_time": "2024-05-24T13:58:53.711512Z",
     "start_time": "2024-05-24T13:58:53.694717Z"
    }
   },
   "outputs": [],
   "source": [
    "from FinancialMachineLearning.feature_importance.importance import *\n",
    "mdi = mean_decrease_impurity(fit, trnsX.columns)"
   ]
  },
  {
   "cell_type": "code",
   "execution_count": 13,
   "id": "dc407ab67e8b81c6",
   "metadata": {
    "ExecuteTime": {
     "end_time": "2024-05-24T13:58:53.717175Z",
     "start_time": "2024-05-24T13:58:53.712124Z"
    }
   },
   "outputs": [
    {
     "data": {
      "application/vnd.microsoft.datawrangler.viewer.v0+json": {
       "columns": [
        {
         "name": "index",
         "rawType": "object",
         "type": "string"
        },
        {
         "name": "mean",
         "rawType": "float64",
         "type": "float"
        },
        {
         "name": "std",
         "rawType": "float64",
         "type": "float"
        }
       ],
       "ref": "8dcd697c-e6ea-4a66-be4f-33701d24cc7e",
       "rows": [
        [
         "I_0",
         "0.10997099531156435",
         "0.0036589172705619845"
        ],
        [
         "I_1",
         "0.04290981679848884",
         "0.0009258575399415996"
        ],
        [
         "I_2",
         "0.04497741097655824",
         "0.0010446134334600107"
        ],
        [
         "I_3",
         "0.07803751136144445",
         "0.0026254590524446325"
        ],
        [
         "I_4",
         "0.05540892591853092",
         "0.001246049064559559"
        ]
       ],
       "shape": {
        "columns": 2,
        "rows": 5
       }
      },
      "text/html": [
       "<div>\n",
       "<style scoped>\n",
       "    .dataframe tbody tr th:only-of-type {\n",
       "        vertical-align: middle;\n",
       "    }\n",
       "\n",
       "    .dataframe tbody tr th {\n",
       "        vertical-align: top;\n",
       "    }\n",
       "\n",
       "    .dataframe thead th {\n",
       "        text-align: right;\n",
       "    }\n",
       "</style>\n",
       "<table border=\"1\" class=\"dataframe\">\n",
       "  <thead>\n",
       "    <tr style=\"text-align: right;\">\n",
       "      <th></th>\n",
       "      <th>mean</th>\n",
       "      <th>std</th>\n",
       "    </tr>\n",
       "  </thead>\n",
       "  <tbody>\n",
       "    <tr>\n",
       "      <th>I_0</th>\n",
       "      <td>0.109971</td>\n",
       "      <td>0.003659</td>\n",
       "    </tr>\n",
       "    <tr>\n",
       "      <th>I_1</th>\n",
       "      <td>0.042910</td>\n",
       "      <td>0.000926</td>\n",
       "    </tr>\n",
       "    <tr>\n",
       "      <th>I_2</th>\n",
       "      <td>0.044977</td>\n",
       "      <td>0.001045</td>\n",
       "    </tr>\n",
       "    <tr>\n",
       "      <th>I_3</th>\n",
       "      <td>0.078038</td>\n",
       "      <td>0.002625</td>\n",
       "    </tr>\n",
       "    <tr>\n",
       "      <th>I_4</th>\n",
       "      <td>0.055409</td>\n",
       "      <td>0.001246</td>\n",
       "    </tr>\n",
       "  </tbody>\n",
       "</table>\n",
       "</div>"
      ],
      "text/plain": [
       "         mean       std\n",
       "I_0  0.109971  0.003659\n",
       "I_1  0.042910  0.000926\n",
       "I_2  0.044977  0.001045\n",
       "I_3  0.078038  0.002625\n",
       "I_4  0.055409  0.001246"
      ]
     },
     "execution_count": 13,
     "metadata": {},
     "output_type": "execute_result"
    }
   ],
   "source": [
    "mdi.head()"
   ]
  },
  {
   "cell_type": "code",
   "execution_count": 14,
   "id": "453cbafd3cf814d8",
   "metadata": {
    "ExecuteTime": {
     "end_time": "2024-05-24T13:58:53.865303Z",
     "start_time": "2024-05-24T13:58:53.719380Z"
    }
   },
   "outputs": [
    {
     "data": {
      "image/png": "[encoded data removed]",
      "text/plain": [
       "<Figure size 1000x400 with 1 Axes>"
      ]
     },
     "metadata": {},
     "output_type": "display_data"
    }
   ],
   "source": [
    "plot_feature_importance(\n",
    "    mdi,\n",
    "    oob_score = oob_score,\n",
    "    oos_score = oos_score,\n",
    "    save_fig = True,\n",
    "    output_path = './images/MDI_feature_importance.png'\n",
    ")\n",
    "plt.grid(False)\n",
    "plt.show()"
   ]
  },
  {
   "cell_type": "markdown",
   "id": "a008ab219ccce7b3",
   "metadata": {},
   "source": [
    "p-value의 결과와 비교해 봤을때, Noise가 모두 하위에 랭크된 것을 볼 수 있다. 모델 학습에 있어서 정보를 가지고 있는 information과 redundant feature들이 중요도가 높게 나온 것을 알 수 있다\n",
    "\n",
    "MDI feature importance는 다음과 같은 장점이 존재한다\n",
    "\n",
    "1. MDI는 계산하는 데 있어서 변수의 강력한 분포적 가정을 요구하지 않는다. 즉, 변수의 분포는 어떤 모양을 해도 상관없다\n",
    "2. 통계모형의 beta는 단일 샘플에 대해 추정되는 반면, ensemble모형의 MDI feature importance는 Bootstrapping을 통해 도출된다. 따라서, 추정치의 분산은 ensemble추정기의 개수를 증가시킴으로써 줄일 수 있다\n",
    "3. Base Model이 Tree인 분류기의 목적은 주어진 대수 방정식의 계수를 추정하는 것이 아니므로 특정 귀무가설의 확률을 추정하는 것과는 무관하다. 따라서, 추정기에서 실질적으로 도움이 된 특성을 찾아 점수를 매겨준다\n",
    "\n",
    "다만, MDI는 어디까지나 sample내에서 계산된다는 점에서 과적합의 여지가 존재한다. 이후 소개하는 **MDA feature importance**는 이러한 단점을 보완해 준다"
   ]
  },
  {
   "cell_type": "markdown",
   "id": "ba04d26a07756695",
   "metadata": {},
   "source": [
    "#### Mean Decrease Accuracy\n",
    "\n",
    "p-value와 MDI 모두 설명 목적으로 샘플 내에서 유의적으로 보이는 변수가 예측의 목적과 무관할 수 있다는 점이다. 이 문제를 해결하고자, MDA 특성 중요도가 제안되었다\n",
    "\n",
    "MDA는 다음과 같이 동작한다. \n",
    "1. 모델을 적합화시키고 교차 검증된 성과를 계산한다\n",
    "2. 동일한 적합화 모델읠 교차 검증된 성과를 하는데, 단 하나의 차이점은 feature 중 하나와 관련된 관찰값들을 셔플링한다는 것이다. 그것은 특성당 하나의 수정된 교차검증 성능을 제공한다\n",
    "3. 셔플링 전후의 교차 검증된 성능을 비교함으로써, 특정 feature와 연관된 MDA score를 도출한다. **특성이 중요하다면 특성이 독립인 경우, 셔플링으로 인해 성과의 현저한 저하 현성이 있어야 한다**\n",
    "\n",
    "MDA의 중요한 속성은 MDI와 마찬가지로 단일 추정치의 결과가 아닌 여러개의 추정치의 평균이라는 것이다. 일반적으로, MDA feature importance는 **순열 중요도 (permutation importance)** 로 많이 불리며, 다음과 같이 구현된다\n",
    "\n",
    "```\n",
    "from sklearn.inspection import permutation_importance\n",
    "r = permutation_importance(\n",
    "    model, X_val, y_val,\n",
    "    n_repeats=30,\n",
    "    random_state=0\n",
    ")\n",
    "```\n",
    "\n",
    "우리는 시간의 순서가 중요한 시계열 데이터를 다루고 있으므로 permutation importance를 그대로 쓰는것 보다는 아래 예제의 MDA 특성 중요도를 사용하도록 하자\n",
    "\n",
    "한가지 중요한 점은, feature가 독립적이지 않은 경우 MDA는 상호 관련 특성의 중요성을 과소평가할 수 있다. 극단적으로, 매우 중요하지만 동일한 두가지 feature를 고려할 때, MDA는 한 가지 feature를 셔플링하는 효과가 동인한 다른 feature의 존재로 인해 상쇄될 수 있기 때문에, 두 feature모두 중요하지 않다고 결론내릴 수 있다.아래의 예시를 보고, 이러한 점을 확인해 보자"
   ]
  },
  {
   "cell_type": "code",
   "execution_count": 11,
   "id": "7bdc487ccd5da410",
   "metadata": {
    "ExecuteTime": {
     "end_time": "2024-05-24T13:58:55.665769Z",
     "start_time": "2024-05-24T13:58:53.866961Z"
    }
   },
   "outputs": [],
   "source": [
    "forest = RandomForestClassifier(\n",
    "    criterion = 'entropy',\n",
    "    class_weight = 'balanced_subsample',\n",
    "    min_weight_fraction_leaf = 0.0,\n",
    "    random_state = 42,\n",
    "    n_estimators = 1000,\n",
    "    max_features = 3,\n",
    "    oob_score = True,\n",
    "    n_jobs = 1\n",
    ")\n",
    "\n",
    "fit = forest.fit(X = trnsX, y = cont['bin'])\n",
    "oob_score = fit.oob_score_"
   ]
  },
  {
   "cell_type": "code",
   "execution_count": 12,
   "id": "19f0d17a754d0a92",
   "metadata": {
    "ExecuteTime": {
     "end_time": "2024-05-24T13:59:06.284343Z",
     "start_time": "2024-05-24T13:58:55.666324Z"
    }
   },
   "outputs": [
    {
     "name": "stderr",
     "output_type": "stream",
     "text": [
      "5it [00:10,  2.12s/it]\n"
     ]
    }
   ],
   "source": [
    "mda = mean_decrease_accuracy(\n",
    "    fit, # base classification model\n",
    "    trnsX, # train features\n",
    "    cont['bin'], # train labels\n",
    "    cv_gen, # purged k fold cross validation class\n",
    "    scoring = accuracy_score\n",
    ")"
   ]
  },
  {
   "cell_type": "code",
   "execution_count": 13,
   "id": "47d57aacbfb0ddb7",
   "metadata": {
    "ExecuteTime": {
     "end_time": "2024-05-24T13:59:06.289253Z",
     "start_time": "2024-05-24T13:59:06.285480Z"
    }
   },
   "outputs": [
    {
     "data": {
      "text/html": [
       "<div>\n",
       "<style scoped>\n",
       "    .dataframe tbody tr th:only-of-type {\n",
       "        vertical-align: middle;\n",
       "    }\n",
       "\n",
       "    .dataframe tbody tr th {\n",
       "        vertical-align: top;\n",
       "    }\n",
       "\n",
       "    .dataframe thead th {\n",
       "        text-align: right;\n",
       "    }\n",
       "</style>\n",
       "<table border=\"1\" class=\"dataframe\">\n",
       "  <thead>\n",
       "    <tr style=\"text-align: right;\">\n",
       "      <th></th>\n",
       "      <th>mean</th>\n",
       "      <th>std</th>\n",
       "    </tr>\n",
       "  </thead>\n",
       "  <tbody>\n",
       "    <tr>\n",
       "      <th>I_0</th>\n",
       "      <td>0.132141</td>\n",
       "      <td>0.228427</td>\n",
       "    </tr>\n",
       "    <tr>\n",
       "      <th>I_1</th>\n",
       "      <td>0.104274</td>\n",
       "      <td>0.027225</td>\n",
       "    </tr>\n",
       "    <tr>\n",
       "      <th>I_2</th>\n",
       "      <td>0.111496</td>\n",
       "      <td>0.051622</td>\n",
       "    </tr>\n",
       "    <tr>\n",
       "      <th>I_3</th>\n",
       "      <td>0.142856</td>\n",
       "      <td>0.065140</td>\n",
       "    </tr>\n",
       "    <tr>\n",
       "      <th>I_4</th>\n",
       "      <td>0.133888</td>\n",
       "      <td>0.048109</td>\n",
       "    </tr>\n",
       "  </tbody>\n",
       "</table>\n",
       "</div>"
      ],
      "text/plain": [
       "         mean       std\n",
       "I_0  0.132141  0.228427\n",
       "I_1  0.104274  0.027225\n",
       "I_2  0.111496  0.051622\n",
       "I_3  0.142856  0.065140\n",
       "I_4  0.133888  0.048109"
      ]
     },
     "execution_count": 13,
     "metadata": {},
     "output_type": "execute_result"
    }
   ],
   "source": [
    "mda.head()"
   ]
  },
  {
   "cell_type": "code",
   "execution_count": 14,
   "id": "a0cfd9449628d98a",
   "metadata": {
    "ExecuteTime": {
     "end_time": "2024-05-24T13:59:06.512206Z",
     "start_time": "2024-05-24T13:59:06.290003Z"
    }
   },
   "outputs": [
    {
     "data": {
      "image/png": "[encoded data removed]",
      "text/plain": [
       "<Figure size 1000x400 with 1 Axes>"
      ]
     },
     "metadata": {},
     "output_type": "display_data"
    }
   ],
   "source": [
    "plot_feature_importance(\n",
    "    mda,\n",
    "    oob_score = oob_score,\n",
    "    oos_score = oos_score,\n",
    "    save_fig = True,\n",
    "    output_path = './images/MDA_feature_importance.png'\n",
    ")\n",
    "plt.grid(False)\n",
    "plt.show()"
   ]
  },
  {
   "cell_type": "markdown",
   "id": "6d4405bf87223f04",
   "metadata": {},
   "source": [
    "### Feature Importance without substitution effects\n",
    "\n",
    "대체 효과는 중복되어 있는 중요한 특성을 버리는 결과를 초래할 수 있다. 예측에 있어서는 일반적으로 문제가 되지 않지만, 모델의 이해, 개선, 단순화 과정에서는 잘못된 결론을 이끌 수 있다. 이런 이유로 다음의 Single Feature Importance 기법은 MDI와 MDA의 보완 역할을 할 수 있다."
   ]
  },
  {
   "cell_type": "markdown",
   "id": "97b26586075f09b7",
   "metadata": {},
   "source": [
    "#### Single Feature Importance\n",
    "\n",
    "Single Feature Importance는 횡단면 예측 중요도 방법이다. 이 방법은 각 특성에 대해서 독립적으로 out of sample 성과를 계산한다. 몇 가지 고려사항은 다음과 같다.\n",
    "\n",
    "1. 이 방법은 Tree model 기반의 Ensemble 뿐만 아니라 모든 분류기에 적용할 수 있다.\n",
    "2. SFI는 성과 점수로서 정확도에만 사용되지 않는다.\n",
    "3. MDI나 MDA와 달리 대체 효과는 존재하지 않는다. 이유는 한 번에 하나의 특성만 고려하기 때문이다.\n",
    "4. MDA와 같이 모든 특성이 중요하지 않다는 결론을 내릴 수도 있다. 이유는 성과를 out of sample cross validation을 통해 평가하기 때문이다\n",
    "\n",
    "SFI의 주요 한계는 2개의 특성을 가진 한개의 분류기가 단일 특성을 가진 2개의 분류기의 bagging보다 더 좋은 성과를 발휘할 수 있다는 점이다. 예를 들어, 특성 B가 특성 A와 있을 때에만 유용하거나, 특성 B 혼자로는 정확하지 않아도 특성 A로부터의 분할을 설명하는 데 유용할 수 있다. 다시 말해서 결합 효과나 계층적 중요도는 SFI에서는 모두 사라진다.\n",
    "\n",
    "대안 중 하나는 특성의 부분 집합으로부터 Out of sample 성과를 계산하는 것 이지만, 고려해야 할 특성 주가 증가하면 다루기 힘들어진다. 아래의 코드는 SFI 기법 구현 하나를 보여 준다."
   ]
  },
  {
   "cell_type": "code",
   "execution_count": 15,
   "id": "a1e07a2502fc64f6",
   "metadata": {
    "ExecuteTime": {
     "end_time": "2024-05-24T14:01:17.424549Z",
     "start_time": "2024-05-24T13:59:06.515487Z"
    }
   },
   "outputs": [
    {
     "name": "stderr",
     "output_type": "stream",
     "text": [
      "100%|██████████| 20/20 [02:10<00:00,  6.55s/it]\n"
     ]
    }
   ],
   "source": [
    "sfi = single_feature_importance(\n",
    "    fit, # base classification model\n",
    "    trnsX, # train features\n",
    "    cont['bin'], # train labels\n",
    "    cv_gen, # purged k fold cross validation class\n",
    "    scoring = accuracy_score\n",
    ")"
   ]
  },
  {
   "cell_type": "code",
   "execution_count": null,
   "id": "bea1769b",
   "metadata": {},
   "outputs": [],
   "source": []
  },
  {
   "cell_type": "code",
   "execution_count": 16,
   "id": "1059cacbdf3ac009",
   "metadata": {
    "ExecuteTime": {
     "end_time": "2024-05-24T14:01:17.561884Z",
     "start_time": "2024-05-24T14:01:17.425287Z"
    }
   },
   "outputs": [
    {
     "data": {
      "image/png": "[encoded data removed]",
      "text/plain": [
       "<Figure size 1000x400 with 1 Axes>"
      ]
     },
     "metadata": {},
     "output_type": "display_data"
    }
   ],
   "source": [
    "plot_feature_importance(\n",
    "    sfi,\n",
    "    oob_score = oob_score,\n",
    "    oos_score = oos_score,\n",
    "    save_fig = True,\n",
    "    output_path = './images/SFI_feature_importance.png'\n",
    ")\n",
    "plt.grid(False)\n",
    "plt.show()"
   ]
  },
  {
   "cell_type": "markdown",
   "id": "5bc70064ef3f0b9b",
   "metadata": {},
   "source": [
    "#### Orthogonal Importance\n",
    "\n",
    "대체 효과는 MDI로 특정된 feature importance를 희석 시키고, MDA로 측정된 feature importance를 상당히 과소 평가한다. 부분적인 해법은 MDI나 MDA를 적용하기 전에 특성을 직교시키는 것이다. PCA와 같은 직교화 절차는 모든 대체 효과를 방지하지 못하지만, 적어도 선형 대체 효과의 영향은 완화시킨다."
   ]
  },
  {
   "cell_type": "code",
   "execution_count": 37,
   "id": "77e883c448ecb877",
   "metadata": {
    "ExecuteTime": {
     "end_time": "2024-05-24T14:12:43.994535Z",
     "start_time": "2024-05-24T14:12:43.953090Z"
    }
   },
   "outputs": [],
   "source": [
    "from FinancialMachineLearning.feature_importance.orthogonal import get_orthogonal_features, get_pca_rank_weighted_kendall_tau\n",
    "\n",
    "ortho_features = get_orthogonal_features(trnsX, variance_thresh = 0.95)\n",
    "ortho_features = pd.DataFrame(ortho_features, index = trnsX.index)"
   ]
  },
  {
   "cell_type": "code",
   "execution_count": 28,
   "id": "e85008968c0db057",
   "metadata": {
    "ExecuteTime": {
     "end_time": "2024-05-24T14:06:45.973673Z",
     "start_time": "2024-05-24T14:06:45.800007Z"
    }
   },
   "outputs": [
    {
     "data": {
      "image/png": "[encoded data removed]",
      "text/plain": [
       "<Figure size 600x600 with 4 Axes>"
      ]
     },
     "metadata": {},
     "output_type": "display_data"
    }
   ],
   "source": [
    "import seaborn as sns\n",
    "sns.clustermap(pd.DataFrame(ortho_features).corr(), figsize = (6, 6))\n",
    "plt.show()"
   ]
  },
  {
   "cell_type": "code",
   "execution_count": 32,
   "id": "1ce8b2b836c2286c",
   "metadata": {
    "ExecuteTime": {
     "end_time": "2024-05-24T14:10:45.383395Z",
     "start_time": "2024-05-24T14:10:43.984574Z"
    }
   },
   "outputs": [],
   "source": [
    "forest = RandomForestClassifier(\n",
    "    criterion = 'entropy',\n",
    "    class_weight = 'balanced_subsample',\n",
    "    min_weight_fraction_leaf = 0.0,\n",
    "    random_state = 42,\n",
    "    n_estimators = 1000,\n",
    "    max_features = 1,\n",
    "    oob_score = True,\n",
    "    n_jobs = 1\n",
    ")\n",
    "\n",
    "fit = forest.fit(X = ortho_features, y = cont['bin'])"
   ]
  },
  {
   "cell_type": "code",
   "execution_count": 38,
   "id": "a0db94cd61284983",
   "metadata": {
    "ExecuteTime": {
     "end_time": "2024-05-24T14:12:48.435721Z",
     "start_time": "2024-05-24T14:12:48.433020Z"
    }
   },
   "outputs": [],
   "source": [
    "cv_gen = PurgedKFold(\n",
    "    n_splits = 5, \n",
    "    samples_info_sets = cont['t1']\n",
    ")"
   ]
  },
  {
   "cell_type": "code",
   "execution_count": 39,
   "id": "d42540ed9cfa091e",
   "metadata": {
    "ExecuteTime": {
     "end_time": "2024-05-24T14:12:54.681104Z",
     "start_time": "2024-05-24T14:12:48.755566Z"
    }
   },
   "outputs": [],
   "source": [
    "oos_score = cross_val_score(\n",
    "    forest, # base classifier\n",
    "    ortho_features, # train features\n",
    "    cont['bin'], # train labels\n",
    "    cv_gen = cv_gen, # purged k fold cross validation class\n",
    "    scoring = accuracy_score # optimizing to accuracy score\n",
    ").mean()"
   ]
  },
  {
   "cell_type": "code",
   "execution_count": 42,
   "id": "daa38137c2f5015b",
   "metadata": {
    "ExecuteTime": {
     "end_time": "2024-05-24T14:14:02.472020Z",
     "start_time": "2024-05-24T14:14:02.460863Z"
    }
   },
   "outputs": [],
   "source": [
    "ortho_mdi = mean_decrease_impurity(\n",
    "    fit, # base classification model\n",
    "    ortho_features.columns,\n",
    ")"
   ]
  },
  {
   "cell_type": "code",
   "execution_count": 47,
   "id": "196b4d175f2e2909",
   "metadata": {
    "ExecuteTime": {
     "end_time": "2024-05-24T14:15:15.287389Z",
     "start_time": "2024-05-24T14:15:15.281457Z"
    }
   },
   "outputs": [
    {
     "data": {
      "text/html": [
       "<div>\n",
       "<style scoped>\n",
       "    .dataframe tbody tr th:only-of-type {\n",
       "        vertical-align: middle;\n",
       "    }\n",
       "\n",
       "    .dataframe tbody tr th {\n",
       "        vertical-align: top;\n",
       "    }\n",
       "\n",
       "    .dataframe thead th {\n",
       "        text-align: right;\n",
       "    }\n",
       "</style>\n",
       "<table border=\"1\" class=\"dataframe\">\n",
       "  <thead>\n",
       "    <tr style=\"text-align: right;\">\n",
       "      <th></th>\n",
       "      <th>mean</th>\n",
       "      <th>std</th>\n",
       "    </tr>\n",
       "  </thead>\n",
       "  <tbody>\n",
       "    <tr>\n",
       "      <th>0</th>\n",
       "      <td>0.123077</td>\n",
       "      <td>0.001958</td>\n",
       "    </tr>\n",
       "    <tr>\n",
       "      <th>1</th>\n",
       "      <td>0.232417</td>\n",
       "      <td>0.003438</td>\n",
       "    </tr>\n",
       "    <tr>\n",
       "      <th>2</th>\n",
       "      <td>0.091112</td>\n",
       "      <td>0.001231</td>\n",
       "    </tr>\n",
       "    <tr>\n",
       "      <th>3</th>\n",
       "      <td>0.051225</td>\n",
       "      <td>0.000672</td>\n",
       "    </tr>\n",
       "    <tr>\n",
       "      <th>4</th>\n",
       "      <td>0.049399</td>\n",
       "      <td>0.000647</td>\n",
       "    </tr>\n",
       "  </tbody>\n",
       "</table>\n",
       "</div>"
      ],
      "text/plain": [
       "       mean       std\n",
       "0  0.123077  0.001958\n",
       "1  0.232417  0.003438\n",
       "2  0.091112  0.001231\n",
       "3  0.051225  0.000672\n",
       "4  0.049399  0.000647"
      ]
     },
     "execution_count": 47,
     "metadata": {},
     "output_type": "execute_result"
    }
   ],
   "source": [
    "ortho_mdi.head()"
   ]
  },
  {
   "cell_type": "code",
   "execution_count": 48,
   "id": "43b94f00b0124d66",
   "metadata": {
    "ExecuteTime": {
     "end_time": "2024-05-24T14:15:28.692547Z",
     "start_time": "2024-05-24T14:15:28.576267Z"
    }
   },
   "outputs": [
    {
     "data": {
      "image/png": "[encoded data removed]",
      "text/plain": [
       "<Figure size 1000x280 with 1 Axes>"
      ]
     },
     "metadata": {},
     "output_type": "display_data"
    }
   ],
   "source": [
    "plot_feature_importance(\n",
    "    ortho_mdi,\n",
    "    oob_score = oob_score,\n",
    "    oos_score = oos_score,\n",
    "    save_fig = True,\n",
    "    output_path = './images/Ortho_MDI_feature_importance.png'\n",
    ")\n",
    "plt.grid(False)\n",
    "plt.show()"
   ]
  },
  {
   "cell_type": "code",
   "execution_count": 49,
   "id": "996e956c98236c62",
   "metadata": {
    "ExecuteTime": {
     "end_time": "2024-05-24T14:15:59.071713Z",
     "start_time": "2024-05-24T14:15:59.063933Z"
    }
   },
   "outputs": [],
   "source": [
    "from FinancialMachineLearning.feature_importance.orthogonal import feature_pca_analysis\n",
    "\n",
    "pca_mdi = feature_pca_analysis(\n",
    "    ortho_features, \n",
    "    feature_importance = ortho_mdi,\n",
    "    variance_thresh = 0.95\n",
    ")"
   ]
  },
  {
   "cell_type": "code",
   "execution_count": 50,
   "id": "4d3fd42205de88f8",
   "metadata": {
    "ExecuteTime": {
     "end_time": "2024-05-24T14:16:06.236075Z",
     "start_time": "2024-05-24T14:16:06.233645Z"
    }
   },
   "outputs": [
    {
     "data": {
      "text/plain": [
       "{'Pearson': PearsonRResult(statistic=0.05265772290001818, pvalue=0.46355755972757967),\n",
       " 'Spearman': SignificanceResult(statistic=0.1380204078609633, pvalue=0.053709865837689594),\n",
       " 'Kendall': SignificanceResult(statistic=0.09772182062086067, pvalue=0.04880014677509788),\n",
       " 'Weighted_Kendall_Rank': SignificanceResult(statistic=0.30025828278416544, pvalue=nan)}"
      ]
     },
     "execution_count": 50,
     "metadata": {},
     "output_type": "execute_result"
    }
   ],
   "source": [
    "pca_mdi"
   ]
  },
  {
   "cell_type": "code",
   "execution_count": 51,
   "id": "786964be297f489d",
   "metadata": {
    "ExecuteTime": {
     "end_time": "2024-05-24T14:16:47.762447Z",
     "start_time": "2024-05-24T14:16:45.759507Z"
    }
   },
   "outputs": [],
   "source": [
    "forest = RandomForestClassifier(\n",
    "    criterion = 'entropy',\n",
    "    class_weight = 'balanced_subsample',\n",
    "    min_weight_fraction_leaf = 0.0,\n",
    "    random_state = 42,\n",
    "    n_estimators = 1000,\n",
    "    max_features = 3,\n",
    "    oob_score = True,\n",
    "    n_jobs = 1\n",
    ")\n",
    "\n",
    "fit = forest.fit(X = ortho_features, y = cont['bin'])"
   ]
  },
  {
   "cell_type": "code",
   "execution_count": 52,
   "id": "74b9cdb608e2b849",
   "metadata": {
    "ExecuteTime": {
     "end_time": "2024-05-24T14:17:18.282104Z",
     "start_time": "2024-05-24T14:17:10.015322Z"
    }
   },
   "outputs": [],
   "source": [
    "oos_score = cross_val_score(\n",
    "    forest, # base classifier\n",
    "    ortho_features, # train features\n",
    "    cont['bin'], # train labels\n",
    "    cv_gen = cv_gen, # purged k fold cross validation class\n",
    "    scoring = accuracy_score # optimizing to accuracy score\n",
    ").mean()"
   ]
  },
  {
   "cell_type": "code",
   "execution_count": 53,
   "id": "5c8cb916f81fb7d6",
   "metadata": {
    "ExecuteTime": {
     "end_time": "2024-05-24T14:17:29.475256Z",
     "start_time": "2024-05-24T14:17:29.462487Z"
    }
   },
   "outputs": [],
   "source": [
    "ortho_mda = mean_decrease_impurity(\n",
    "    fit, # base classification model\n",
    "    ortho_features.columns,\n",
    ")"
   ]
  },
  {
   "cell_type": "code",
   "execution_count": 54,
   "id": "e97a4b714bb6c918",
   "metadata": {
    "ExecuteTime": {
     "end_time": "2024-05-24T14:17:53.458912Z",
     "start_time": "2024-05-24T14:17:53.454897Z"
    }
   },
   "outputs": [
    {
     "data": {
      "text/html": [
       "<div>\n",
       "<style scoped>\n",
       "    .dataframe tbody tr th:only-of-type {\n",
       "        vertical-align: middle;\n",
       "    }\n",
       "\n",
       "    .dataframe tbody tr th {\n",
       "        vertical-align: top;\n",
       "    }\n",
       "\n",
       "    .dataframe thead th {\n",
       "        text-align: right;\n",
       "    }\n",
       "</style>\n",
       "<table border=\"1\" class=\"dataframe\">\n",
       "  <thead>\n",
       "    <tr style=\"text-align: right;\">\n",
       "      <th></th>\n",
       "      <th>mean</th>\n",
       "      <th>std</th>\n",
       "    </tr>\n",
       "  </thead>\n",
       "  <tbody>\n",
       "    <tr>\n",
       "      <th>0</th>\n",
       "      <td>0.163280</td>\n",
       "      <td>0.001933</td>\n",
       "    </tr>\n",
       "    <tr>\n",
       "      <th>1</th>\n",
       "      <td>0.342852</td>\n",
       "      <td>0.002619</td>\n",
       "    </tr>\n",
       "    <tr>\n",
       "      <th>2</th>\n",
       "      <td>0.118603</td>\n",
       "      <td>0.001204</td>\n",
       "    </tr>\n",
       "    <tr>\n",
       "      <th>3</th>\n",
       "      <td>0.034821</td>\n",
       "      <td>0.000585</td>\n",
       "    </tr>\n",
       "    <tr>\n",
       "      <th>4</th>\n",
       "      <td>0.029213</td>\n",
       "      <td>0.000544</td>\n",
       "    </tr>\n",
       "  </tbody>\n",
       "</table>\n",
       "</div>"
      ],
      "text/plain": [
       "       mean       std\n",
       "0  0.163280  0.001933\n",
       "1  0.342852  0.002619\n",
       "2  0.118603  0.001204\n",
       "3  0.034821  0.000585\n",
       "4  0.029213  0.000544"
      ]
     },
     "execution_count": 54,
     "metadata": {},
     "output_type": "execute_result"
    }
   ],
   "source": [
    "ortho_mda.head()"
   ]
  },
  {
   "cell_type": "code",
   "execution_count": 55,
   "id": "bf82c341c659214c",
   "metadata": {
    "ExecuteTime": {
     "end_time": "2024-05-24T14:18:01.376611Z",
     "start_time": "2024-05-24T14:18:01.257389Z"
    }
   },
   "outputs": [
    {
     "data": {
      "image/png": "[encoded data removed]",
      "text/plain": [
       "<Figure size 1000x280 with 1 Axes>"
      ]
     },
     "metadata": {},
     "output_type": "display_data"
    }
   ],
   "source": [
    "plot_feature_importance(\n",
    "    ortho_mda,\n",
    "    oob_score = oob_score,\n",
    "    oos_score = oos_score,\n",
    "    save_fig = True,\n",
    "    output_path = './images/Ortho_MDA_feature_importance.png'\n",
    ")\n",
    "plt.grid(False)\n",
    "plt.show()"
   ]
  },
  {
   "cell_type": "code",
   "execution_count": 56,
   "id": "4e4430acfb0af581",
   "metadata": {
    "ExecuteTime": {
     "end_time": "2024-05-24T14:18:23.003954Z",
     "start_time": "2024-05-24T14:18:21.619824Z"
    }
   },
   "outputs": [],
   "source": [
    "forest = RandomForestClassifier(\n",
    "    criterion = 'entropy',\n",
    "    class_weight = 'balanced_subsample',\n",
    "    min_weight_fraction_leaf = 0.0,\n",
    "    random_state = 42,\n",
    "    n_estimators = 1000,\n",
    "    max_features = 1,\n",
    "    oob_score = True,\n",
    "    n_jobs = 1\n",
    ")\n",
    "\n",
    "fit = forest.fit(X = ortho_features, y = cont['bin'])"
   ]
  },
  {
   "cell_type": "code",
   "execution_count": 58,
   "id": "9f2c612482f762a6",
   "metadata": {
    "ExecuteTime": {
     "end_time": "2024-05-24T14:22:26.537418Z",
     "start_time": "2024-05-24T14:20:54.742398Z"
    }
   },
   "outputs": [
    {
     "name": "stderr",
     "output_type": "stream",
     "text": [
      "100%|██████████| 14/14 [01:31<00:00,  6.56s/it]\n"
     ]
    }
   ],
   "source": [
    "ortho_sfi = single_feature_importance(\n",
    "    fit, # base classification model\n",
    "    ortho_features, # train features\n",
    "    cont['bin'], # train labels\n",
    "    cv_gen, # purged k fold cross validation class\n",
    "    scoring = accuracy_score\n",
    ")"
   ]
  },
  {
   "cell_type": "code",
   "execution_count": 59,
   "id": "1504aea24267f3c3",
   "metadata": {
    "ExecuteTime": {
     "end_time": "2024-05-24T14:25:51.040045Z",
     "start_time": "2024-05-24T14:25:51.036448Z"
    }
   },
   "outputs": [
    {
     "data": {
      "text/html": [
       "<div>\n",
       "<style scoped>\n",
       "    .dataframe tbody tr th:only-of-type {\n",
       "        vertical-align: middle;\n",
       "    }\n",
       "\n",
       "    .dataframe tbody tr th {\n",
       "        vertical-align: top;\n",
       "    }\n",
       "\n",
       "    .dataframe thead th {\n",
       "        text-align: right;\n",
       "    }\n",
       "</style>\n",
       "<table border=\"1\" class=\"dataframe\">\n",
       "  <thead>\n",
       "    <tr style=\"text-align: right;\">\n",
       "      <th></th>\n",
       "      <th>mean</th>\n",
       "      <th>std</th>\n",
       "    </tr>\n",
       "  </thead>\n",
       "  <tbody>\n",
       "    <tr>\n",
       "      <th>0</th>\n",
       "      <td>0.466</td>\n",
       "      <td>0.033178</td>\n",
       "    </tr>\n",
       "    <tr>\n",
       "      <th>1</th>\n",
       "      <td>0.627</td>\n",
       "      <td>0.046143</td>\n",
       "    </tr>\n",
       "    <tr>\n",
       "      <th>2</th>\n",
       "      <td>0.483</td>\n",
       "      <td>0.071114</td>\n",
       "    </tr>\n",
       "    <tr>\n",
       "      <th>3</th>\n",
       "      <td>0.443</td>\n",
       "      <td>0.023858</td>\n",
       "    </tr>\n",
       "    <tr>\n",
       "      <th>4</th>\n",
       "      <td>0.437</td>\n",
       "      <td>0.031324</td>\n",
       "    </tr>\n",
       "  </tbody>\n",
       "</table>\n",
       "</div>"
      ],
      "text/plain": [
       "    mean       std\n",
       "0  0.466  0.033178\n",
       "1  0.627  0.046143\n",
       "2  0.483  0.071114\n",
       "3  0.443  0.023858\n",
       "4  0.437  0.031324"
      ]
     },
     "execution_count": 59,
     "metadata": {},
     "output_type": "execute_result"
    }
   ],
   "source": [
    "ortho_sfi.head()"
   ]
  },
  {
   "cell_type": "code",
   "execution_count": 60,
   "id": "dcc4e3deba1dcb57",
   "metadata": {
    "ExecuteTime": {
     "end_time": "2024-05-24T14:26:02.006619Z",
     "start_time": "2024-05-24T14:26:01.884425Z"
    }
   },
   "outputs": [
    {
     "data": {
      "image/png": "[encoded data removed]",
      "text/plain": [
       "<Figure size 1000x280 with 1 Axes>"
      ]
     },
     "metadata": {},
     "output_type": "display_data"
    }
   ],
   "source": [
    "plot_feature_importance(\n",
    "    ortho_sfi,\n",
    "    oob_score = oob_score,\n",
    "    oos_score = oos_score,\n",
    "    save_fig = True,\n",
    "    output_path = './images/Ortho_SFI_feature_importance.png'\n",
    ")\n",
    "plt.grid(False)\n",
    "plt.show()"
   ]
  }
 ],
 "metadata": {
  "kernelspec": {
   "display_name": ".venv (3.12.3)",
   "language": "python",
   "name": "python3"
  },
  "language_info": {
   "codemirror_mode": {
    "name": "ipython",
    "version": 3
   },
   "file_extension": ".py",
   "mimetype": "text/x-python",
   "name": "python",
   "nbconvert_exporter": "python",
   "pygments_lexer": "ipython3",
   "version": "3.12.3"
  }
 },
 "nbformat": 4,
 "nbformat_minor": 5
}
