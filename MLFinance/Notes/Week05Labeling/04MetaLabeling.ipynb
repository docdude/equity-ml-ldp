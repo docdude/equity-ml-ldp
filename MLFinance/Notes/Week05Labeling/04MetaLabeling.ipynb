{
 "cells": [
  {
   "cell_type": "markdown",
   "id": "c283bd6525f2238e",
   "metadata": {
    "collapsed": false
   },
   "source": [
    "### Meta Labeling\n",
    "\n",
    "Let's assume a situation where we already have a model that sets the direction of the bet (sell or buy). In this case, you only need to know the size of the bet, but there is a possibility that there is no bet. This is a situation that is always encountered in the field. Since we usually know whether to buy or sell, the remaining problem is deciding how much to spend. We simply do not want the machine learning algorithm to learn the direction of bets, such as buying or selling, and then easily tell us what the appropriate bet size is. Perhaps you have already become accustomed to the fact that no books or papers have been published on this issue.\n",
    "\n",
    "Fortunately, this problem can be solved here. Lopez de Prado calls this problem Meta Labeling because he wants to build a secondary machine learning model that learns how to use the first-order exogenous model."
   ]
  },
  {
   "cell_type": "markdown",
   "id": "900d751ff7708020",
   "metadata": {
    "collapsed": false
   },
   "source": [
    "The process below is the same as the method established in the Triple Barrier Method."
   ]
  },
  {
   "cell_type": "code",
   "execution_count": 5,
   "id": "initial_id",
   "metadata": {
    "ExecuteTime": {
     "end_time": "2024-04-27T14:28:46.210396Z",
     "start_time": "2024-04-27T14:28:42.648601Z"
    },
    "collapsed": true
   },
   "outputs": [
    {
     "name": "stderr",
     "output_type": "stream",
     "text": [
      "[*********************100%***********************]  1 of 1 completed\n"
     ]
    }
   ],
   "source": [
    "import yfinance as yf\n",
    "import numpy as np\n",
    "import pandas as pd\n",
    "import matplotlib.pyplot as plt\n",
    "from FinancialMachineLearning.labeling.labeling import *\n",
    "from FinancialMachineLearning.features.volatility import daily_volatility\n",
    "\n",
    "start_date = '2000-01-01'\n",
    "end_date = '2024-04-27'\n",
    "ticker = 'AAPL'\n",
    "data = yf.download(\n",
    "    ticker, \n",
    "    start = start_date, \n",
    "    end = end_date,\n",
    "    multi_level_index=False,\n",
    "    auto_adjust=True  # Recommended: returns adjusted OHLC prices\n",
    ")"
   ]
  },
  {
   "cell_type": "code",
   "execution_count": 6,
   "id": "a29818a962b3278c",
   "metadata": {
    "ExecuteTime": {
     "end_time": "2024-04-27T14:28:46.219619Z",
     "start_time": "2024-04-27T14:28:46.211833Z"
    },
    "collapsed": false
   },
   "outputs": [
    {
     "data": {
      "application/vnd.microsoft.datawrangler.viewer.v0+json": {
       "columns": [
        {
         "name": "Date",
         "rawType": "datetime64[ns]",
         "type": "datetime"
        },
        {
         "name": "Date",
         "rawType": "datetime64[ns]",
         "type": "datetime"
        }
       ],
       "ref": "25630fb0-0a2e-459d-821e-8d0b3218b374",
       "rows": [
        [
         "2000-01-03 00:00:00",
         "2000-01-10 00:00:00"
        ],
        [
         "2000-01-04 00:00:00",
         "2000-01-11 00:00:00"
        ],
        [
         "2000-01-05 00:00:00",
         "2000-01-12 00:00:00"
        ],
        [
         "2000-01-06 00:00:00",
         "2000-01-13 00:00:00"
        ],
        [
         "2000-01-07 00:00:00",
         "2000-01-14 00:00:00"
        ]
       ],
       "shape": {
        "columns": 1,
        "rows": 5
       }
      },
      "text/plain": [
       "Date\n",
       "2000-01-03   2000-01-10\n",
       "2000-01-04   2000-01-11\n",
       "2000-01-05   2000-01-12\n",
       "2000-01-06   2000-01-13\n",
       "2000-01-07   2000-01-14\n",
       "Name: Date, dtype: datetime64[ns]"
      ]
     },
     "execution_count": 6,
     "metadata": {},
     "output_type": "execute_result"
    }
   ],
   "source": [
    "vertical_barrier = add_vertical_barrier(\n",
    "    data.index, \n",
    "    data['Close'], \n",
    "    num_days = 7 # expariation limit\n",
    ")\n",
    "vertical_barrier.head()"
   ]
  },
  {
   "cell_type": "code",
   "execution_count": 7,
   "id": "71a9366a21b67ff2",
   "metadata": {
    "ExecuteTime": {
     "end_time": "2024-04-27T14:28:46.228970Z",
     "start_time": "2024-04-27T14:28:46.221474Z"
    },
    "collapsed": false
   },
   "outputs": [],
   "source": [
    "volatility = daily_volatility(\n",
    "    data['Close'], \n",
    "    lookback = 60 # moving average span\n",
    ")"
   ]
  },
  {
   "cell_type": "code",
   "execution_count": 8,
   "id": "73a1f1c02600b49a",
   "metadata": {
    "ExecuteTime": {
     "end_time": "2024-04-27T14:28:50.841725Z",
     "start_time": "2024-04-27T14:28:46.229899Z"
    },
    "collapsed": false
   },
   "outputs": [
    {
     "data": {
      "application/vnd.microsoft.datawrangler.viewer.v0+json": {
       "columns": [
        {
         "name": "Date",
         "rawType": "datetime64[ns]",
         "type": "datetime"
        },
        {
         "name": "t1",
         "rawType": "datetime64[ns]",
         "type": "datetime"
        },
        {
         "name": "trgt",
         "rawType": "float64",
         "type": "float"
        },
        {
         "name": "pt",
         "rawType": "int64",
         "type": "integer"
        },
        {
         "name": "sl",
         "rawType": "int64",
         "type": "integer"
        }
       ],
       "ref": "3642f413-b1dc-4565-8904-18325e415565",
       "rows": [
        [
         "2000-01-07 00:00:00",
         "2000-01-11 00:00:00",
         "0.016797580484398653",
         "2",
         "1"
        ],
        [
         "2000-01-10 00:00:00",
         "2000-01-12 00:00:00",
         "0.026414723070588182",
         "2",
         "1"
        ],
        [
         "2000-01-11 00:00:00",
         "2000-01-12 00:00:00",
         "0.02404322645165625",
         "2",
         "1"
        ],
        [
         "2000-01-12 00:00:00",
         "2000-01-13 00:00:00",
         "0.031168279547750602",
         "2",
         "1"
        ],
        [
         "2000-01-13 00:00:00",
         "2000-01-19 00:00:00",
         "0.050702969762129",
         "2",
         "1"
        ]
       ],
       "shape": {
        "columns": 4,
        "rows": 5
       }
      },
      "text/html": [
       "<div>\n",
       "<style scoped>\n",
       "    .dataframe tbody tr th:only-of-type {\n",
       "        vertical-align: middle;\n",
       "    }\n",
       "\n",
       "    .dataframe tbody tr th {\n",
       "        vertical-align: top;\n",
       "    }\n",
       "\n",
       "    .dataframe thead th {\n",
       "        text-align: right;\n",
       "    }\n",
       "</style>\n",
       "<table border=\"1\" class=\"dataframe\">\n",
       "  <thead>\n",
       "    <tr style=\"text-align: right;\">\n",
       "      <th></th>\n",
       "      <th>t1</th>\n",
       "      <th>trgt</th>\n",
       "      <th>pt</th>\n",
       "      <th>sl</th>\n",
       "    </tr>\n",
       "    <tr>\n",
       "      <th>Date</th>\n",
       "      <th></th>\n",
       "      <th></th>\n",
       "      <th></th>\n",
       "      <th></th>\n",
       "    </tr>\n",
       "  </thead>\n",
       "  <tbody>\n",
       "    <tr>\n",
       "      <th>2000-01-07</th>\n",
       "      <td>2000-01-11</td>\n",
       "      <td>0.016798</td>\n",
       "      <td>2</td>\n",
       "      <td>1</td>\n",
       "    </tr>\n",
       "    <tr>\n",
       "      <th>2000-01-10</th>\n",
       "      <td>2000-01-12</td>\n",
       "      <td>0.026415</td>\n",
       "      <td>2</td>\n",
       "      <td>1</td>\n",
       "    </tr>\n",
       "    <tr>\n",
       "      <th>2000-01-11</th>\n",
       "      <td>2000-01-12</td>\n",
       "      <td>0.024043</td>\n",
       "      <td>2</td>\n",
       "      <td>1</td>\n",
       "    </tr>\n",
       "    <tr>\n",
       "      <th>2000-01-12</th>\n",
       "      <td>2000-01-13</td>\n",
       "      <td>0.031168</td>\n",
       "      <td>2</td>\n",
       "      <td>1</td>\n",
       "    </tr>\n",
       "    <tr>\n",
       "      <th>2000-01-13</th>\n",
       "      <td>2000-01-19</td>\n",
       "      <td>0.050703</td>\n",
       "      <td>2</td>\n",
       "      <td>1</td>\n",
       "    </tr>\n",
       "  </tbody>\n",
       "</table>\n",
       "</div>"
      ],
      "text/plain": [
       "                   t1      trgt  pt  sl\n",
       "Date                                   \n",
       "2000-01-07 2000-01-11  0.016798   2   1\n",
       "2000-01-10 2000-01-12  0.026415   2   1\n",
       "2000-01-11 2000-01-12  0.024043   2   1\n",
       "2000-01-12 2000-01-13  0.031168   2   1\n",
       "2000-01-13 2000-01-19  0.050703   2   1"
      ]
     },
     "execution_count": 8,
     "metadata": {},
     "output_type": "execute_result"
    }
   ],
   "source": [
    "triple_barrier_events = get_events(\n",
    "    close = data['Close'],\n",
    "    t_events = data.index[2:],\n",
    "    pt_sl = [2, 1], # profit taking 2, stopping loss 1\n",
    "    target = volatility, # dynamic threshold\n",
    "    min_ret = 0.01, # minimum position return\n",
    "    num_threads = 1, # number of multi-thread \n",
    "    vertical_barrier_times = vertical_barrier, # add vertical barrier\n",
    "    side_prediction = None # betting side prediction (primary model)\n",
    ")\n",
    "triple_barrier_events.head()"
   ]
  },
  {
   "cell_type": "code",
   "execution_count": 9,
   "id": "dc5c8b403f594c82",
   "metadata": {
    "ExecuteTime": {
     "end_time": "2024-04-27T14:28:51.219366Z",
     "start_time": "2024-04-27T14:28:50.842680Z"
    },
    "collapsed": false
   },
   "outputs": [],
   "source": [
    "labels = meta_labeling(\n",
    "    triple_barrier_events, \n",
    "    data['Close']\n",
    ")"
   ]
  },
  {
   "cell_type": "code",
   "execution_count": 10,
   "id": "528377cb76b8da53",
   "metadata": {
    "ExecuteTime": {
     "end_time": "2024-04-27T14:28:51.225952Z",
     "start_time": "2024-04-27T14:28:51.220378Z"
    },
    "collapsed": false
   },
   "outputs": [
    {
     "data": {
      "application/vnd.microsoft.datawrangler.viewer.v0+json": {
       "columns": [
        {
         "name": "Date",
         "rawType": "datetime64[ns]",
         "type": "datetime"
        },
        {
         "name": "ret",
         "rawType": "float64",
         "type": "float"
        },
        {
         "name": "trgt",
         "rawType": "float64",
         "type": "float"
        },
        {
         "name": "bin",
         "rawType": "int64",
         "type": "integer"
        }
       ],
       "ref": "74f49032-9cb2-428f-8c29-bc46b5f66740",
       "rows": [
        [
         "2000-01-07 00:00:00",
         "-0.06783934157881688",
         "0.016797580484398653",
         "-1"
        ],
        [
         "2000-01-10 00:00:00",
         "-0.10805640603819744",
         "0.026414723070588182",
         "-1"
        ],
        [
         "2000-01-11 00:00:00",
         "-0.05997315060629482",
         "0.02404322645165625",
         "-1"
        ],
        [
         "2000-01-12 00:00:00",
         "0.10967700092575372",
         "0.031168279547750602",
         "1"
        ],
        [
         "2000-01-13 00:00:00",
         "0.1014218866923371",
         "0.050702969762129",
         "0"
        ]
       ],
       "shape": {
        "columns": 3,
        "rows": 5
       }
      },
      "text/html": [
       "<div>\n",
       "<style scoped>\n",
       "    .dataframe tbody tr th:only-of-type {\n",
       "        vertical-align: middle;\n",
       "    }\n",
       "\n",
       "    .dataframe tbody tr th {\n",
       "        vertical-align: top;\n",
       "    }\n",
       "\n",
       "    .dataframe thead th {\n",
       "        text-align: right;\n",
       "    }\n",
       "</style>\n",
       "<table border=\"1\" class=\"dataframe\">\n",
       "  <thead>\n",
       "    <tr style=\"text-align: right;\">\n",
       "      <th></th>\n",
       "      <th>ret</th>\n",
       "      <th>trgt</th>\n",
       "      <th>bin</th>\n",
       "    </tr>\n",
       "    <tr>\n",
       "      <th>Date</th>\n",
       "      <th></th>\n",
       "      <th></th>\n",
       "      <th></th>\n",
       "    </tr>\n",
       "  </thead>\n",
       "  <tbody>\n",
       "    <tr>\n",
       "      <th>2000-01-07</th>\n",
       "      <td>-0.067839</td>\n",
       "      <td>0.016798</td>\n",
       "      <td>-1</td>\n",
       "    </tr>\n",
       "    <tr>\n",
       "      <th>2000-01-10</th>\n",
       "      <td>-0.108056</td>\n",
       "      <td>0.026415</td>\n",
       "      <td>-1</td>\n",
       "    </tr>\n",
       "    <tr>\n",
       "      <th>2000-01-11</th>\n",
       "      <td>-0.059973</td>\n",
       "      <td>0.024043</td>\n",
       "      <td>-1</td>\n",
       "    </tr>\n",
       "    <tr>\n",
       "      <th>2000-01-12</th>\n",
       "      <td>0.109677</td>\n",
       "      <td>0.031168</td>\n",
       "      <td>1</td>\n",
       "    </tr>\n",
       "    <tr>\n",
       "      <th>2000-01-13</th>\n",
       "      <td>0.101422</td>\n",
       "      <td>0.050703</td>\n",
       "      <td>0</td>\n",
       "    </tr>\n",
       "  </tbody>\n",
       "</table>\n",
       "</div>"
      ],
      "text/plain": [
       "                 ret      trgt  bin\n",
       "Date                               \n",
       "2000-01-07 -0.067839  0.016798   -1\n",
       "2000-01-10 -0.108056  0.026415   -1\n",
       "2000-01-11 -0.059973  0.024043   -1\n",
       "2000-01-12  0.109677  0.031168    1\n",
       "2000-01-13  0.101422  0.050703    0"
      ]
     },
     "execution_count": 10,
     "metadata": {},
     "output_type": "execute_result"
    }
   ],
   "source": [
    "labels.head()"
   ]
  },
  {
   "cell_type": "code",
   "execution_count": 11,
   "id": "2572e3d1e7224314",
   "metadata": {
    "ExecuteTime": {
     "end_time": "2024-04-27T14:28:51.236377Z",
     "start_time": "2024-04-27T14:28:51.227273Z"
    },
    "collapsed": false
   },
   "outputs": [
    {
     "data": {
      "application/vnd.microsoft.datawrangler.viewer.v0+json": {
       "columns": [
        {
         "name": "Date",
         "rawType": "datetime64[ns]",
         "type": "datetime"
        },
        {
         "name": "t1",
         "rawType": "datetime64[ns]",
         "type": "datetime"
        },
        {
         "name": "trgt",
         "rawType": "float64",
         "type": "float"
        },
        {
         "name": "pt",
         "rawType": "int64",
         "type": "integer"
        },
        {
         "name": "sl",
         "rawType": "int64",
         "type": "integer"
        },
        {
         "name": "side",
         "rawType": "float64",
         "type": "float"
        }
       ],
       "ref": "a6dde111-0da4-4c7e-8393-8f727fd51e03",
       "rows": [
        [
         "2000-01-07 00:00:00",
         "2000-01-11 00:00:00",
         "0.016797580484398653",
         "2",
         "1",
         "-1.0"
        ],
        [
         "2000-01-10 00:00:00",
         "2000-01-12 00:00:00",
         "0.026414723070588182",
         "2",
         "1",
         "-1.0"
        ],
        [
         "2000-01-11 00:00:00",
         "2000-01-12 00:00:00",
         "0.02404322645165625",
         "2",
         "1",
         "-1.0"
        ],
        [
         "2000-01-12 00:00:00",
         "2000-01-13 00:00:00",
         "0.031168279547750602",
         "2",
         "1",
         "1.0"
        ],
        [
         "2000-01-13 00:00:00",
         "2000-01-19 00:00:00",
         "0.050702969762129",
         "2",
         "1",
         "0.0"
        ]
       ],
       "shape": {
        "columns": 5,
        "rows": 5
       }
      },
      "text/html": [
       "<div>\n",
       "<style scoped>\n",
       "    .dataframe tbody tr th:only-of-type {\n",
       "        vertical-align: middle;\n",
       "    }\n",
       "\n",
       "    .dataframe tbody tr th {\n",
       "        vertical-align: top;\n",
       "    }\n",
       "\n",
       "    .dataframe thead th {\n",
       "        text-align: right;\n",
       "    }\n",
       "</style>\n",
       "<table border=\"1\" class=\"dataframe\">\n",
       "  <thead>\n",
       "    <tr style=\"text-align: right;\">\n",
       "      <th></th>\n",
       "      <th>t1</th>\n",
       "      <th>trgt</th>\n",
       "      <th>pt</th>\n",
       "      <th>sl</th>\n",
       "      <th>side</th>\n",
       "    </tr>\n",
       "    <tr>\n",
       "      <th>Date</th>\n",
       "      <th></th>\n",
       "      <th></th>\n",
       "      <th></th>\n",
       "      <th></th>\n",
       "      <th></th>\n",
       "    </tr>\n",
       "  </thead>\n",
       "  <tbody>\n",
       "    <tr>\n",
       "      <th>2000-01-07</th>\n",
       "      <td>2000-01-11</td>\n",
       "      <td>0.016798</td>\n",
       "      <td>2</td>\n",
       "      <td>1</td>\n",
       "      <td>-1.0</td>\n",
       "    </tr>\n",
       "    <tr>\n",
       "      <th>2000-01-10</th>\n",
       "      <td>2000-01-12</td>\n",
       "      <td>0.026415</td>\n",
       "      <td>2</td>\n",
       "      <td>1</td>\n",
       "      <td>-1.0</td>\n",
       "    </tr>\n",
       "    <tr>\n",
       "      <th>2000-01-11</th>\n",
       "      <td>2000-01-12</td>\n",
       "      <td>0.024043</td>\n",
       "      <td>2</td>\n",
       "      <td>1</td>\n",
       "      <td>-1.0</td>\n",
       "    </tr>\n",
       "    <tr>\n",
       "      <th>2000-01-12</th>\n",
       "      <td>2000-01-13</td>\n",
       "      <td>0.031168</td>\n",
       "      <td>2</td>\n",
       "      <td>1</td>\n",
       "      <td>1.0</td>\n",
       "    </tr>\n",
       "    <tr>\n",
       "      <th>2000-01-13</th>\n",
       "      <td>2000-01-19</td>\n",
       "      <td>0.050703</td>\n",
       "      <td>2</td>\n",
       "      <td>1</td>\n",
       "      <td>0.0</td>\n",
       "    </tr>\n",
       "  </tbody>\n",
       "</table>\n",
       "</div>"
      ],
      "text/plain": [
       "                   t1      trgt  pt  sl  side\n",
       "Date                                         \n",
       "2000-01-07 2000-01-11  0.016798   2   1  -1.0\n",
       "2000-01-10 2000-01-12  0.026415   2   1  -1.0\n",
       "2000-01-11 2000-01-12  0.024043   2   1  -1.0\n",
       "2000-01-12 2000-01-13  0.031168   2   1   1.0\n",
       "2000-01-13 2000-01-19  0.050703   2   1   0.0"
      ]
     },
     "execution_count": 11,
     "metadata": {},
     "output_type": "execute_result"
    }
   ],
   "source": [
    "triple_barrier_events['side'] = labels['bin']\n",
    "triple_barrier_events.head()"
   ]
  },
  {
   "cell_type": "code",
   "execution_count": 12,
   "id": "2d2b8e613727232f",
   "metadata": {
    "ExecuteTime": {
     "end_time": "2024-04-27T14:28:51.615395Z",
     "start_time": "2024-04-27T14:28:51.237430Z"
    },
    "collapsed": false
   },
   "outputs": [
    {
     "data": {
      "application/vnd.microsoft.datawrangler.viewer.v0+json": {
       "columns": [
        {
         "name": "Date",
         "rawType": "datetime64[ns]",
         "type": "datetime"
        },
        {
         "name": "ret",
         "rawType": "float64",
         "type": "float"
        },
        {
         "name": "trgt",
         "rawType": "float64",
         "type": "float"
        },
        {
         "name": "bin",
         "rawType": "int64",
         "type": "integer"
        },
        {
         "name": "side",
         "rawType": "float64",
         "type": "float"
        }
       ],
       "ref": "07e903e5-5684-4725-a5f8-a618117f86f7",
       "rows": [
        [
         "2000-01-07 00:00:00",
         "0.07277644788583726",
         "0.016797580484398653",
         "1",
         "-1.0"
        ],
        [
         "2000-01-10 00:00:00",
         "0.12114712944821582",
         "0.026414723070588182",
         "1",
         "-1.0"
        ],
        [
         "2000-01-11 00:00:00",
         "0.06379940173514842",
         "0.02404322645165625",
         "1",
         "-1.0"
        ],
        [
         "2000-01-12 00:00:00",
         "0.10967700092575372",
         "0.031168279547750602",
         "1",
         "1.0"
        ],
        [
         "2000-01-13 00:00:00",
         "0.0",
         "0.050702969762129",
         "0",
         "0.0"
        ]
       ],
       "shape": {
        "columns": 4,
        "rows": 5
       }
      },
      "text/html": [
       "<div>\n",
       "<style scoped>\n",
       "    .dataframe tbody tr th:only-of-type {\n",
       "        vertical-align: middle;\n",
       "    }\n",
       "\n",
       "    .dataframe tbody tr th {\n",
       "        vertical-align: top;\n",
       "    }\n",
       "\n",
       "    .dataframe thead th {\n",
       "        text-align: right;\n",
       "    }\n",
       "</style>\n",
       "<table border=\"1\" class=\"dataframe\">\n",
       "  <thead>\n",
       "    <tr style=\"text-align: right;\">\n",
       "      <th></th>\n",
       "      <th>ret</th>\n",
       "      <th>trgt</th>\n",
       "      <th>bin</th>\n",
       "      <th>side</th>\n",
       "    </tr>\n",
       "    <tr>\n",
       "      <th>Date</th>\n",
       "      <th></th>\n",
       "      <th></th>\n",
       "      <th></th>\n",
       "      <th></th>\n",
       "    </tr>\n",
       "  </thead>\n",
       "  <tbody>\n",
       "    <tr>\n",
       "      <th>2000-01-07</th>\n",
       "      <td>0.072776</td>\n",
       "      <td>0.016798</td>\n",
       "      <td>1</td>\n",
       "      <td>-1.0</td>\n",
       "    </tr>\n",
       "    <tr>\n",
       "      <th>2000-01-10</th>\n",
       "      <td>0.121147</td>\n",
       "      <td>0.026415</td>\n",
       "      <td>1</td>\n",
       "      <td>-1.0</td>\n",
       "    </tr>\n",
       "    <tr>\n",
       "      <th>2000-01-11</th>\n",
       "      <td>0.063799</td>\n",
       "      <td>0.024043</td>\n",
       "      <td>1</td>\n",
       "      <td>-1.0</td>\n",
       "    </tr>\n",
       "    <tr>\n",
       "      <th>2000-01-12</th>\n",
       "      <td>0.109677</td>\n",
       "      <td>0.031168</td>\n",
       "      <td>1</td>\n",
       "      <td>1.0</td>\n",
       "    </tr>\n",
       "    <tr>\n",
       "      <th>2000-01-13</th>\n",
       "      <td>0.000000</td>\n",
       "      <td>0.050703</td>\n",
       "      <td>0</td>\n",
       "      <td>0.0</td>\n",
       "    </tr>\n",
       "  </tbody>\n",
       "</table>\n",
       "</div>"
      ],
      "text/plain": [
       "                 ret      trgt  bin  side\n",
       "Date                                     \n",
       "2000-01-07  0.072776  0.016798    1  -1.0\n",
       "2000-01-10  0.121147  0.026415    1  -1.0\n",
       "2000-01-11  0.063799  0.024043    1  -1.0\n",
       "2000-01-12  0.109677  0.031168    1   1.0\n",
       "2000-01-13  0.000000  0.050703    0   0.0"
      ]
     },
     "execution_count": 12,
     "metadata": {},
     "output_type": "execute_result"
    }
   ],
   "source": [
    "meta_labels = meta_labeling(\n",
    "    triple_barrier_events, # with side labels\n",
    "    data['Close']\n",
    ")\n",
    "meta_labels.head()"
   ]
  },
  {
   "cell_type": "markdown",
   "id": "80cb983902f33e11",
   "metadata": {
    "collapsed": false
   },
   "source": [
    "Possible values ​​for `meta_labels['bin']` generated here are {0, 1} as opposed to {-1, 0, 1}. Machine Learning algorithms are trained solely to decide whether to place a bet or not. If the prediction label is 1, the probability of the secondary model is used to determine the size of the bet, and the side of the position (buy or sell) is already determined by the primary model."
   ]
  },
  {
   "cell_type": "code",
   "execution_count": 16,
   "id": "fd81658dcf50078f",
   "metadata": {
    "ExecuteTime": {
     "end_time": "2024-04-27T14:32:40.866379Z",
     "start_time": "2024-04-27T14:32:40.316471Z"
    }
   },
   "outputs": [
    {
     "data": {
      "image/png": "[encoded data removed]",
      "text/plain": [
       "<Figure size 800x500 with 1 Axes>"
      ]
     },
     "metadata": {},
     "output_type": "display_data"
    }
   ],
   "source": [
    "fig, ax = plt.subplots(figsize = (8, 5))\n",
    "for idx in meta_labels[meta_labels['bin'] == 1]['2023':].index :\n",
    "    ax.axvspan(\n",
    "        idx, \n",
    "        triple_barrier_events.loc[idx]['t1'], \n",
    "        color = 'lightgray', \n",
    "        alpha = 0.3\n",
    "    )\n",
    "ax.scatter(\n",
    "    meta_labels[meta_labels['bin'] == 1]['2023':].index,\n",
    "    data.loc[meta_labels[meta_labels['bin'] == 1].index]['2023':]['Close'],\n",
    "    marker = '*',\n",
    "    color = 'red',\n",
    "    s = 10,\n",
    "    label = 'meta label'\n",
    ")\n",
    "ax.plot(\n",
    "    data['2023':]['Close'],\n",
    "    alpha = 0.5,\n",
    "    color = 'gray',\n",
    "    lw = 1,\n",
    "    label = 'prices',\n",
    "    ls = '-.'\n",
    ")\n",
    "for spine in ax.spines.values():\n",
    "    spine.set_visible(False)\n",
    "ax.grid(False)\n",
    "ax.yaxis.grid(True, ls = ':', alpha = 0.5) \n",
    "\n",
    "plt.xticks(rotation = 45)\n",
    "ax.legend()\n",
    "plt.title('Triple barrier method | label : 1 | ticker : AAPL')\n",
    "plt.show()"
   ]
  },
  {
   "cell_type": "markdown",
   "id": "9fcd390cf31948c8",
   "metadata": {
    "collapsed": false
   },
   "source": [
    "### How to use Meta Labeling\n",
    "\n",
    "The binary classification problem is a trade-off between type 1 error (false positive) and type 2 error (false negative). Usually, as you increase the true positive rate of a binary classifier, the false positive rate increases. The ROC (Receiver Operating Curve) of a classification model measures the cost incurred as the true positive rate increases, and is measured from the perspective of accepting a high false positive rate.\n",
    "\n",
    "The picture below visualizes the so-called Confusion matrix. Among the set of observations, there are items that meet the conditions and items that do not meet the conditions. The binary classifier predicts whether a specific item shows a condition (ellipse), and the TP area contains true positives, and the TN area contains true negatives. This causes two types of errors: false positives and false negatives. **precision** is the ratio between the TP area and the oval area, and **recall** is the ratio between the TP area and the left square area. The recall rate of this concept in classification problems is similar to the verification power in hypothesis testing. **accuracy** is the sum of the TP and TN areas divided by the total items. \n",
    "\n",
    "Typically, decreasing the FP area increases the FN area, because higher precision generally means fewer predictions, which lowers the **recall rate**. Meanwhile, there is also a combination between precision and recall that maximizes the overall efficiency of the classifier. **f1-score** measures the efficiency of the classifier, using the harmonic mean between precision and recall.\n",
    "\n",
    "<img src=\"https://lh3.googleusercontent.com/a34GCCUUjiJDedpXXfJqEUGDFe978H1qkz0qMiqsz4G5Uk njGgPy3px8PNlLnhbT_N9URPFn526aKWjGvzjh8Z9Wb-xHHTYlS_GhbeJO5w-3JHwY5aKMpQMqiQ7EngFhHg\" width=\"200px\" height=\"100px\" title=\"F1 score\"/>"
   ]
  },
  {
   "cell_type": "markdown",
   "id": "c9183bcf40d44428",
   "metadata": {},
   "source": [
    "Meta Labeling is especially useful when you want a higher F1 score. The reasons are as follows\n",
    "\n",
    "1. Even though the precision is not very high, it is possible to build a model with a high recall rate.\n",
    "2. Low precision can be corrected by applying meta labeling to the positives predicted in the primary model.\n",
    "\n",
    "Using Meta Labeling will improve the F1 score by filtering out false positives, and most positives have already been identified by the primary model. In other words, the role of the Meta Model is to determine whether the positivity determined by the Primary Model is true or false. In other words, the purpose is not to measure betting opportunities, but to decide whether or not to execute a proposed bet.\n",
    "\n",
    "The reason Meta Labeling is a powerful tool is for the following reasons.\n",
    "\n",
    "1. Machine learning algorithms are often attacked for being black boxes. Meta Labeling can build a machine learning system on a white box. Meta Labeling models, which have the ability to convert fundamental models into machine learning models, are especially useful in quantitative companies.\n",
    "2. Applying Meta Labeling suppresses the overfitting effect. This is because Machine Learning does not determine the direction of the bet, but only the size.\n",
    "3. Meta Labeling enables sophisticated strategy structures by separating bet size prediction and betting direction prediction. For example, it must be taken into account that the characteristics that lead a rally are different from those that lead a plunge. In this case, you can develop a machine learning strategy that considers only the buy position based on the primary model's buy recommendation, or you can develop a machine learning strategy that only considers the sell position based on the sell recommendation of a completely different primary model. \n",
    "4. Having high accuracy for small bets or low accuracy for large bets is a recipe for ruin. Just as important as holding your breath is setting an appropriate bet size. Therefore, it becomes quite reasonable to focus on developing machine learning algorithms that accurately make critical decisions. We will look at this fourth point again in Chapter 10.\n",
    "\n",
    "In the author's (Prado) experience, the Meta Labeling machine learning model provides more robust and reliable results than the standard labeling model."
   ]
  }
 ],
 "metadata": {
  "kernelspec": {
   "display_name": ".venv (3.12.3)",
   "language": "python",
   "name": "python3"
  },
  "language_info": {
   "codemirror_mode": {
    "name": "ipython",
    "version": 3
   },
   "file_extension": ".py",
   "mimetype": "text/x-python",
   "name": "python",
   "nbconvert_exporter": "python",
   "pygments_lexer": "ipython3",
   "version": "3.12.3"
  }
 },
 "nbformat": 4,
 "nbformat_minor": 5
}
