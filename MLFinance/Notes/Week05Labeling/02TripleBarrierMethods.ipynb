{
 "cells": [
  {
   "cell_type": "markdown",
   "id": "4d4130e552ed7827",
   "metadata": {
    "collapsed": false
   },
   "source": [
    "### Triple Barrier Methods\n",
    "\n",
    "Here, we introduce an alternative labeling technique that has not been seen in academic papers. If the readers are investment experts, I think they will agree that this method is more reasonable. Author Lopez de Prado calls this the Triple Barrier because observations are labeled according to which of the three barriers is reached first. First, set up two horizontal barriers and one vertical barrier. The two horizontal barriers are defined by take profit and stop loss limits, which are dynamic functions of the estimated volatility. The third barrier is defined by the number of bars passed after taking the position (expiration limit). \n",
    "\n",
    "If the upper barrier is reached first, the observation value is labeled as 1, and if the lower barrier is reached first, the observation value is labeled as -1. If you reach the vertical barrier first, you have two choices. It is either set to the profit or loss sign or set to 0. Since it is a problem of realizing profit or loss within a limit, the author prefers the former, but it is good to check whether labeling for 0 works better for each problem."
   ]
  },
  {
   "cell_type": "code",
   "execution_count": 5,
   "id": "1c89f8cf",
   "metadata": {},
   "outputs": [
    {
     "name": "stdout",
     "output_type": "stream",
     "text": [
      "✓ Added /mnt/ssd_backup/equity-ml-ldp/MLFinance to Python path\n"
     ]
    }
   ],
   "source": [
    "# Setup path to import FinancialMachineLearning modules\n",
    "import sys\n",
    "from pathlib import Path\n",
    "\n",
    "# Add the MLFinance root directory to Python path\n",
    "notebook_dir = Path.cwd()\n",
    "project_root = notebook_dir.parent.parent  # Go up from Notes/Week05Labeling to MLFinance\n",
    "if str(project_root) not in sys.path:\n",
    "    sys.path.insert(0, str(project_root))\n",
    "    print(f\"✓ Added {project_root} to Python path\")"
   ]
  },
  {
   "cell_type": "code",
   "execution_count": 6,
   "id": "initial_id",
   "metadata": {
    "ExecuteTime": {
     "end_time": "2024-04-26T15:26:35.221219Z",
     "start_time": "2024-04-26T15:26:33.335879Z"
    },
    "collapsed": true
   },
   "outputs": [
    {
     "name": "stderr",
     "output_type": "stream",
     "text": [
      "[*********************100%***********************]  1 of 1 completed"
     ]
    },
    {
     "name": "stdout",
     "output_type": "stream",
     "text": [
      "✓ Data loaded: (2638, 5)\n",
      "✓ Columns: ['Close', 'High', 'Low', 'Open', 'Volume']\n"
     ]
    },
    {
     "name": "stderr",
     "output_type": "stream",
     "text": [
      "\n"
     ]
    },
    {
     "data": {
      "application/vnd.microsoft.datawrangler.viewer.v0+json": {
       "columns": [
        {
         "name": "Date",
         "rawType": "datetime64[ns]",
         "type": "datetime"
        },
        {
         "name": "Close",
         "rawType": "float64",
         "type": "float"
        },
        {
         "name": "High",
         "rawType": "float64",
         "type": "float"
        },
        {
         "name": "Low",
         "rawType": "float64",
         "type": "float"
        },
        {
         "name": "Open",
         "rawType": "float64",
         "type": "float"
        },
        {
         "name": "Volume",
         "rawType": "int64",
         "type": "integer"
        }
       ],
       "ref": "fcd0ba6b-584a-49cb-aea1-427690f4204f",
       "rows": [
        [
         "2015-03-31 00:00:00",
         "27.720808029174805",
         "28.17973912876728",
         "27.705213332577813",
         "28.090625848343983",
         "168362400"
        ],
        [
         "2015-04-01 00:00:00",
         "27.680713653564453",
         "27.874534956630463",
         "27.424513549427502",
         "27.807699555657397",
         "162485600"
        ],
        [
         "2015-04-02 00:00:00",
         "27.919084548950195",
         "27.972551838021896",
         "27.66734110069705",
         "27.85447746229525",
         "128880400"
        ],
        [
         "2015-04-06 00:00:00",
         "28.371335983276367",
         "28.406981980219054",
         "27.698533938082665",
         "27.729723335560173",
         "148776000"
        ],
        [
         "2015-04-07 00:00:00",
         "28.072803497314453",
         "28.54287267699022",
         "28.066120298980323",
         "28.435938104255378",
         "140049200"
        ]
       ],
       "shape": {
        "columns": 5,
        "rows": 5
       }
      },
      "text/html": [
       "<div>\n",
       "<style scoped>\n",
       "    .dataframe tbody tr th:only-of-type {\n",
       "        vertical-align: middle;\n",
       "    }\n",
       "\n",
       "    .dataframe tbody tr th {\n",
       "        vertical-align: top;\n",
       "    }\n",
       "\n",
       "    .dataframe thead th {\n",
       "        text-align: right;\n",
       "    }\n",
       "</style>\n",
       "<table border=\"1\" class=\"dataframe\">\n",
       "  <thead>\n",
       "    <tr style=\"text-align: right;\">\n",
       "      <th></th>\n",
       "      <th>Close</th>\n",
       "      <th>High</th>\n",
       "      <th>Low</th>\n",
       "      <th>Open</th>\n",
       "      <th>Volume</th>\n",
       "    </tr>\n",
       "    <tr>\n",
       "      <th>Date</th>\n",
       "      <th></th>\n",
       "      <th></th>\n",
       "      <th></th>\n",
       "      <th></th>\n",
       "      <th></th>\n",
       "    </tr>\n",
       "  </thead>\n",
       "  <tbody>\n",
       "    <tr>\n",
       "      <th>2015-03-31</th>\n",
       "      <td>27.720808</td>\n",
       "      <td>28.179739</td>\n",
       "      <td>27.705213</td>\n",
       "      <td>28.090626</td>\n",
       "      <td>168362400</td>\n",
       "    </tr>\n",
       "    <tr>\n",
       "      <th>2015-04-01</th>\n",
       "      <td>27.680714</td>\n",
       "      <td>27.874535</td>\n",
       "      <td>27.424514</td>\n",
       "      <td>27.807700</td>\n",
       "      <td>162485600</td>\n",
       "    </tr>\n",
       "    <tr>\n",
       "      <th>2015-04-02</th>\n",
       "      <td>27.919085</td>\n",
       "      <td>27.972552</td>\n",
       "      <td>27.667341</td>\n",
       "      <td>27.854477</td>\n",
       "      <td>128880400</td>\n",
       "    </tr>\n",
       "    <tr>\n",
       "      <th>2015-04-06</th>\n",
       "      <td>28.371336</td>\n",
       "      <td>28.406982</td>\n",
       "      <td>27.698534</td>\n",
       "      <td>27.729723</td>\n",
       "      <td>148776000</td>\n",
       "    </tr>\n",
       "    <tr>\n",
       "      <th>2015-04-07</th>\n",
       "      <td>28.072803</td>\n",
       "      <td>28.542873</td>\n",
       "      <td>28.066120</td>\n",
       "      <td>28.435938</td>\n",
       "      <td>140049200</td>\n",
       "    </tr>\n",
       "  </tbody>\n",
       "</table>\n",
       "</div>"
      ],
      "text/plain": [
       "                Close       High        Low       Open     Volume\n",
       "Date                                                             \n",
       "2015-03-31  27.720808  28.179739  27.705213  28.090626  168362400\n",
       "2015-04-01  27.680714  27.874535  27.424514  27.807700  162485600\n",
       "2015-04-02  27.919085  27.972552  27.667341  27.854477  128880400\n",
       "2015-04-06  28.371336  28.406982  27.698534  27.729723  148776000\n",
       "2015-04-07  28.072803  28.542873  28.066120  28.435938  140049200"
      ]
     },
     "execution_count": 6,
     "metadata": {},
     "output_type": "execute_result"
    }
   ],
   "source": [
    "import yfinance as yf\n",
    "import numpy as np\n",
    "import pandas as pd\n",
    "import matplotlib.pyplot as plt\n",
    "\n",
    "start_date = '2015-03-31'\n",
    "end_date = '2025-09-25'\n",
    "ticker = 'AAPL'\n",
    "\n",
    "# Download data with auto_adjust=True (default) - all prices are adjusted\n",
    "# This is recommended for financial ML as all OHLC prices are consistent\n",
    "data = yf.download(\n",
    "    ticker, \n",
    "    start = start_date, \n",
    "    end = end_date,\n",
    "    multi_level_index=False,\n",
    "    auto_adjust=True  # Recommended: returns adjusted OHLC prices\n",
    ")\n",
    "\n",
    "print(f\"✓ Data loaded: {data.shape}\")\n",
    "print(f\"✓ Columns: {data.columns.tolist()}\")\n",
    "data.head()"
   ]
  },
  {
   "cell_type": "code",
   "execution_count": 7,
   "id": "11eddbb0f82d5aea",
   "metadata": {
    "ExecuteTime": {
     "end_time": "2024-04-26T15:26:42.577248Z",
     "start_time": "2024-04-26T15:26:38.267533Z"
    },
    "collapsed": false
   },
   "outputs": [
    {
     "name": "stdout",
     "output_type": "stream",
     "text": [
      "\n",
      "✓ Vertical barriers created: 2633 timestamps\n"
     ]
    },
    {
     "data": {
      "application/vnd.microsoft.datawrangler.viewer.v0+json": {
       "columns": [
        {
         "name": "Date",
         "rawType": "datetime64[ns]",
         "type": "datetime"
        },
        {
         "name": "Date",
         "rawType": "datetime64[ns]",
         "type": "datetime"
        }
       ],
       "ref": "618d52d1-ba70-428c-9c71-0ccadb8f6075",
       "rows": [
        [
         "2015-03-31 00:00:00",
         "2015-04-07 00:00:00"
        ],
        [
         "2015-04-01 00:00:00",
         "2015-04-08 00:00:00"
        ],
        [
         "2015-04-02 00:00:00",
         "2015-04-09 00:00:00"
        ],
        [
         "2015-04-06 00:00:00",
         "2015-04-13 00:00:00"
        ],
        [
         "2015-04-07 00:00:00",
         "2015-04-14 00:00:00"
        ]
       ],
       "shape": {
        "columns": 1,
        "rows": 5
       }
      },
      "text/plain": [
       "Date\n",
       "2015-03-31   2015-04-07\n",
       "2015-04-01   2015-04-08\n",
       "2015-04-02   2015-04-09\n",
       "2015-04-06   2015-04-13\n",
       "2015-04-07   2015-04-14\n",
       "Name: Date, dtype: datetime64[ns]"
      ]
     },
     "execution_count": 7,
     "metadata": {},
     "output_type": "execute_result"
    }
   ],
   "source": [
    "from FinancialMachineLearning.labeling.labeling import *\n",
    "vertical_barrier = add_vertical_barrier(\n",
    "    data.index, \n",
    "    data['Close'],  # Use 'Close' (already adjusted when auto_adjust=True)\n",
    "    num_days = 7 # expiration limit\n",
    ")\n",
    "print(f\"\\n✓ Vertical barriers created: {len(vertical_barrier)} timestamps\")\n",
    "\n",
    "vertical_barrier.head()"
   ]
  },
  {
   "cell_type": "markdown",
   "id": "ddebfb068c934c33",
   "metadata": {},
   "source": [
    "The output of this function is a `pandas.DataFrame` containing a timestamp, which is the time each barrier was reached. As can be seen from the previous explanation, this technique takes into account the possibility that each of the three barriers will be deactivated. Let's express the barrier setting as three values: `[pt, sl, t1]`. Here, 0 means the barrier is inactive and 1 means it is active. The eight settings are as follows.\n",
    "\n",
    "**Three useful settings**\n",
    "\n",
    "| profit taking | stopping loss | vertical barrier | description                                                                                                                        |\n",
    "|:-------------:|:-------------:|:----------------:|:-----------------------------------------------------------------------------------------------------------------------------------|\n",
    "|       1 |       1 |        1 | As a standard setting, escape conditions for three barriers are defined. You want to realize profits, but there are restrictions on the maximum loss you can tolerate and your holding period.                                                            |\n",
    "|       0 |       1 |        1 | There are only stop losses and vertical barriers. If you don't have a stop loss, you want to break out of the barrier after a few bars.                                                                              |\n",
    "|1|1|0| We aim to realize profits as long as we do not stop at a loss. This is unrealistic as it involves holding a position for however long it takes.                                                                  |\n",
    "\n",
    "**3 more unrealistic settings**\n",
    "| profit taking | stopping loss | vertical barrier | description                                                                                                                        |\n",
    "|:-------------:|:-------------:|:----------------:|:-----------------------------------------------------------------------------------------------------------------------------------|\n",
    "|       0 |       0 |        1 | It is the same as the fixed period method. It can still be useful when applied to volume, value, or information driven bars or when updating multiple forecasts within a fixed period.                                                            |\n",
    "|       1 |       0 |        1 | Hold positions until they are profitable or until the maximum holding period expires. Intermediate unrealized losses are not taken into account.                                                                              |\n",
    "|       1 |       0 |0         | Hold the position until you make a profit. This means that you may be stuck in a loss position for several years.                                                                       |\n",
    "\n",
    "**Two illogical settings**\n",
    "\n",
    "| profit taking | stopping loss | vertical barrier | description                             |\n",
    "|:-------------:|:-------------:|:----------------:|:----------------------------------------|\n",
    "|       0 |       1 |        0 | As this is a setting without a target, it is simply held until the stop loss is processed.        |\n",
    "|       0 |       0 |        0 | There is no barrier. The position is fixed forever and no label is generated. |\n"
   ]
  },
  {
   "cell_type": "markdown",
   "id": "2bbca5e74af49859",
   "metadata": {
    "collapsed": false
   },
   "source": [
    "### Learning side and size\n",
    "\n",
    "In this section, we discuss how to label data so that machine learning algorithms can learn the direction and size of bets. Usually, when there is no base model that sets the sign of the position (buy or sell), one is interested in finding out the direction of the bet. In this situation, there is no way to distinguish between the profit taking barrier (upper bound) and the stopping loss barrier (lower bound) because there is no knowledge of the direction. Finding the direction implies either that there is no horizontal barrier or that the horizontal barrier is symmetrical."
   ]
  },
  {
   "cell_type": "code",
   "execution_count": 8,
   "id": "431693d4e43f5ec0",
   "metadata": {
    "ExecuteTime": {
     "end_time": "2024-04-27T13:28:50.085479Z",
     "start_time": "2024-04-27T13:28:49.921845Z"
    },
    "collapsed": false
   },
   "outputs": [
    {
     "name": "stdout",
     "output_type": "stream",
     "text": [
      "✓ Volatility calculated (60-day lookback)\n",
      "  Mean volatility: 0.0223 (2.23%)\n",
      "  Std volatility:  0.0071\n"
     ]
    }
   ],
   "source": [
    "from FinancialMachineLearning.features.volatility import daily_volatility\n",
    "\n",
    "volatility = daily_volatility(data['Close'], lookback = 60)  # Use 'Close'\n",
    "\n",
    "print(f\"✓ Volatility calculated (60-day lookback)\")\n",
    "print(f\"  Mean volatility: {volatility.mean():.4f} ({volatility.mean()*100:.2f}%)\")\n",
    "print(f\"  Std volatility:  {volatility.std():.4f}\")"
   ]
  },
  {
   "cell_type": "code",
   "execution_count": 9,
   "id": "3f587c9fd4a1efb0",
   "metadata": {
    "ExecuteTime": {
     "end_time": "2024-04-27T13:28:56.109237Z",
     "start_time": "2024-04-27T13:28:51.036237Z"
    },
    "collapsed": false
   },
   "outputs": [
    {
     "data": {
      "application/vnd.microsoft.datawrangler.viewer.v0+json": {
       "columns": [
        {
         "name": "Date",
         "rawType": "datetime64[ns]",
         "type": "datetime"
        },
        {
         "name": "t1",
         "rawType": "datetime64[ns]",
         "type": "datetime"
        },
        {
         "name": "trgt",
         "rawType": "float64",
         "type": "float"
        },
        {
         "name": "pt",
         "rawType": "int64",
         "type": "integer"
        },
        {
         "name": "sl",
         "rawType": "int64",
         "type": "integer"
        }
       ],
       "ref": "9eb25189-49bc-41e9-b953-c4870513dca4",
       "rows": [
        [
         "2015-06-25 00:00:00",
         "2015-07-02 00:00:00",
         "0.012212398196718339",
         "2",
         "1"
        ],
        [
         "2015-06-26 00:00:00",
         "2015-07-06 00:00:00",
         "0.012169270161899169",
         "2",
         "1"
        ],
        [
         "2015-06-29 00:00:00",
         "2015-07-06 00:00:00",
         "0.012409653374956975",
         "2",
         "1"
        ],
        [
         "2015-06-30 00:00:00",
         "2015-07-07 00:00:00",
         "0.012319811305093105",
         "2",
         "1"
        ],
        [
         "2015-07-01 00:00:00",
         "2015-07-08 00:00:00",
         "0.012545846909286038",
         "2",
         "1"
        ]
       ],
       "shape": {
        "columns": 4,
        "rows": 5
       }
      },
      "text/html": [
       "<div>\n",
       "<style scoped>\n",
       "    .dataframe tbody tr th:only-of-type {\n",
       "        vertical-align: middle;\n",
       "    }\n",
       "\n",
       "    .dataframe tbody tr th {\n",
       "        vertical-align: top;\n",
       "    }\n",
       "\n",
       "    .dataframe thead th {\n",
       "        text-align: right;\n",
       "    }\n",
       "</style>\n",
       "<table border=\"1\" class=\"dataframe\">\n",
       "  <thead>\n",
       "    <tr style=\"text-align: right;\">\n",
       "      <th></th>\n",
       "      <th>t1</th>\n",
       "      <th>trgt</th>\n",
       "      <th>pt</th>\n",
       "      <th>sl</th>\n",
       "    </tr>\n",
       "    <tr>\n",
       "      <th>Date</th>\n",
       "      <th></th>\n",
       "      <th></th>\n",
       "      <th></th>\n",
       "      <th></th>\n",
       "    </tr>\n",
       "  </thead>\n",
       "  <tbody>\n",
       "    <tr>\n",
       "      <th>2015-06-25</th>\n",
       "      <td>2015-07-02</td>\n",
       "      <td>0.012212</td>\n",
       "      <td>2</td>\n",
       "      <td>1</td>\n",
       "    </tr>\n",
       "    <tr>\n",
       "      <th>2015-06-26</th>\n",
       "      <td>2015-07-06</td>\n",
       "      <td>0.012169</td>\n",
       "      <td>2</td>\n",
       "      <td>1</td>\n",
       "    </tr>\n",
       "    <tr>\n",
       "      <th>2015-06-29</th>\n",
       "      <td>2015-07-06</td>\n",
       "      <td>0.012410</td>\n",
       "      <td>2</td>\n",
       "      <td>1</td>\n",
       "    </tr>\n",
       "    <tr>\n",
       "      <th>2015-06-30</th>\n",
       "      <td>2015-07-07</td>\n",
       "      <td>0.012320</td>\n",
       "      <td>2</td>\n",
       "      <td>1</td>\n",
       "    </tr>\n",
       "    <tr>\n",
       "      <th>2015-07-01</th>\n",
       "      <td>2015-07-08</td>\n",
       "      <td>0.012546</td>\n",
       "      <td>2</td>\n",
       "      <td>1</td>\n",
       "    </tr>\n",
       "  </tbody>\n",
       "</table>\n",
       "</div>"
      ],
      "text/plain": [
       "                   t1      trgt  pt  sl\n",
       "Date                                   \n",
       "2015-06-25 2015-07-02  0.012212   2   1\n",
       "2015-06-26 2015-07-06  0.012169   2   1\n",
       "2015-06-29 2015-07-06  0.012410   2   1\n",
       "2015-06-30 2015-07-07  0.012320   2   1\n",
       "2015-07-01 2015-07-08  0.012546   2   1"
      ]
     },
     "execution_count": 9,
     "metadata": {},
     "output_type": "execute_result"
    }
   ],
   "source": [
    "triple_barrier_events = get_events(\n",
    "    close = data['Close'],  # Use 'Close'\n",
    "    t_events = data.index[60:],\n",
    "    pt_sl = [2, 1], # profit taking 2, stopping loss 1\n",
    "    target = volatility, # dynamic threshold\n",
    "    min_ret = 0.01, # minimum position return\n",
    "    num_threads = 1, # number of multi-thread \n",
    "    vertical_barrier_times = vertical_barrier, # add vertical barrier\n",
    "    side_prediction = None # betting side prediction (primary model)\n",
    ")\n",
    "triple_barrier_events.head()"
   ]
  },
  {
   "cell_type": "markdown",
   "id": "2eb51d96708e56f3",
   "metadata": {
    "collapsed": false
   },
   "source": [
    "You can assign labels to observations by using the `meta_labeling` function in the code below. Enter the event `pandas.DataFrame` object created above as the first argument, and use Close (or VWAP) to save the price as `pandas.Series`. The output is a dataframe with ret, trgt, and bin as follows:"
   ]
  },
  {
   "cell_type": "code",
   "execution_count": 10,
   "id": "8e85e912fc84e11",
   "metadata": {
    "ExecuteTime": {
     "end_time": "2024-04-27T13:29:01.745383Z",
     "start_time": "2024-04-27T13:29:01.346712Z"
    },
    "collapsed": false
   },
   "outputs": [],
   "source": [
    "labels = meta_labeling(\n",
    "    triple_barrier_events, \n",
    "    data['Close']  # Use 'Close'\n",
    ")"
   ]
  },
  {
   "cell_type": "code",
   "execution_count": 11,
   "id": "64198d51d5f4a11c",
   "metadata": {
    "ExecuteTime": {
     "end_time": "2024-04-27T13:29:02.298055Z",
     "start_time": "2024-04-27T13:29:02.286594Z"
    },
    "collapsed": false
   },
   "outputs": [
    {
     "data": {
      "application/vnd.microsoft.datawrangler.viewer.v0+json": {
       "columns": [
        {
         "name": "Date",
         "rawType": "datetime64[ns]",
         "type": "datetime"
        },
        {
         "name": "ret",
         "rawType": "float64",
         "type": "float"
        },
        {
         "name": "trgt",
         "rawType": "float64",
         "type": "float"
        },
        {
         "name": "bin",
         "rawType": "int64",
         "type": "integer"
        }
       ],
       "ref": "9ae858df-17e8-40fd-877f-ff00608c3272",
       "rows": [
        [
         "2015-06-25 00:00:00",
         "-0.008313763944151065",
         "0.012212398196718339",
         "0"
        ],
        [
         "2015-06-26 00:00:00",
         "-0.005917260064215446",
         "0.012169270161899169",
         "0"
        ],
        [
         "2015-06-29 00:00:00",
         "0.011804432976499024",
         "0.012409653374956975",
         "0"
        ],
        [
         "2015-06-30 00:00:00",
         "0.0020728420979649886",
         "0.012319811305093105",
         "0"
        ],
        [
         "2015-07-01 00:00:00",
         "-0.03183236161243841",
         "0.012545846909286038",
         "-1"
        ],
        [
         "2015-07-02 00:00:00",
         "-0.030607377538325653",
         "0.01241177778822276",
         "-1"
        ],
        [
         "2015-07-06 00:00:00",
         "-0.02722203952487867",
         "0.012197283187313578",
         "-1"
        ],
        [
         "2015-07-07 00:00:00",
         "-0.02482278740321986",
         "0.012020889024290422",
         "-1"
        ],
        [
         "2015-07-08 00:00:00",
         "0.03467395294930431",
         "0.012858414279120295",
         "1"
        ],
        [
         "2015-07-09 00:00:00",
         "0.04655631477619582",
         "0.015069470146221911",
         "1"
        ],
        [
         "2015-07-10 00:00:00",
         "0.04242376627760569",
         "0.014882228097812679",
         "1"
        ],
        [
         "2015-07-13 00:00:00",
         "0.031513579726572205",
         "0.015182089673540228",
         "1"
        ],
        [
         "2015-07-14 00:00:00",
         "0.03192414638414243",
         "0.015405735059689564",
         "1"
        ],
        [
         "2015-07-15 00:00:00",
         "0.041397286227726315",
         "0.015247329897580751",
         "1"
        ],
        [
         "2015-07-16 00:00:00",
         "-0.026067907123626832",
         "0.015621355554589086",
         "-1"
        ],
        [
         "2015-07-17 00:00:00",
         "-0.03394511524929411",
         "0.0158785428101427",
         "-1"
        ],
        [
         "2015-07-20 00:00:00",
         "-0.05186626738518052",
         "0.015949205504677936",
         "-1"
        ],
        [
         "2015-07-21 00:00:00",
         "-0.04229408752120711",
         "0.015717989187470638",
         "-1"
        ],
        [
         "2015-07-22 00:00:00",
         "-0.017808672097570533",
         "0.01841574337256064",
         "0"
        ],
        [
         "2015-07-23 00:00:00",
         "-0.02229186336258393",
         "0.0197653263227786",
         "-1"
        ]
       ],
       "shape": {
        "columns": 3,
        "rows": 20
       }
      },
      "text/html": [
       "<div>\n",
       "<style scoped>\n",
       "    .dataframe tbody tr th:only-of-type {\n",
       "        vertical-align: middle;\n",
       "    }\n",
       "\n",
       "    .dataframe tbody tr th {\n",
       "        vertical-align: top;\n",
       "    }\n",
       "\n",
       "    .dataframe thead th {\n",
       "        text-align: right;\n",
       "    }\n",
       "</style>\n",
       "<table border=\"1\" class=\"dataframe\">\n",
       "  <thead>\n",
       "    <tr style=\"text-align: right;\">\n",
       "      <th></th>\n",
       "      <th>ret</th>\n",
       "      <th>trgt</th>\n",
       "      <th>bin</th>\n",
       "    </tr>\n",
       "    <tr>\n",
       "      <th>Date</th>\n",
       "      <th></th>\n",
       "      <th></th>\n",
       "      <th></th>\n",
       "    </tr>\n",
       "  </thead>\n",
       "  <tbody>\n",
       "    <tr>\n",
       "      <th>2015-06-25</th>\n",
       "      <td>-0.008314</td>\n",
       "      <td>0.012212</td>\n",
       "      <td>0</td>\n",
       "    </tr>\n",
       "    <tr>\n",
       "      <th>2015-06-26</th>\n",
       "      <td>-0.005917</td>\n",
       "      <td>0.012169</td>\n",
       "      <td>0</td>\n",
       "    </tr>\n",
       "    <tr>\n",
       "      <th>2015-06-29</th>\n",
       "      <td>0.011804</td>\n",
       "      <td>0.012410</td>\n",
       "      <td>0</td>\n",
       "    </tr>\n",
       "    <tr>\n",
       "      <th>2015-06-30</th>\n",
       "      <td>0.002073</td>\n",
       "      <td>0.012320</td>\n",
       "      <td>0</td>\n",
       "    </tr>\n",
       "    <tr>\n",
       "      <th>2015-07-01</th>\n",
       "      <td>-0.031832</td>\n",
       "      <td>0.012546</td>\n",
       "      <td>-1</td>\n",
       "    </tr>\n",
       "    <tr>\n",
       "      <th>2015-07-02</th>\n",
       "      <td>-0.030607</td>\n",
       "      <td>0.012412</td>\n",
       "      <td>-1</td>\n",
       "    </tr>\n",
       "    <tr>\n",
       "      <th>2015-07-06</th>\n",
       "      <td>-0.027222</td>\n",
       "      <td>0.012197</td>\n",
       "      <td>-1</td>\n",
       "    </tr>\n",
       "    <tr>\n",
       "      <th>2015-07-07</th>\n",
       "      <td>-0.024823</td>\n",
       "      <td>0.012021</td>\n",
       "      <td>-1</td>\n",
       "    </tr>\n",
       "    <tr>\n",
       "      <th>2015-07-08</th>\n",
       "      <td>0.034674</td>\n",
       "      <td>0.012858</td>\n",
       "      <td>1</td>\n",
       "    </tr>\n",
       "    <tr>\n",
       "      <th>2015-07-09</th>\n",
       "      <td>0.046556</td>\n",
       "      <td>0.015069</td>\n",
       "      <td>1</td>\n",
       "    </tr>\n",
       "    <tr>\n",
       "      <th>2015-07-10</th>\n",
       "      <td>0.042424</td>\n",
       "      <td>0.014882</td>\n",
       "      <td>1</td>\n",
       "    </tr>\n",
       "    <tr>\n",
       "      <th>2015-07-13</th>\n",
       "      <td>0.031514</td>\n",
       "      <td>0.015182</td>\n",
       "      <td>1</td>\n",
       "    </tr>\n",
       "    <tr>\n",
       "      <th>2015-07-14</th>\n",
       "      <td>0.031924</td>\n",
       "      <td>0.015406</td>\n",
       "      <td>1</td>\n",
       "    </tr>\n",
       "    <tr>\n",
       "      <th>2015-07-15</th>\n",
       "      <td>0.041397</td>\n",
       "      <td>0.015247</td>\n",
       "      <td>1</td>\n",
       "    </tr>\n",
       "    <tr>\n",
       "      <th>2015-07-16</th>\n",
       "      <td>-0.026068</td>\n",
       "      <td>0.015621</td>\n",
       "      <td>-1</td>\n",
       "    </tr>\n",
       "    <tr>\n",
       "      <th>2015-07-17</th>\n",
       "      <td>-0.033945</td>\n",
       "      <td>0.015879</td>\n",
       "      <td>-1</td>\n",
       "    </tr>\n",
       "    <tr>\n",
       "      <th>2015-07-20</th>\n",
       "      <td>-0.051866</td>\n",
       "      <td>0.015949</td>\n",
       "      <td>-1</td>\n",
       "    </tr>\n",
       "    <tr>\n",
       "      <th>2015-07-21</th>\n",
       "      <td>-0.042294</td>\n",
       "      <td>0.015718</td>\n",
       "      <td>-1</td>\n",
       "    </tr>\n",
       "    <tr>\n",
       "      <th>2015-07-22</th>\n",
       "      <td>-0.017809</td>\n",
       "      <td>0.018416</td>\n",
       "      <td>0</td>\n",
       "    </tr>\n",
       "    <tr>\n",
       "      <th>2015-07-23</th>\n",
       "      <td>-0.022292</td>\n",
       "      <td>0.019765</td>\n",
       "      <td>-1</td>\n",
       "    </tr>\n",
       "  </tbody>\n",
       "</table>\n",
       "</div>"
      ],
      "text/plain": [
       "                 ret      trgt  bin\n",
       "Date                               \n",
       "2015-06-25 -0.008314  0.012212    0\n",
       "2015-06-26 -0.005917  0.012169    0\n",
       "2015-06-29  0.011804  0.012410    0\n",
       "2015-06-30  0.002073  0.012320    0\n",
       "2015-07-01 -0.031832  0.012546   -1\n",
       "2015-07-02 -0.030607  0.012412   -1\n",
       "2015-07-06 -0.027222  0.012197   -1\n",
       "2015-07-07 -0.024823  0.012021   -1\n",
       "2015-07-08  0.034674  0.012858    1\n",
       "2015-07-09  0.046556  0.015069    1\n",
       "2015-07-10  0.042424  0.014882    1\n",
       "2015-07-13  0.031514  0.015182    1\n",
       "2015-07-14  0.031924  0.015406    1\n",
       "2015-07-15  0.041397  0.015247    1\n",
       "2015-07-16 -0.026068  0.015621   -1\n",
       "2015-07-17 -0.033945  0.015879   -1\n",
       "2015-07-20 -0.051866  0.015949   -1\n",
       "2015-07-21 -0.042294  0.015718   -1\n",
       "2015-07-22 -0.017809  0.018416    0\n",
       "2015-07-23 -0.022292  0.019765   -1"
      ]
     },
     "execution_count": 11,
     "metadata": {},
     "output_type": "execute_result"
    }
   ],
   "source": [
    "labels.head(20)"
   ]
  },
  {
   "cell_type": "code",
   "execution_count": 12,
   "id": "81956f2b4de5772f",
   "metadata": {
    "ExecuteTime": {
     "end_time": "2024-04-27T13:29:05.686272Z",
     "start_time": "2024-04-27T13:29:05.674292Z"
    },
    "collapsed": false
   },
   "outputs": [
    {
     "data": {
      "application/vnd.microsoft.datawrangler.viewer.v0+json": {
       "columns": [
        {
         "name": "bin",
         "rawType": "int64",
         "type": "integer"
        },
        {
         "name": "count",
         "rawType": "int64",
         "type": "integer"
        }
       ],
       "ref": "48db87f5-f568-4a8f-9239-9ea06eec8453",
       "rows": [
        [
         "0",
         "1615"
        ],
        [
         "-1",
         "588"
        ],
        [
         "1",
         "371"
        ]
       ],
       "shape": {
        "columns": 1,
        "rows": 3
       }
      },
      "text/plain": [
       "bin\n",
       " 0    1615\n",
       "-1     588\n",
       " 1     371\n",
       "Name: count, dtype: int64"
      ]
     },
     "execution_count": 12,
     "metadata": {},
     "output_type": "execute_result"
    }
   ],
   "source": [
    "labels['bin'].value_counts()"
   ]
  },
  {
   "cell_type": "code",
   "execution_count": 10,
   "id": "7077330beb27fc84",
   "metadata": {
    "ExecuteTime": {
     "end_time": "2024-04-27T13:40:01.428828Z",
     "start_time": "2024-04-27T13:40:01.155121Z"
    },
    "collapsed": false
   },
   "outputs": [
    {
     "data": {
      "image/png": "[encoded data removed]",
      "text/plain": [
       "<Figure size 800x500 with 1 Axes>"
      ]
     },
     "metadata": {},
     "output_type": "display_data"
    }
   ],
   "source": [
    "fig, ax = plt.subplots(figsize = (8, 5))\n",
    "ax.scatter(\n",
    "    labels[labels['bin'] == 1]['2023':].index,\n",
    "    data.loc[labels[labels['bin'] == 1].index]['2023':]['Close'],\n",
    "    marker = 'o',\n",
    "    edgecolor = 'none',\n",
    "    alpha = 0.75,\n",
    "    s = 10,\n",
    "    color = 'green',\n",
    "    label = 'buy signal'\n",
    ")\n",
    "ax.plot(\n",
    "    data['2023':]['Close'],\n",
    "    alpha = 0.5,\n",
    "    color = 'gray',\n",
    "    lw = 1,\n",
    "    label = 'prices',\n",
    "    ls = '-.'\n",
    ")\n",
    "for spine in ax.spines.values():\n",
    "    spine.set_visible(False)\n",
    "ax.legend()\n",
    "ax.grid(False)\n",
    "ax.yaxis.grid(True, ls = ':', alpha = 0.5) \n",
    "plt.xticks(rotation = 45)\n",
    "plt.title('Triple barrier method | label : 1 | ticker : AAPL')\n",
    "plt.show()"
   ]
  },
  {
   "cell_type": "code",
   "execution_count": 26,
   "id": "a98afb0d2140edf7",
   "metadata": {
    "ExecuteTime": {
     "end_time": "2024-04-27T13:40:07.690646Z",
     "start_time": "2024-04-27T13:40:07.377561Z"
    },
    "collapsed": false
   },
   "outputs": [
    {
     "data": {
      "image/png": "[encoded data removed]",
      "text/plain": [
       "<Figure size 800x500 with 1 Axes>"
      ]
     },
     "metadata": {},
     "output_type": "display_data"
    }
   ],
   "source": [
    "fig, ax = plt.subplots(figsize = (8, 5))\n",
    "ax.scatter(\n",
    "    labels[labels['bin'] == -1]['2023':].index,\n",
    "    data.loc[labels[labels['bin'] == -1].index]['2023':]['Close'],\n",
    "    marker = 'o',\n",
    "    edgecolor = 'none',\n",
    "    alpha = 0.75,\n",
    "    s = 10,\n",
    "    color = 'red',\n",
    "    label = 'sell signal'\n",
    ")\n",
    "ax.plot(\n",
    "    data['2023':]['Close'],\n",
    "    alpha = 0.5,\n",
    "    color = 'gray',\n",
    "    lw = 1,\n",
    "    label = 'prices',\n",
    "    ls = '-.'\n",
    ")\n",
    "for spine in ax.spines.values():\n",
    "    spine.set_visible(False)\n",
    "ax.legend()\n",
    "ax.grid(False)\n",
    "ax.yaxis.grid(True, ls = ':', alpha = 0.5) \n",
    "plt.xticks(rotation = 45)\n",
    "plt.title('Triple barrier method | labeling -1 | AAPL')\n",
    "plt.show()"
   ]
  },
  {
   "cell_type": "code",
   "execution_count": null,
   "id": "305e8193dbff13b7",
   "metadata": {
    "ExecuteTime": {
     "end_time": "2024-04-27T13:40:19.633269Z",
     "start_time": "2024-04-27T13:40:19.334032Z"
    },
    "collapsed": false
   },
   "outputs": [],
   "source": [
    "fig, ax = plt.subplots(figsize = (8, 5))\n",
    "ax.scatter(\n",
    "    labels[labels['bin'] == 1]['2023':].index,\n",
    "    data.loc[labels[labels['bin'] == 1].index]['2023':]['Close'],\n",
    "    marker = 'o',\n",
    "    edgecolor = 'none',\n",
    "    alpha = 0.75,\n",
    "    s = 10,\n",
    "    color = 'green',\n",
    "    label = 'buy signal'\n",
    ")\n",
    "ax.scatter(\n",
    "    labels[labels['bin'] == -1]['2023':].index,\n",
    "    data.loc[labels[labels['bin'] == -1].index]['2023':]['Close'],\n",
    "    marker = 'o',\n",
    "    edgecolor = 'none',\n",
    "    alpha = 0.75,\n",
    "    s = 10,\n",
    "    color = 'red',\n",
    "    label = 'sell signal'\n",
    ")\n",
    "ax.plot(\n",
    "    data['2023':]['Close'],\n",
    "    alpha = 0.5,\n",
    "    color = 'gray',\n",
    "    lw = 1,\n",
    "    label = 'prices',\n",
    "    ls = '-.'\n",
    ")\n",
    "for spine in ax.spines.values():\n",
    "    spine.set_visible(False)\n",
    "ax.legend()\n",
    "ax.grid(False)\n",
    "ax.yaxis.grid(True, ls = ':', alpha = 0.5) \n",
    "plt.xticks(rotation = 45)\n",
    "plt.title('Triple barrier method | buy sell signal | AAPL')\n",
    "plt.show()"
   ]
  }
 ],
 "metadata": {
  "kernelspec": {
   "display_name": ".venv (3.12.3)",
   "language": "python",
   "name": "python3"
  },
  "language_info": {
   "codemirror_mode": {
    "name": "ipython",
    "version": 3
   },
   "file_extension": ".py",
   "mimetype": "text/x-python",
   "name": "python",
   "nbconvert_exporter": "python",
   "pygments_lexer": "ipython3",
   "version": "3.12.3"
  }
 },
 "nbformat": 4,
 "nbformat_minor": 5
}
