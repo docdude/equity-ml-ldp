{
 "cells": [
  {
   "cell_type": "markdown",
   "id": "a3ddbc403e911838",
   "metadata": {},
   "source": [
    "### Random Forest"
   ]
  },
  {
   "cell_type": "code",
   "execution_count": null,
   "id": "62794b03",
   "metadata": {},
   "outputs": [
    {
     "name": "stdout",
     "output_type": "stream",
     "text": [
      "✓ Added /mnt/ssd_backup/equity-ml-ldp/MLFinance to Python path\n"
     ]
    }
   ],
   "source": [
    "# Setup path to import FinancialMachineLearning modules\n",
    "import sys\n",
    "from pathlib import Path\n",
    "\n",
    "# Add the MLFinance root directory to Python path\n",
    "notebook_dir = Path.cwd()\n",
    "project_root = notebook_dir.parent.parent.parent  # Go up from Notes/Week05Labeling to MLFinance\n",
    "if str(project_root) not in sys.path:\n",
    "    sys.path.insert(0, str(project_root))\n",
    "    print(f\"✓ Added {project_root} to Python path\")"
   ]
  },
  {
   "cell_type": "code",
   "execution_count": null,
   "id": "initial_id",
   "metadata": {
    "ExecuteTime": {
     "end_time": "2024-05-18T15:59:43.863385Z",
     "start_time": "2024-05-18T15:59:42.901581Z"
    },
    "collapsed": true
   },
   "outputs": [
    {
     "data": {
      "application/vnd.microsoft.datawrangler.viewer.v0+json": {
       "columns": [
        {
         "name": "Date",
         "rawType": "datetime64[ns]",
         "type": "datetime"
        },
        {
         "name": "t1",
         "rawType": "datetime64[ns]",
         "type": "datetime"
        },
        {
         "name": "trgt",
         "rawType": "float64",
         "type": "float"
        },
        {
         "name": "pt",
         "rawType": "int64",
         "type": "integer"
        },
        {
         "name": "sl",
         "rawType": "int64",
         "type": "integer"
        }
       ],
       "ref": "5a6da9db-de0a-41e5-a98d-32a567a5e1ed",
       "rows": [
        [
         "2000-01-07 00:00:00",
         "2000-01-11 00:00:00",
         "0.016797258171578833",
         "2",
         "1"
        ],
        [
         "2000-01-10 00:00:00",
         "2000-01-12 00:00:00",
         "0.026414593005728484",
         "2",
         "1"
        ],
        [
         "2000-01-11 00:00:00",
         "2000-01-12 00:00:00",
         "0.024043135130989667",
         "2",
         "1"
        ],
        [
         "2000-01-12 00:00:00",
         "2000-01-13 00:00:00",
         "0.031168175098886725",
         "2",
         "1"
        ],
        [
         "2000-01-13 00:00:00",
         "2000-01-19 00:00:00",
         "0.05070292243155436",
         "2",
         "1"
        ]
       ],
       "shape": {
        "columns": 4,
        "rows": 5
       }
      },
      "text/html": [
       "<div>\n",
       "<style scoped>\n",
       "    .dataframe tbody tr th:only-of-type {\n",
       "        vertical-align: middle;\n",
       "    }\n",
       "\n",
       "    .dataframe tbody tr th {\n",
       "        vertical-align: top;\n",
       "    }\n",
       "\n",
       "    .dataframe thead th {\n",
       "        text-align: right;\n",
       "    }\n",
       "</style>\n",
       "<table border=\"1\" class=\"dataframe\">\n",
       "  <thead>\n",
       "    <tr style=\"text-align: right;\">\n",
       "      <th></th>\n",
       "      <th>t1</th>\n",
       "      <th>trgt</th>\n",
       "      <th>pt</th>\n",
       "      <th>sl</th>\n",
       "    </tr>\n",
       "    <tr>\n",
       "      <th>Date</th>\n",
       "      <th></th>\n",
       "      <th></th>\n",
       "      <th></th>\n",
       "      <th></th>\n",
       "    </tr>\n",
       "  </thead>\n",
       "  <tbody>\n",
       "    <tr>\n",
       "      <th>2000-01-07</th>\n",
       "      <td>2000-01-11</td>\n",
       "      <td>0.016797</td>\n",
       "      <td>2</td>\n",
       "      <td>1</td>\n",
       "    </tr>\n",
       "    <tr>\n",
       "      <th>2000-01-10</th>\n",
       "      <td>2000-01-12</td>\n",
       "      <td>0.026415</td>\n",
       "      <td>2</td>\n",
       "      <td>1</td>\n",
       "    </tr>\n",
       "    <tr>\n",
       "      <th>2000-01-11</th>\n",
       "      <td>2000-01-12</td>\n",
       "      <td>0.024043</td>\n",
       "      <td>2</td>\n",
       "      <td>1</td>\n",
       "    </tr>\n",
       "    <tr>\n",
       "      <th>2000-01-12</th>\n",
       "      <td>2000-01-13</td>\n",
       "      <td>0.031168</td>\n",
       "      <td>2</td>\n",
       "      <td>1</td>\n",
       "    </tr>\n",
       "    <tr>\n",
       "      <th>2000-01-13</th>\n",
       "      <td>2000-01-19</td>\n",
       "      <td>0.050703</td>\n",
       "      <td>2</td>\n",
       "      <td>1</td>\n",
       "    </tr>\n",
       "  </tbody>\n",
       "</table>\n",
       "</div>"
      ],
      "text/plain": [
       "                   t1      trgt  pt  sl\n",
       "Date                                   \n",
       "2000-01-07 2000-01-11  0.016797   2   1\n",
       "2000-01-10 2000-01-12  0.026415   2   1\n",
       "2000-01-11 2000-01-12  0.024043   2   1\n",
       "2000-01-12 2000-01-13  0.031168   2   1\n",
       "2000-01-13 2000-01-19  0.050703   2   1"
      ]
     },
     "execution_count": 3,
     "metadata": {},
     "output_type": "execute_result"
    }
   ],
   "source": [
    "import numpy as np\n",
    "import pandas as pd\n",
    "import matplotlib.pyplot as plt\n",
    "import seaborn as sns\n",
    "from FinancialMachineLearning.labeling.labeling import *\n",
    "\n",
    "triple_barrier_event = pd.read_parquet('../../../Data/AAPL_triple_barrier_events.parquet')\n",
    "avg_uniqueness = pd.read_parquet('../../../Data/AAPL_avg_unique.parquet')\n",
    "feature_matrix = pd.read_parquet('../../../Data/AAPL_feature_matrix.parquet')\n",
    "#triple_barrier_event.head()\n",
    "feature_matrix.head()"
   ]
  },
  {
   "cell_type": "code",
   "execution_count": null,
   "id": "d867bbff4fa9feea",
   "metadata": {
    "ExecuteTime": {
     "end_time": "2024-05-18T15:59:44.247796Z",
     "start_time": "2024-05-18T15:59:43.866914Z"
    }
   },
   "outputs": [
    {
     "ename": "KeyError",
     "evalue": "'Close'",
     "output_type": "error",
     "traceback": [
      "\u001b[31m---------------------------------------------------------------------------\u001b[39m",
      "\u001b[31mKeyError\u001b[39m                                  Traceback (most recent call last)",
      "\u001b[36mFile \u001b[39m\u001b[32m/mnt/ssd_backup/equity-ml-ldp/.venv/lib/python3.12/site-packages/pandas/core/indexes/base.py:3812\u001b[39m, in \u001b[36mIndex.get_loc\u001b[39m\u001b[34m(self, key)\u001b[39m\n\u001b[32m   3811\u001b[39m \u001b[38;5;28;01mtry\u001b[39;00m:\n\u001b[32m-> \u001b[39m\u001b[32m3812\u001b[39m     \u001b[38;5;28;01mreturn\u001b[39;00m \u001b[38;5;28;43mself\u001b[39;49m\u001b[43m.\u001b[49m\u001b[43m_engine\u001b[49m\u001b[43m.\u001b[49m\u001b[43mget_loc\u001b[49m\u001b[43m(\u001b[49m\u001b[43mcasted_key\u001b[49m\u001b[43m)\u001b[49m\n\u001b[32m   3813\u001b[39m \u001b[38;5;28;01mexcept\u001b[39;00m \u001b[38;5;167;01mKeyError\u001b[39;00m \u001b[38;5;28;01mas\u001b[39;00m err:\n",
      "\u001b[36mFile \u001b[39m\u001b[32mpandas/_libs/index.pyx:167\u001b[39m, in \u001b[36mpandas._libs.index.IndexEngine.get_loc\u001b[39m\u001b[34m()\u001b[39m\n",
      "\u001b[36mFile \u001b[39m\u001b[32mpandas/_libs/index.pyx:196\u001b[39m, in \u001b[36mpandas._libs.index.IndexEngine.get_loc\u001b[39m\u001b[34m()\u001b[39m\n",
      "\u001b[36mFile \u001b[39m\u001b[32mpandas/_libs/hashtable_class_helper.pxi:7088\u001b[39m, in \u001b[36mpandas._libs.hashtable.PyObjectHashTable.get_item\u001b[39m\u001b[34m()\u001b[39m\n",
      "\u001b[36mFile \u001b[39m\u001b[32mpandas/_libs/hashtable_class_helper.pxi:7096\u001b[39m, in \u001b[36mpandas._libs.hashtable.PyObjectHashTable.get_item\u001b[39m\u001b[34m()\u001b[39m\n",
      "\u001b[31mKeyError\u001b[39m: 'Close'",
      "\nThe above exception was the direct cause of the following exception:\n",
      "\u001b[31mKeyError\u001b[39m                                  Traceback (most recent call last)",
      "\u001b[36mCell\u001b[39m\u001b[36m \u001b[39m\u001b[32mIn[9]\u001b[39m\u001b[32m, line 3\u001b[39m\n\u001b[32m      1\u001b[39m labels = meta_labeling(\n\u001b[32m      2\u001b[39m     triple_barrier_event, \n\u001b[32m----> \u001b[39m\u001b[32m3\u001b[39m     \u001b[43mfeature_matrix\u001b[49m\u001b[43m[\u001b[49m\u001b[33;43m'\u001b[39;49m\u001b[33;43mClose\u001b[39;49m\u001b[33;43m'\u001b[39;49m\u001b[43m]\u001b[49m\n\u001b[32m      4\u001b[39m )\n\u001b[32m      5\u001b[39m labels.head()\n",
      "\u001b[36mFile \u001b[39m\u001b[32m/mnt/ssd_backup/equity-ml-ldp/.venv/lib/python3.12/site-packages/pandas/core/frame.py:4113\u001b[39m, in \u001b[36mDataFrame.__getitem__\u001b[39m\u001b[34m(self, key)\u001b[39m\n\u001b[32m   4111\u001b[39m \u001b[38;5;28;01mif\u001b[39;00m \u001b[38;5;28mself\u001b[39m.columns.nlevels > \u001b[32m1\u001b[39m:\n\u001b[32m   4112\u001b[39m     \u001b[38;5;28;01mreturn\u001b[39;00m \u001b[38;5;28mself\u001b[39m._getitem_multilevel(key)\n\u001b[32m-> \u001b[39m\u001b[32m4113\u001b[39m indexer = \u001b[38;5;28;43mself\u001b[39;49m\u001b[43m.\u001b[49m\u001b[43mcolumns\u001b[49m\u001b[43m.\u001b[49m\u001b[43mget_loc\u001b[49m\u001b[43m(\u001b[49m\u001b[43mkey\u001b[49m\u001b[43m)\u001b[49m\n\u001b[32m   4114\u001b[39m \u001b[38;5;28;01mif\u001b[39;00m is_integer(indexer):\n\u001b[32m   4115\u001b[39m     indexer = [indexer]\n",
      "\u001b[36mFile \u001b[39m\u001b[32m/mnt/ssd_backup/equity-ml-ldp/.venv/lib/python3.12/site-packages/pandas/core/indexes/base.py:3819\u001b[39m, in \u001b[36mIndex.get_loc\u001b[39m\u001b[34m(self, key)\u001b[39m\n\u001b[32m   3814\u001b[39m     \u001b[38;5;28;01mif\u001b[39;00m \u001b[38;5;28misinstance\u001b[39m(casted_key, \u001b[38;5;28mslice\u001b[39m) \u001b[38;5;129;01mor\u001b[39;00m (\n\u001b[32m   3815\u001b[39m         \u001b[38;5;28misinstance\u001b[39m(casted_key, abc.Iterable)\n\u001b[32m   3816\u001b[39m         \u001b[38;5;129;01mand\u001b[39;00m \u001b[38;5;28many\u001b[39m(\u001b[38;5;28misinstance\u001b[39m(x, \u001b[38;5;28mslice\u001b[39m) \u001b[38;5;28;01mfor\u001b[39;00m x \u001b[38;5;129;01min\u001b[39;00m casted_key)\n\u001b[32m   3817\u001b[39m     ):\n\u001b[32m   3818\u001b[39m         \u001b[38;5;28;01mraise\u001b[39;00m InvalidIndexError(key)\n\u001b[32m-> \u001b[39m\u001b[32m3819\u001b[39m     \u001b[38;5;28;01mraise\u001b[39;00m \u001b[38;5;167;01mKeyError\u001b[39;00m(key) \u001b[38;5;28;01mfrom\u001b[39;00m\u001b[38;5;250m \u001b[39m\u001b[34;01merr\u001b[39;00m\n\u001b[32m   3820\u001b[39m \u001b[38;5;28;01mexcept\u001b[39;00m \u001b[38;5;167;01mTypeError\u001b[39;00m:\n\u001b[32m   3821\u001b[39m     \u001b[38;5;66;03m# If we have a listlike key, _check_indexing_error will raise\u001b[39;00m\n\u001b[32m   3822\u001b[39m     \u001b[38;5;66;03m#  InvalidIndexError. Otherwise we fall through and re-raise\u001b[39;00m\n\u001b[32m   3823\u001b[39m     \u001b[38;5;66;03m#  the TypeError.\u001b[39;00m\n\u001b[32m   3824\u001b[39m     \u001b[38;5;28mself\u001b[39m._check_indexing_error(key)\n",
      "\u001b[31mKeyError\u001b[39m: 'Close'"
     ]
    }
   ],
   "source": [
    "labels = meta_labeling(\n",
    "    triple_barrier_event, \n",
    "    feature_matrix['Close']\n",
    ")\n",
    "labels.head()"
   ]
  },
  {
   "cell_type": "code",
   "execution_count": 5,
   "id": "d4efb4c11c86346c",
   "metadata": {
    "ExecuteTime": {
     "end_time": "2024-05-18T15:59:44.615561Z",
     "start_time": "2024-05-18T15:59:44.248530Z"
    }
   },
   "outputs": [
    {
     "data": {
      "application/vnd.microsoft.datawrangler.viewer.v0+json": {
       "columns": [
        {
         "name": "Date",
         "rawType": "datetime64[ns]",
         "type": "datetime"
        },
        {
         "name": "t1",
         "rawType": "datetime64[ns]",
         "type": "datetime"
        },
        {
         "name": "trgt",
         "rawType": "float64",
         "type": "float"
        },
        {
         "name": "pt",
         "rawType": "int64",
         "type": "integer"
        },
        {
         "name": "sl",
         "rawType": "int64",
         "type": "integer"
        },
        {
         "name": "side",
         "rawType": "float64",
         "type": "float"
        }
       ],
       "ref": "40975078-85fc-4bdf-9970-b3d32e91b41c",
       "rows": [
        [
         "2000-01-07 00:00:00",
         "2000-01-11 00:00:00",
         "0.016797258171578833",
         "2",
         "1",
         "-1.0"
        ],
        [
         "2000-01-10 00:00:00",
         "2000-01-12 00:00:00",
         "0.026414593005728484",
         "2",
         "1",
         "-1.0"
        ],
        [
         "2000-01-11 00:00:00",
         "2000-01-12 00:00:00",
         "0.024043135130989667",
         "2",
         "1",
         "-1.0"
        ],
        [
         "2000-01-12 00:00:00",
         "2000-01-13 00:00:00",
         "0.031168175098886725",
         "2",
         "1",
         "1.0"
        ],
        [
         "2000-01-13 00:00:00",
         "2000-01-19 00:00:00",
         "0.05070292243155436",
         "2",
         "1",
         "0.0"
        ]
       ],
       "shape": {
        "columns": 5,
        "rows": 5
       }
      },
      "text/html": [
       "<div>\n",
       "<style scoped>\n",
       "    .dataframe tbody tr th:only-of-type {\n",
       "        vertical-align: middle;\n",
       "    }\n",
       "\n",
       "    .dataframe tbody tr th {\n",
       "        vertical-align: top;\n",
       "    }\n",
       "\n",
       "    .dataframe thead th {\n",
       "        text-align: right;\n",
       "    }\n",
       "</style>\n",
       "<table border=\"1\" class=\"dataframe\">\n",
       "  <thead>\n",
       "    <tr style=\"text-align: right;\">\n",
       "      <th></th>\n",
       "      <th>t1</th>\n",
       "      <th>trgt</th>\n",
       "      <th>pt</th>\n",
       "      <th>sl</th>\n",
       "      <th>side</th>\n",
       "    </tr>\n",
       "    <tr>\n",
       "      <th>Date</th>\n",
       "      <th></th>\n",
       "      <th></th>\n",
       "      <th></th>\n",
       "      <th></th>\n",
       "      <th></th>\n",
       "    </tr>\n",
       "  </thead>\n",
       "  <tbody>\n",
       "    <tr>\n",
       "      <th>2000-01-07</th>\n",
       "      <td>2000-01-11</td>\n",
       "      <td>0.016797</td>\n",
       "      <td>2</td>\n",
       "      <td>1</td>\n",
       "      <td>-1.0</td>\n",
       "    </tr>\n",
       "    <tr>\n",
       "      <th>2000-01-10</th>\n",
       "      <td>2000-01-12</td>\n",
       "      <td>0.026415</td>\n",
       "      <td>2</td>\n",
       "      <td>1</td>\n",
       "      <td>-1.0</td>\n",
       "    </tr>\n",
       "    <tr>\n",
       "      <th>2000-01-11</th>\n",
       "      <td>2000-01-12</td>\n",
       "      <td>0.024043</td>\n",
       "      <td>2</td>\n",
       "      <td>1</td>\n",
       "      <td>-1.0</td>\n",
       "    </tr>\n",
       "    <tr>\n",
       "      <th>2000-01-12</th>\n",
       "      <td>2000-01-13</td>\n",
       "      <td>0.031168</td>\n",
       "      <td>2</td>\n",
       "      <td>1</td>\n",
       "      <td>1.0</td>\n",
       "    </tr>\n",
       "    <tr>\n",
       "      <th>2000-01-13</th>\n",
       "      <td>2000-01-19</td>\n",
       "      <td>0.050703</td>\n",
       "      <td>2</td>\n",
       "      <td>1</td>\n",
       "      <td>0.0</td>\n",
       "    </tr>\n",
       "  </tbody>\n",
       "</table>\n",
       "</div>"
      ],
      "text/plain": [
       "                   t1      trgt  pt  sl  side\n",
       "Date                                         \n",
       "2000-01-07 2000-01-11  0.016797   2   1  -1.0\n",
       "2000-01-10 2000-01-12  0.026415   2   1  -1.0\n",
       "2000-01-11 2000-01-12  0.024043   2   1  -1.0\n",
       "2000-01-12 2000-01-13  0.031168   2   1   1.0\n",
       "2000-01-13 2000-01-19  0.050703   2   1   0.0"
      ]
     },
     "execution_count": 5,
     "metadata": {},
     "output_type": "execute_result"
    }
   ],
   "source": [
    "triple_barrier_event['side'] = labels['bin']\n",
    "meta_labels = meta_labeling(\n",
    "    triple_barrier_event, # with side labels\n",
    "    feature_matrix['Close']\n",
    ")\n",
    "triple_barrier_event.head()"
   ]
  },
  {
   "cell_type": "markdown",
   "id": "8ba9f772f8b78df4",
   "metadata": {},
   "source": [
    "feature matrix 생성"
   ]
  },
  {
   "cell_type": "code",
   "execution_count": 6,
   "id": "529c71c41aee1dba",
   "metadata": {
    "ExecuteTime": {
     "end_time": "2024-05-18T15:59:44.621043Z",
     "start_time": "2024-05-18T15:59:44.616355Z"
    }
   },
   "outputs": [
    {
     "data": {
      "application/vnd.microsoft.datawrangler.viewer.v0+json": {
       "columns": [
        {
         "name": "Date",
         "rawType": "datetime64[ns]",
         "type": "datetime"
        },
        {
         "name": "Open",
         "rawType": "float64",
         "type": "float"
        },
        {
         "name": "High",
         "rawType": "float64",
         "type": "float"
        },
        {
         "name": "Low",
         "rawType": "float64",
         "type": "float"
        },
        {
         "name": "Close",
         "rawType": "float64",
         "type": "float"
        },
        {
         "name": "Adj Close",
         "rawType": "float64",
         "type": "float"
        },
        {
         "name": "Volume",
         "rawType": "float64",
         "type": "float"
        },
        {
         "name": "money_flow_index",
         "rawType": "float64",
         "type": "float"
        },
        {
         "name": "ease_of_movement",
         "rawType": "float64",
         "type": "float"
        },
        {
         "name": "average_true_range",
         "rawType": "float64",
         "type": "float"
        },
        {
         "name": "ulcer_index",
         "rawType": "float64",
         "type": "float"
        },
        {
         "name": "adx",
         "rawType": "float64",
         "type": "float"
        },
        {
         "name": "trix",
         "rawType": "float64",
         "type": "float"
        },
        {
         "name": "rsi",
         "rawType": "float64",
         "type": "float"
        },
        {
         "name": "stoch",
         "rawType": "float64",
         "type": "float"
        },
        {
         "name": "psycological_index",
         "rawType": "float64",
         "type": "float"
        },
        {
         "name": "ret",
         "rawType": "float64",
         "type": "float"
        },
        {
         "name": "std",
         "rawType": "float64",
         "type": "float"
        },
        {
         "name": "skew",
         "rawType": "float64",
         "type": "float"
        },
        {
         "name": "kurt",
         "rawType": "float64",
         "type": "float"
        },
        {
         "name": "GC=F",
         "rawType": "float64",
         "type": "float"
        },
        {
         "name": "JPY=X",
         "rawType": "float64",
         "type": "float"
        },
        {
         "name": "^FVX",
         "rawType": "float64",
         "type": "float"
        },
        {
         "name": "^GSPC",
         "rawType": "float64",
         "type": "float"
        },
        {
         "name": "^TYX",
         "rawType": "float64",
         "type": "float"
        },
        {
         "name": "^VIX",
         "rawType": "float64",
         "type": "float"
        },
        {
         "name": "side",
         "rawType": "float64",
         "type": "float"
        },
        {
         "name": "label",
         "rawType": "float64",
         "type": "float"
        }
       ],
       "ref": "f80eed9e-b31b-40d6-9c4a-dc82faa340ff",
       "rows": [
        [
         "2000-01-03 00:00:00",
         "0.9363840222358704",
         "1.004464030265808",
         "0.9079239964485168",
         "0.9994419813156128",
         "0.8449808359146118",
         "535796800.0",
         null,
         null,
         null,
         null,
         "0.0",
         null,
         null,
         null,
         null,
         null,
         null,
         null,
         null,
         null,
         null,
         null,
         null,
         null,
         "0.24209999084472658",
         null,
         null
        ],
        [
         "2000-01-04 00:00:00",
         "0.966517984867096",
         "0.9877229928970337",
         "0.9034600257873535",
         "0.9151790142059326",
         "0.7737404704093933",
         "512377600.0",
         null,
         "-1.7436329127065158e-06",
         null,
         null,
         "0.0",
         null,
         null,
         null,
         null,
         "-0.08431001367259039",
         null,
         null,
         null,
         null,
         "0.014258992166684914",
         "-0.009447091898789672",
         "-0.03834466807849768",
         "-0.010003028833760252",
         "0.27010000228881836",
         null,
         null
        ],
        [
         "2000-01-05 00:00:00",
         "0.9263389706611633",
         "0.9871649742126465",
         "0.919642984867096",
         "0.9285709857940674",
         "0.7850629091262817",
         "778321600.0",
         null,
         "6.777577924729557e-07",
         null,
         null,
         "0.0",
         null,
         null,
         null,
         null,
         "0.014633171631185826",
         null,
         null,
         null,
         null,
         "0.009210751928097505",
         "0.01454032778007397",
         "0.0019221829913671495",
         "0.015156150662728463",
         "0.2640999984741211",
         null,
         null
        ],
        [
         "2000-01-06 00:00:00",
         "0.9475449919700623",
         "0.955357015132904",
         "0.8482139706611633",
         "0.8482139706611633",
         "0.717124879360199",
         "767972800.0",
         null,
         "-7.201507410076888e-06",
         null,
         null,
         "0.0",
         null,
         null,
         null,
         null,
         "-0.0865383652539895",
         null,
         null,
         null,
         null,
         "0.010952128534449601",
         "-0.006010176494418595",
         "0.0009556781096431433",
         "-0.008897604416442606",
         "0.25729999542236326",
         null,
         null
        ],
        [
         "2000-01-07 00:00:00",
         "0.861607015132904",
         "0.9017860293388367",
         "0.8526790142059326",
         "0.888392984867096",
         "0.7510943412780762",
         "460734400.0",
         null,
         "-2.616959195093523e-06",
         null,
         null,
         "0.0",
         null,
         null,
         null,
         null,
         "0.047368960658139114",
         null,
         null,
         null,
         null,
         "0.0009502848135611863",
         "-0.008217050366573164",
         "0.027090399268961063",
         "-0.005325600619278781",
         "0.21719999313354493",
         "-1.0",
         "1.0"
        ],
        [
         "2000-01-10 00:00:00",
         "0.9107139706611633",
         "0.9129459857940674",
         "0.845982015132904",
         "0.872767984867096",
         "0.7378841638565063",
         "505064000.0",
         null,
         "2.9586086832936715e-07",
         null,
         null,
         "0.0",
         null,
         null,
         null,
         null,
         "-0.017587937169874834",
         null,
         null,
         null,
         null,
         "-0.0016139577137573857",
         "0.00969208632921914",
         "0.011189969413615053",
         "0.00810769035390635",
         "0.21709999084472656",
         "-1.0",
         "1.0"
        ],
        [
         "2000-01-11 00:00:00",
         "0.8565850257873535",
         "0.8872770071029663",
         "0.8080360293388367",
         "0.828125",
         "0.7001404762268066",
         "441548800.0",
         null,
         "-5.708216154403694e-06",
         null,
         null,
         "0.0",
         null,
         null,
         null,
         null,
         "-0.05115103399890886",
         null,
         null,
         null,
         null,
         "0.00817794742305522",
         "0.016875635127667765",
         "-0.013062511876438365",
         "0.013201804427016794",
         "0.225",
         "-1.0",
         "1.0"
        ],
        [
         "2000-01-12 00:00:00",
         "0.8482139706611633",
         "0.8526790142059326",
         "0.7723209857940674",
         "0.7784600257873535",
         "0.6581510901451111",
         "976068800.0",
         null,
         "-2.894374341293831e-06",
         null,
         null,
         "0.0",
         null,
         null,
         null,
         null,
         "-0.05997279904923347",
         null,
         null,
         null,
         null,
         "-0.0029239536729793736",
         "0.005937886005424442",
         "-0.004386371327394056",
         "0.003594453749009796",
         "0.22840000152587892",
         "1.0",
         "1.0"
        ],
        [
         "2000-01-13 00:00:00",
         "0.8436099886894226",
         "0.8816959857940674",
         "0.825892984867096",
         "0.8638389706611633",
         "0.7303351759910583",
         "1032684800.0",
         null,
         "2.2314226017282883e-06",
         null,
         null,
         "0.0",
         null,
         null,
         null,
         null,
         "0.10967672333265344",
         null,
         null,
         null,
         null,
         "0.0029325282497263405",
         "-0.014075970474057842",
         "0.012169700618563484",
         "-0.009252391088147904",
         "0.21709999084472656",
         "0.0",
         "0.0"
        ],
        [
         "2000-01-14 00:00:00",
         "0.892857015132904",
         "0.9129459857940674",
         "0.8872770071029663",
         "0.896763026714325",
         "0.7581709027290344",
         "390376000.0",
         null,
         "3.045551907447614e-06",
         null,
         null,
         "0.0",
         null,
         null,
         null,
         null,
         "0.03811364984837651",
         null,
         null,
         null,
         null,
         "-0.0013204998498516085",
         "0.0084433265050603",
         "0.010671299962722536",
         "0.007380669327397449",
         "0.1965999984741211",
         "0.0",
         "0.0"
        ],
        [
         "2000-01-17 00:00:00",
         null,
         null,
         null,
         null,
         null,
         null,
         null,
         null,
         null,
         null,
         null,
         null,
         null,
         null,
         null,
         null,
         null,
         null,
         null,
         null,
         "-0.009350187848985558",
         "0.0",
         "0.0",
         "0.0",
         null,
         null,
         null
        ],
        [
         "2000-01-18 00:00:00",
         "0.9017860293388367",
         "0.9464290142059326",
         "0.896763026714325",
         "0.928013026714325",
         "0.7845908999443054",
         "459177600.0",
         null,
         "2.323828733857799e-06",
         null,
         null,
         "0.0",
         null,
         null,
         null,
         null,
         "0.03484755623177027",
         null,
         null,
         null,
         null,
         "0.007341064705325362",
         "0.008524925358540658",
         "-0.00683207152771137",
         "0.008074147605479753",
         "0.215",
         "0.0",
         "0.0"
        ],
        [
         "2000-01-19 00:00:00",
         "0.9430800080299377",
         "0.970982015132904",
         "0.9229909777641296",
         "0.9514510035514832",
         "0.804407000541687",
         "597643200.0",
         null,
         "2.038867474723549e-06",
         null,
         null,
         "0.0",
         null,
         null,
         null,
         null,
         "0.025256086027306557",
         null,
         null,
         null,
         null,
         "-0.003785742116364843",
         "-0.004679266011939909",
         "0.0005222932212531894",
         "-0.0038564257625309795",
         "0.21719999313354493",
         "0.0",
         "0.0"
        ],
        [
         "2000-01-20 00:00:00",
         "1.03125",
         "1.0848209857940674",
         "1.0133930444717407",
         "1.0133930444717407",
         "0.8567758202552795",
         "1831132800.0",
         null,
         "3.983467729043995e-06",
         null,
         null,
         "0.0",
         null,
         null,
         null,
         null,
         "0.06510271226689168",
         null,
         null,
         null,
         null,
         "0.00047497075193447813",
         "0.005914473027677447",
         "-0.007095321074094607",
         "0.001637902958811388",
         "0.2175",
         "0.0",
         "0.0"
        ],
        [
         "2000-01-21 00:00:00",
         "1.020089030265808",
         "1.020089030265808",
         "0.9838169813156128",
         "0.993861973285675",
         "0.8402631878852844",
         "495924800.0",
         "0.5707885215019897",
         "-3.448854614768234e-06",
         "inf",
         "0.11290327369119049",
         "0.0",
         null,
         "0.5714782287480012",
         "0.7089311599731446",
         "0.5",
         "-0.01927294773988386",
         null,
         null,
         null,
         null,
         "-0.005602472239754408",
         "0.002562972806910313",
         "-0.0029123190810015354",
         "-0.0026758027727296074",
         "0.2081999969482422",
         "0.0",
         "0.0"
        ],
        [
         "2000-01-24 00:00:00",
         "0.9681919813156128",
         "1.0066959857940674",
         "0.9386159777641296",
         "0.9486610293388367",
         "0.8020480275154114",
         "440876800.0",
         "0.5436448953076427",
         "-4.52403399308791e-06",
         "-0.007887200301742725",
         "0.11418665733948107",
         "0.0",
         null,
         "0.5053855691602925",
         "0.5642881393432617",
         "0.5",
         "-0.04548010202805686",
         null,
         null,
         null,
         null,
         "0.008880827867980612",
         "-0.011729333465557046",
         "-0.027633593591799732",
         "-0.009241358419416645",
         "0.2406999969482422",
         "0.0",
         "0.0"
        ],
        [
         "2000-01-25 00:00:00",
         "0.9375",
         "1.010045051574707",
         "0.9140629768371582",
         "1.0022319555282593",
         "0.8473396897315979",
         "497145600.0",
         "0.5974922567659522",
         "-2.0468829332346058e-06",
         "0.018866919667747117",
         "0.1119800424239533",
         "0.0",
         null,
         "0.5690052967464431",
         "0.7357151031494141",
         "0.5714285714285714",
         "0.05647003991168331",
         null,
         null,
         null,
         null,
         "0.0020823588975455998",
         "0.0012172697764256668",
         "0.006064800483985611",
         "-0.0019557712900407642",
         "0.23020000457763673",
         "0.0",
         "0.0"
        ],
        [
         "2000-01-26 00:00:00",
         "0.982142984867096",
         "1.019531011581421",
         "0.9799110293388367",
         "0.9838169813156128",
         "0.8317705392837524",
         "367158400.0",
         "0.5801079359696544",
         "4.06463836568239e-06",
         "-0.03484612496805439",
         "0.11063998418365359",
         "0.0",
         null,
         "0.543143070392356",
         "0.6767871856689454",
         "0.5",
         "-0.01837396434135874",
         null,
         null,
         null,
         null,
         "-0.0027392170398021776",
         "0.0048632317964876215",
         "-0.00421272125638672",
         "-0.007235432638807104",
         "0.23030000686645508",
         "0.0",
         "0.0"
        ],
        [
         "2000-01-27 00:00:00",
         "0.9715399742126465",
         "1.0089290142059326",
         "0.955357015132904",
         "0.982142984867096",
         "0.8303553462028503",
         "340144000.0",
         "0.6043984051003553",
         "-2.768500723004466e-06",
         "-0.02017787596414844",
         "0.10331379152053073",
         "0.0",
         null,
         "0.5407370250508298",
         "0.6714303970336915",
         "0.5",
         "-0.001701532378795001",
         null,
         null,
         null,
         null,
         "-0.005588217058655309",
         "0.005898371808798597",
         "-0.00393842799334565",
         "-0.009262051414861916",
         "0.23540000915527345",
         "0.0",
         "0.0"
        ],
        [
         "2000-01-28 00:00:00",
         "0.9659600257873535",
         "0.9899550080299377",
         "0.8984379768371582",
         "0.9073659777641296",
         "0.7671351432800293",
         "423348800.0",
         "0.6052333089968382",
         "-8.203053980825387e-06",
         "0.017925962147272934",
         "0.10282900476829916",
         "0.0",
         null,
         "0.4457473207679648",
         "0.4321439743041992",
         "0.42857142857142855",
         "-0.07613657914899752",
         null,
         null,
         null,
         null,
         "0.01971616093858919",
         "0.0013531535848676501",
         "-0.027456829027902918",
         "-0.014406109011038337",
         "0.2613999938964844",
         "0.0",
         "0.0"
        ]
       ],
       "shape": {
        "columns": 27,
        "rows": 20
       }
      },
      "text/html": [
       "<div>\n",
       "<style scoped>\n",
       "    .dataframe tbody tr th:only-of-type {\n",
       "        vertical-align: middle;\n",
       "    }\n",
       "\n",
       "    .dataframe tbody tr th {\n",
       "        vertical-align: top;\n",
       "    }\n",
       "\n",
       "    .dataframe thead th {\n",
       "        text-align: right;\n",
       "    }\n",
       "</style>\n",
       "<table border=\"1\" class=\"dataframe\">\n",
       "  <thead>\n",
       "    <tr style=\"text-align: right;\">\n",
       "      <th></th>\n",
       "      <th>Open</th>\n",
       "      <th>High</th>\n",
       "      <th>Low</th>\n",
       "      <th>Close</th>\n",
       "      <th>Adj Close</th>\n",
       "      <th>Volume</th>\n",
       "      <th>money_flow_index</th>\n",
       "      <th>ease_of_movement</th>\n",
       "      <th>average_true_range</th>\n",
       "      <th>ulcer_index</th>\n",
       "      <th>...</th>\n",
       "      <th>skew</th>\n",
       "      <th>kurt</th>\n",
       "      <th>GC=F</th>\n",
       "      <th>JPY=X</th>\n",
       "      <th>^FVX</th>\n",
       "      <th>^GSPC</th>\n",
       "      <th>^TYX</th>\n",
       "      <th>^VIX</th>\n",
       "      <th>side</th>\n",
       "      <th>label</th>\n",
       "    </tr>\n",
       "    <tr>\n",
       "      <th>Date</th>\n",
       "      <th></th>\n",
       "      <th></th>\n",
       "      <th></th>\n",
       "      <th></th>\n",
       "      <th></th>\n",
       "      <th></th>\n",
       "      <th></th>\n",
       "      <th></th>\n",
       "      <th></th>\n",
       "      <th></th>\n",
       "      <th></th>\n",
       "      <th></th>\n",
       "      <th></th>\n",
       "      <th></th>\n",
       "      <th></th>\n",
       "      <th></th>\n",
       "      <th></th>\n",
       "      <th></th>\n",
       "      <th></th>\n",
       "      <th></th>\n",
       "      <th></th>\n",
       "    </tr>\n",
       "  </thead>\n",
       "  <tbody>\n",
       "    <tr>\n",
       "      <th>2000-01-03</th>\n",
       "      <td>0.936384</td>\n",
       "      <td>1.004464</td>\n",
       "      <td>0.907924</td>\n",
       "      <td>0.999442</td>\n",
       "      <td>0.844981</td>\n",
       "      <td>5.357968e+08</td>\n",
       "      <td>NaN</td>\n",
       "      <td>NaN</td>\n",
       "      <td>NaN</td>\n",
       "      <td>NaN</td>\n",
       "      <td>...</td>\n",
       "      <td>NaN</td>\n",
       "      <td>NaN</td>\n",
       "      <td>NaN</td>\n",
       "      <td>NaN</td>\n",
       "      <td>NaN</td>\n",
       "      <td>NaN</td>\n",
       "      <td>NaN</td>\n",
       "      <td>0.2421</td>\n",
       "      <td>NaN</td>\n",
       "      <td>NaN</td>\n",
       "    </tr>\n",
       "    <tr>\n",
       "      <th>2000-01-04</th>\n",
       "      <td>0.966518</td>\n",
       "      <td>0.987723</td>\n",
       "      <td>0.903460</td>\n",
       "      <td>0.915179</td>\n",
       "      <td>0.773740</td>\n",
       "      <td>5.123776e+08</td>\n",
       "      <td>NaN</td>\n",
       "      <td>-1.743633e-06</td>\n",
       "      <td>NaN</td>\n",
       "      <td>NaN</td>\n",
       "      <td>...</td>\n",
       "      <td>NaN</td>\n",
       "      <td>NaN</td>\n",
       "      <td>NaN</td>\n",
       "      <td>0.014259</td>\n",
       "      <td>-0.009447</td>\n",
       "      <td>-0.038345</td>\n",
       "      <td>-0.010003</td>\n",
       "      <td>0.2701</td>\n",
       "      <td>NaN</td>\n",
       "      <td>NaN</td>\n",
       "    </tr>\n",
       "    <tr>\n",
       "      <th>2000-01-05</th>\n",
       "      <td>0.926339</td>\n",
       "      <td>0.987165</td>\n",
       "      <td>0.919643</td>\n",
       "      <td>0.928571</td>\n",
       "      <td>0.785063</td>\n",
       "      <td>7.783216e+08</td>\n",
       "      <td>NaN</td>\n",
       "      <td>6.777578e-07</td>\n",
       "      <td>NaN</td>\n",
       "      <td>NaN</td>\n",
       "      <td>...</td>\n",
       "      <td>NaN</td>\n",
       "      <td>NaN</td>\n",
       "      <td>NaN</td>\n",
       "      <td>0.009211</td>\n",
       "      <td>0.014540</td>\n",
       "      <td>0.001922</td>\n",
       "      <td>0.015156</td>\n",
       "      <td>0.2641</td>\n",
       "      <td>NaN</td>\n",
       "      <td>NaN</td>\n",
       "    </tr>\n",
       "    <tr>\n",
       "      <th>2000-01-06</th>\n",
       "      <td>0.947545</td>\n",
       "      <td>0.955357</td>\n",
       "      <td>0.848214</td>\n",
       "      <td>0.848214</td>\n",
       "      <td>0.717125</td>\n",
       "      <td>7.679728e+08</td>\n",
       "      <td>NaN</td>\n",
       "      <td>-7.201507e-06</td>\n",
       "      <td>NaN</td>\n",
       "      <td>NaN</td>\n",
       "      <td>...</td>\n",
       "      <td>NaN</td>\n",
       "      <td>NaN</td>\n",
       "      <td>NaN</td>\n",
       "      <td>0.010952</td>\n",
       "      <td>-0.006010</td>\n",
       "      <td>0.000956</td>\n",
       "      <td>-0.008898</td>\n",
       "      <td>0.2573</td>\n",
       "      <td>NaN</td>\n",
       "      <td>NaN</td>\n",
       "    </tr>\n",
       "    <tr>\n",
       "      <th>2000-01-07</th>\n",
       "      <td>0.861607</td>\n",
       "      <td>0.901786</td>\n",
       "      <td>0.852679</td>\n",
       "      <td>0.888393</td>\n",
       "      <td>0.751094</td>\n",
       "      <td>4.607344e+08</td>\n",
       "      <td>NaN</td>\n",
       "      <td>-2.616959e-06</td>\n",
       "      <td>NaN</td>\n",
       "      <td>NaN</td>\n",
       "      <td>...</td>\n",
       "      <td>NaN</td>\n",
       "      <td>NaN</td>\n",
       "      <td>NaN</td>\n",
       "      <td>0.000950</td>\n",
       "      <td>-0.008217</td>\n",
       "      <td>0.027090</td>\n",
       "      <td>-0.005326</td>\n",
       "      <td>0.2172</td>\n",
       "      <td>-1.0</td>\n",
       "      <td>1.0</td>\n",
       "    </tr>\n",
       "    <tr>\n",
       "      <th>2000-01-10</th>\n",
       "      <td>0.910714</td>\n",
       "      <td>0.912946</td>\n",
       "      <td>0.845982</td>\n",
       "      <td>0.872768</td>\n",
       "      <td>0.737884</td>\n",
       "      <td>5.050640e+08</td>\n",
       "      <td>NaN</td>\n",
       "      <td>2.958609e-07</td>\n",
       "      <td>NaN</td>\n",
       "      <td>NaN</td>\n",
       "      <td>...</td>\n",
       "      <td>NaN</td>\n",
       "      <td>NaN</td>\n",
       "      <td>NaN</td>\n",
       "      <td>-0.001614</td>\n",
       "      <td>0.009692</td>\n",
       "      <td>0.011190</td>\n",
       "      <td>0.008108</td>\n",
       "      <td>0.2171</td>\n",
       "      <td>-1.0</td>\n",
       "      <td>1.0</td>\n",
       "    </tr>\n",
       "    <tr>\n",
       "      <th>2000-01-11</th>\n",
       "      <td>0.856585</td>\n",
       "      <td>0.887277</td>\n",
       "      <td>0.808036</td>\n",
       "      <td>0.828125</td>\n",
       "      <td>0.700140</td>\n",
       "      <td>4.415488e+08</td>\n",
       "      <td>NaN</td>\n",
       "      <td>-5.708216e-06</td>\n",
       "      <td>NaN</td>\n",
       "      <td>NaN</td>\n",
       "      <td>...</td>\n",
       "      <td>NaN</td>\n",
       "      <td>NaN</td>\n",
       "      <td>NaN</td>\n",
       "      <td>0.008178</td>\n",
       "      <td>0.016876</td>\n",
       "      <td>-0.013063</td>\n",
       "      <td>0.013202</td>\n",
       "      <td>0.2250</td>\n",
       "      <td>-1.0</td>\n",
       "      <td>1.0</td>\n",
       "    </tr>\n",
       "    <tr>\n",
       "      <th>2000-01-12</th>\n",
       "      <td>0.848214</td>\n",
       "      <td>0.852679</td>\n",
       "      <td>0.772321</td>\n",
       "      <td>0.778460</td>\n",
       "      <td>0.658151</td>\n",
       "      <td>9.760688e+08</td>\n",
       "      <td>NaN</td>\n",
       "      <td>-2.894374e-06</td>\n",
       "      <td>NaN</td>\n",
       "      <td>NaN</td>\n",
       "      <td>...</td>\n",
       "      <td>NaN</td>\n",
       "      <td>NaN</td>\n",
       "      <td>NaN</td>\n",
       "      <td>-0.002924</td>\n",
       "      <td>0.005938</td>\n",
       "      <td>-0.004386</td>\n",
       "      <td>0.003594</td>\n",
       "      <td>0.2284</td>\n",
       "      <td>1.0</td>\n",
       "      <td>1.0</td>\n",
       "    </tr>\n",
       "    <tr>\n",
       "      <th>2000-01-13</th>\n",
       "      <td>0.843610</td>\n",
       "      <td>0.881696</td>\n",
       "      <td>0.825893</td>\n",
       "      <td>0.863839</td>\n",
       "      <td>0.730335</td>\n",
       "      <td>1.032685e+09</td>\n",
       "      <td>NaN</td>\n",
       "      <td>2.231423e-06</td>\n",
       "      <td>NaN</td>\n",
       "      <td>NaN</td>\n",
       "      <td>...</td>\n",
       "      <td>NaN</td>\n",
       "      <td>NaN</td>\n",
       "      <td>NaN</td>\n",
       "      <td>0.002933</td>\n",
       "      <td>-0.014076</td>\n",
       "      <td>0.012170</td>\n",
       "      <td>-0.009252</td>\n",
       "      <td>0.2171</td>\n",
       "      <td>0.0</td>\n",
       "      <td>0.0</td>\n",
       "    </tr>\n",
       "    <tr>\n",
       "      <th>2000-01-14</th>\n",
       "      <td>0.892857</td>\n",
       "      <td>0.912946</td>\n",
       "      <td>0.887277</td>\n",
       "      <td>0.896763</td>\n",
       "      <td>0.758171</td>\n",
       "      <td>3.903760e+08</td>\n",
       "      <td>NaN</td>\n",
       "      <td>3.045552e-06</td>\n",
       "      <td>NaN</td>\n",
       "      <td>NaN</td>\n",
       "      <td>...</td>\n",
       "      <td>NaN</td>\n",
       "      <td>NaN</td>\n",
       "      <td>NaN</td>\n",
       "      <td>-0.001320</td>\n",
       "      <td>0.008443</td>\n",
       "      <td>0.010671</td>\n",
       "      <td>0.007381</td>\n",
       "      <td>0.1966</td>\n",
       "      <td>0.0</td>\n",
       "      <td>0.0</td>\n",
       "    </tr>\n",
       "    <tr>\n",
       "      <th>2000-01-17</th>\n",
       "      <td>NaN</td>\n",
       "      <td>NaN</td>\n",
       "      <td>NaN</td>\n",
       "      <td>NaN</td>\n",
       "      <td>NaN</td>\n",
       "      <td>NaN</td>\n",
       "      <td>NaN</td>\n",
       "      <td>NaN</td>\n",
       "      <td>NaN</td>\n",
       "      <td>NaN</td>\n",
       "      <td>...</td>\n",
       "      <td>NaN</td>\n",
       "      <td>NaN</td>\n",
       "      <td>NaN</td>\n",
       "      <td>-0.009350</td>\n",
       "      <td>0.000000</td>\n",
       "      <td>0.000000</td>\n",
       "      <td>0.000000</td>\n",
       "      <td>NaN</td>\n",
       "      <td>NaN</td>\n",
       "      <td>NaN</td>\n",
       "    </tr>\n",
       "    <tr>\n",
       "      <th>2000-01-18</th>\n",
       "      <td>0.901786</td>\n",
       "      <td>0.946429</td>\n",
       "      <td>0.896763</td>\n",
       "      <td>0.928013</td>\n",
       "      <td>0.784591</td>\n",
       "      <td>4.591776e+08</td>\n",
       "      <td>NaN</td>\n",
       "      <td>2.323829e-06</td>\n",
       "      <td>NaN</td>\n",
       "      <td>NaN</td>\n",
       "      <td>...</td>\n",
       "      <td>NaN</td>\n",
       "      <td>NaN</td>\n",
       "      <td>NaN</td>\n",
       "      <td>0.007341</td>\n",
       "      <td>0.008525</td>\n",
       "      <td>-0.006832</td>\n",
       "      <td>0.008074</td>\n",
       "      <td>0.2150</td>\n",
       "      <td>0.0</td>\n",
       "      <td>0.0</td>\n",
       "    </tr>\n",
       "    <tr>\n",
       "      <th>2000-01-19</th>\n",
       "      <td>0.943080</td>\n",
       "      <td>0.970982</td>\n",
       "      <td>0.922991</td>\n",
       "      <td>0.951451</td>\n",
       "      <td>0.804407</td>\n",
       "      <td>5.976432e+08</td>\n",
       "      <td>NaN</td>\n",
       "      <td>2.038867e-06</td>\n",
       "      <td>NaN</td>\n",
       "      <td>NaN</td>\n",
       "      <td>...</td>\n",
       "      <td>NaN</td>\n",
       "      <td>NaN</td>\n",
       "      <td>NaN</td>\n",
       "      <td>-0.003786</td>\n",
       "      <td>-0.004679</td>\n",
       "      <td>0.000522</td>\n",
       "      <td>-0.003856</td>\n",
       "      <td>0.2172</td>\n",
       "      <td>0.0</td>\n",
       "      <td>0.0</td>\n",
       "    </tr>\n",
       "    <tr>\n",
       "      <th>2000-01-20</th>\n",
       "      <td>1.031250</td>\n",
       "      <td>1.084821</td>\n",
       "      <td>1.013393</td>\n",
       "      <td>1.013393</td>\n",
       "      <td>0.856776</td>\n",
       "      <td>1.831133e+09</td>\n",
       "      <td>NaN</td>\n",
       "      <td>3.983468e-06</td>\n",
       "      <td>NaN</td>\n",
       "      <td>NaN</td>\n",
       "      <td>...</td>\n",
       "      <td>NaN</td>\n",
       "      <td>NaN</td>\n",
       "      <td>NaN</td>\n",
       "      <td>0.000475</td>\n",
       "      <td>0.005914</td>\n",
       "      <td>-0.007095</td>\n",
       "      <td>0.001638</td>\n",
       "      <td>0.2175</td>\n",
       "      <td>0.0</td>\n",
       "      <td>0.0</td>\n",
       "    </tr>\n",
       "    <tr>\n",
       "      <th>2000-01-21</th>\n",
       "      <td>1.020089</td>\n",
       "      <td>1.020089</td>\n",
       "      <td>0.983817</td>\n",
       "      <td>0.993862</td>\n",
       "      <td>0.840263</td>\n",
       "      <td>4.959248e+08</td>\n",
       "      <td>0.570789</td>\n",
       "      <td>-3.448855e-06</td>\n",
       "      <td>inf</td>\n",
       "      <td>0.112903</td>\n",
       "      <td>...</td>\n",
       "      <td>NaN</td>\n",
       "      <td>NaN</td>\n",
       "      <td>NaN</td>\n",
       "      <td>-0.005602</td>\n",
       "      <td>0.002563</td>\n",
       "      <td>-0.002912</td>\n",
       "      <td>-0.002676</td>\n",
       "      <td>0.2082</td>\n",
       "      <td>0.0</td>\n",
       "      <td>0.0</td>\n",
       "    </tr>\n",
       "    <tr>\n",
       "      <th>2000-01-24</th>\n",
       "      <td>0.968192</td>\n",
       "      <td>1.006696</td>\n",
       "      <td>0.938616</td>\n",
       "      <td>0.948661</td>\n",
       "      <td>0.802048</td>\n",
       "      <td>4.408768e+08</td>\n",
       "      <td>0.543645</td>\n",
       "      <td>-4.524034e-06</td>\n",
       "      <td>-0.007887</td>\n",
       "      <td>0.114187</td>\n",
       "      <td>...</td>\n",
       "      <td>NaN</td>\n",
       "      <td>NaN</td>\n",
       "      <td>NaN</td>\n",
       "      <td>0.008881</td>\n",
       "      <td>-0.011729</td>\n",
       "      <td>-0.027634</td>\n",
       "      <td>-0.009241</td>\n",
       "      <td>0.2407</td>\n",
       "      <td>0.0</td>\n",
       "      <td>0.0</td>\n",
       "    </tr>\n",
       "    <tr>\n",
       "      <th>2000-01-25</th>\n",
       "      <td>0.937500</td>\n",
       "      <td>1.010045</td>\n",
       "      <td>0.914063</td>\n",
       "      <td>1.002232</td>\n",
       "      <td>0.847340</td>\n",
       "      <td>4.971456e+08</td>\n",
       "      <td>0.597492</td>\n",
       "      <td>-2.046883e-06</td>\n",
       "      <td>0.018867</td>\n",
       "      <td>0.111980</td>\n",
       "      <td>...</td>\n",
       "      <td>NaN</td>\n",
       "      <td>NaN</td>\n",
       "      <td>NaN</td>\n",
       "      <td>0.002082</td>\n",
       "      <td>0.001217</td>\n",
       "      <td>0.006065</td>\n",
       "      <td>-0.001956</td>\n",
       "      <td>0.2302</td>\n",
       "      <td>0.0</td>\n",
       "      <td>0.0</td>\n",
       "    </tr>\n",
       "    <tr>\n",
       "      <th>2000-01-26</th>\n",
       "      <td>0.982143</td>\n",
       "      <td>1.019531</td>\n",
       "      <td>0.979911</td>\n",
       "      <td>0.983817</td>\n",
       "      <td>0.831771</td>\n",
       "      <td>3.671584e+08</td>\n",
       "      <td>0.580108</td>\n",
       "      <td>4.064638e-06</td>\n",
       "      <td>-0.034846</td>\n",
       "      <td>0.110640</td>\n",
       "      <td>...</td>\n",
       "      <td>NaN</td>\n",
       "      <td>NaN</td>\n",
       "      <td>NaN</td>\n",
       "      <td>-0.002739</td>\n",
       "      <td>0.004863</td>\n",
       "      <td>-0.004213</td>\n",
       "      <td>-0.007235</td>\n",
       "      <td>0.2303</td>\n",
       "      <td>0.0</td>\n",
       "      <td>0.0</td>\n",
       "    </tr>\n",
       "    <tr>\n",
       "      <th>2000-01-27</th>\n",
       "      <td>0.971540</td>\n",
       "      <td>1.008929</td>\n",
       "      <td>0.955357</td>\n",
       "      <td>0.982143</td>\n",
       "      <td>0.830355</td>\n",
       "      <td>3.401440e+08</td>\n",
       "      <td>0.604398</td>\n",
       "      <td>-2.768501e-06</td>\n",
       "      <td>-0.020178</td>\n",
       "      <td>0.103314</td>\n",
       "      <td>...</td>\n",
       "      <td>NaN</td>\n",
       "      <td>NaN</td>\n",
       "      <td>NaN</td>\n",
       "      <td>-0.005588</td>\n",
       "      <td>0.005898</td>\n",
       "      <td>-0.003938</td>\n",
       "      <td>-0.009262</td>\n",
       "      <td>0.2354</td>\n",
       "      <td>0.0</td>\n",
       "      <td>0.0</td>\n",
       "    </tr>\n",
       "    <tr>\n",
       "      <th>2000-01-28</th>\n",
       "      <td>0.965960</td>\n",
       "      <td>0.989955</td>\n",
       "      <td>0.898438</td>\n",
       "      <td>0.907366</td>\n",
       "      <td>0.767135</td>\n",
       "      <td>4.233488e+08</td>\n",
       "      <td>0.605233</td>\n",
       "      <td>-8.203054e-06</td>\n",
       "      <td>0.017926</td>\n",
       "      <td>0.102829</td>\n",
       "      <td>...</td>\n",
       "      <td>NaN</td>\n",
       "      <td>NaN</td>\n",
       "      <td>NaN</td>\n",
       "      <td>0.019716</td>\n",
       "      <td>0.001353</td>\n",
       "      <td>-0.027457</td>\n",
       "      <td>-0.014406</td>\n",
       "      <td>0.2614</td>\n",
       "      <td>0.0</td>\n",
       "      <td>0.0</td>\n",
       "    </tr>\n",
       "  </tbody>\n",
       "</table>\n",
       "<p>20 rows × 27 columns</p>\n",
       "</div>"
      ],
      "text/plain": [
       "                Open      High       Low     Close  Adj Close        Volume  \\\n",
       "Date                                                                          \n",
       "2000-01-03  0.936384  1.004464  0.907924  0.999442   0.844981  5.357968e+08   \n",
       "2000-01-04  0.966518  0.987723  0.903460  0.915179   0.773740  5.123776e+08   \n",
       "2000-01-05  0.926339  0.987165  0.919643  0.928571   0.785063  7.783216e+08   \n",
       "2000-01-06  0.947545  0.955357  0.848214  0.848214   0.717125  7.679728e+08   \n",
       "2000-01-07  0.861607  0.901786  0.852679  0.888393   0.751094  4.607344e+08   \n",
       "2000-01-10  0.910714  0.912946  0.845982  0.872768   0.737884  5.050640e+08   \n",
       "2000-01-11  0.856585  0.887277  0.808036  0.828125   0.700140  4.415488e+08   \n",
       "2000-01-12  0.848214  0.852679  0.772321  0.778460   0.658151  9.760688e+08   \n",
       "2000-01-13  0.843610  0.881696  0.825893  0.863839   0.730335  1.032685e+09   \n",
       "2000-01-14  0.892857  0.912946  0.887277  0.896763   0.758171  3.903760e+08   \n",
       "2000-01-17       NaN       NaN       NaN       NaN        NaN           NaN   \n",
       "2000-01-18  0.901786  0.946429  0.896763  0.928013   0.784591  4.591776e+08   \n",
       "2000-01-19  0.943080  0.970982  0.922991  0.951451   0.804407  5.976432e+08   \n",
       "2000-01-20  1.031250  1.084821  1.013393  1.013393   0.856776  1.831133e+09   \n",
       "2000-01-21  1.020089  1.020089  0.983817  0.993862   0.840263  4.959248e+08   \n",
       "2000-01-24  0.968192  1.006696  0.938616  0.948661   0.802048  4.408768e+08   \n",
       "2000-01-25  0.937500  1.010045  0.914063  1.002232   0.847340  4.971456e+08   \n",
       "2000-01-26  0.982143  1.019531  0.979911  0.983817   0.831771  3.671584e+08   \n",
       "2000-01-27  0.971540  1.008929  0.955357  0.982143   0.830355  3.401440e+08   \n",
       "2000-01-28  0.965960  0.989955  0.898438  0.907366   0.767135  4.233488e+08   \n",
       "\n",
       "            money_flow_index  ease_of_movement  average_true_range  \\\n",
       "Date                                                                 \n",
       "2000-01-03               NaN               NaN                 NaN   \n",
       "2000-01-04               NaN     -1.743633e-06                 NaN   \n",
       "2000-01-05               NaN      6.777578e-07                 NaN   \n",
       "2000-01-06               NaN     -7.201507e-06                 NaN   \n",
       "2000-01-07               NaN     -2.616959e-06                 NaN   \n",
       "2000-01-10               NaN      2.958609e-07                 NaN   \n",
       "2000-01-11               NaN     -5.708216e-06                 NaN   \n",
       "2000-01-12               NaN     -2.894374e-06                 NaN   \n",
       "2000-01-13               NaN      2.231423e-06                 NaN   \n",
       "2000-01-14               NaN      3.045552e-06                 NaN   \n",
       "2000-01-17               NaN               NaN                 NaN   \n",
       "2000-01-18               NaN      2.323829e-06                 NaN   \n",
       "2000-01-19               NaN      2.038867e-06                 NaN   \n",
       "2000-01-20               NaN      3.983468e-06                 NaN   \n",
       "2000-01-21          0.570789     -3.448855e-06                 inf   \n",
       "2000-01-24          0.543645     -4.524034e-06           -0.007887   \n",
       "2000-01-25          0.597492     -2.046883e-06            0.018867   \n",
       "2000-01-26          0.580108      4.064638e-06           -0.034846   \n",
       "2000-01-27          0.604398     -2.768501e-06           -0.020178   \n",
       "2000-01-28          0.605233     -8.203054e-06            0.017926   \n",
       "\n",
       "            ulcer_index  ...  skew  kurt  GC=F     JPY=X      ^FVX     ^GSPC  \\\n",
       "Date                     ...                                                   \n",
       "2000-01-03          NaN  ...   NaN   NaN   NaN       NaN       NaN       NaN   \n",
       "2000-01-04          NaN  ...   NaN   NaN   NaN  0.014259 -0.009447 -0.038345   \n",
       "2000-01-05          NaN  ...   NaN   NaN   NaN  0.009211  0.014540  0.001922   \n",
       "2000-01-06          NaN  ...   NaN   NaN   NaN  0.010952 -0.006010  0.000956   \n",
       "2000-01-07          NaN  ...   NaN   NaN   NaN  0.000950 -0.008217  0.027090   \n",
       "2000-01-10          NaN  ...   NaN   NaN   NaN -0.001614  0.009692  0.011190   \n",
       "2000-01-11          NaN  ...   NaN   NaN   NaN  0.008178  0.016876 -0.013063   \n",
       "2000-01-12          NaN  ...   NaN   NaN   NaN -0.002924  0.005938 -0.004386   \n",
       "2000-01-13          NaN  ...   NaN   NaN   NaN  0.002933 -0.014076  0.012170   \n",
       "2000-01-14          NaN  ...   NaN   NaN   NaN -0.001320  0.008443  0.010671   \n",
       "2000-01-17          NaN  ...   NaN   NaN   NaN -0.009350  0.000000  0.000000   \n",
       "2000-01-18          NaN  ...   NaN   NaN   NaN  0.007341  0.008525 -0.006832   \n",
       "2000-01-19          NaN  ...   NaN   NaN   NaN -0.003786 -0.004679  0.000522   \n",
       "2000-01-20          NaN  ...   NaN   NaN   NaN  0.000475  0.005914 -0.007095   \n",
       "2000-01-21     0.112903  ...   NaN   NaN   NaN -0.005602  0.002563 -0.002912   \n",
       "2000-01-24     0.114187  ...   NaN   NaN   NaN  0.008881 -0.011729 -0.027634   \n",
       "2000-01-25     0.111980  ...   NaN   NaN   NaN  0.002082  0.001217  0.006065   \n",
       "2000-01-26     0.110640  ...   NaN   NaN   NaN -0.002739  0.004863 -0.004213   \n",
       "2000-01-27     0.103314  ...   NaN   NaN   NaN -0.005588  0.005898 -0.003938   \n",
       "2000-01-28     0.102829  ...   NaN   NaN   NaN  0.019716  0.001353 -0.027457   \n",
       "\n",
       "                ^TYX    ^VIX  side  label  \n",
       "Date                                       \n",
       "2000-01-03       NaN  0.2421   NaN    NaN  \n",
       "2000-01-04 -0.010003  0.2701   NaN    NaN  \n",
       "2000-01-05  0.015156  0.2641   NaN    NaN  \n",
       "2000-01-06 -0.008898  0.2573   NaN    NaN  \n",
       "2000-01-07 -0.005326  0.2172  -1.0    1.0  \n",
       "2000-01-10  0.008108  0.2171  -1.0    1.0  \n",
       "2000-01-11  0.013202  0.2250  -1.0    1.0  \n",
       "2000-01-12  0.003594  0.2284   1.0    1.0  \n",
       "2000-01-13 -0.009252  0.2171   0.0    0.0  \n",
       "2000-01-14  0.007381  0.1966   0.0    0.0  \n",
       "2000-01-17  0.000000     NaN   NaN    NaN  \n",
       "2000-01-18  0.008074  0.2150   0.0    0.0  \n",
       "2000-01-19 -0.003856  0.2172   0.0    0.0  \n",
       "2000-01-20  0.001638  0.2175   0.0    0.0  \n",
       "2000-01-21 -0.002676  0.2082   0.0    0.0  \n",
       "2000-01-24 -0.009241  0.2407   0.0    0.0  \n",
       "2000-01-25 -0.001956  0.2302   0.0    0.0  \n",
       "2000-01-26 -0.007235  0.2303   0.0    0.0  \n",
       "2000-01-27 -0.009262  0.2354   0.0    0.0  \n",
       "2000-01-28 -0.014406  0.2614   0.0    0.0  \n",
       "\n",
       "[20 rows x 27 columns]"
      ]
     },
     "execution_count": 6,
     "metadata": {},
     "output_type": "execute_result"
    }
   ],
   "source": [
    "feature_matrix['side'] = triple_barrier_event['side'].copy()\n",
    "feature_matrix['label'] = meta_labels['bin'].copy()\n",
    "feature_matrix.head(20)"
   ]
  },
  {
   "cell_type": "code",
   "execution_count": 7,
   "id": "c7d0f69eced825bb",
   "metadata": {
    "ExecuteTime": {
     "end_time": "2024-05-18T15:59:44.625587Z",
     "start_time": "2024-05-18T15:59:44.622102Z"
    }
   },
   "outputs": [],
   "source": [
    "feature_matrix.drop(['Open','High','Low','Close','Adj Close','Volume'], axis = 1, inplace = True)"
   ]
  },
  {
   "cell_type": "code",
   "execution_count": 8,
   "id": "44d3b60eb1d065f7",
   "metadata": {
    "ExecuteTime": {
     "end_time": "2024-05-18T15:59:44.631991Z",
     "start_time": "2024-05-18T15:59:44.626536Z"
    }
   },
   "outputs": [],
   "source": [
    "feature_matrix.dropna(inplace = True)\n",
    "matrix = feature_matrix[feature_matrix['side'] != 0]"
   ]
  },
  {
   "cell_type": "code",
   "execution_count": 18,
   "id": "d638b93cd0e8484e",
   "metadata": {
    "ExecuteTime": {
     "end_time": "2024-05-18T15:59:44.636299Z",
     "start_time": "2024-05-18T15:59:44.633348Z"
    }
   },
   "outputs": [],
   "source": [
    "X = matrix.drop(['side','label'], axis = 1)\n",
    "y = matrix['label']"
   ]
  },
  {
   "cell_type": "code",
   "execution_count": 19,
   "id": "d6efb9f48c5f075e",
   "metadata": {
    "ExecuteTime": {
     "end_time": "2024-05-18T15:59:44.645967Z",
     "start_time": "2024-05-18T15:59:44.637259Z"
    }
   },
   "outputs": [],
   "source": [
    "X_train, X_test = X.loc[:'2019'], X.loc['2020':]\n",
    "y_train, y_test = y.loc[:'2019'], y.loc['2020':]"
   ]
  },
  {
   "cell_type": "markdown",
   "id": "ce43bc687c387aec",
   "metadata": {},
   "source": [
    "Decision trees are known to be prone to overfitting, which increases the variance of predictions. Random Forest was designed to address this problem by making ensemble predictions with lower variance.\n",
    "\n",
    "Randon Forest is similar to Bagging in that it independently learns and calculates individual estimation parameters for a bootstrapped subset of the data. The key difference compared to Bagging is that Random Forest reflects second-level randomness. When optimizing each node split, the goal is to further reduce the correlation between estimators by evaluating only a random partial sample of attributes.\n",
    "\n",
    "The advantages of Random Forest are as follows.\n",
    "\n",
    "1. Random Forest can reduce prediction variance like bagging without overfitting.\n",
    "2. Random Forest can calculate feature importance, which will be covered as an independent topic later.\n",
    "3. Random Forest can calculate out-of-bag accuracy. However, when applied to finance, there is a possibility of exaggeration.\n",
    "\n",
    "As with bagging, Random Forests will not necessarily show lower bias than individual Decision Trees."
   ]
  },
  {
   "cell_type": "markdown",
   "id": "a56be114e11dca5e",
   "metadata": {},
   "source": [
    "Overfitting still occurs when a large number of samples overlap. Bootstrapping creates essentially the same tree. Here, each decision tree is overfitted. Unlike bagging, Random Forest always fixes the size of bootstrap samples to match the training dataset. Let’s take a look at how `sklearn` handles the Random Forest overfitting problem. For illustration purposes, please refer to the classes in `sklearn`. However, this solution can be applied to any implementation.\n",
    "\n",
    "1. Set parameter `max_features` to a lower value. This is a method of creating differences between trees.\n",
    "2. Early stopping: Set the regularization parameter `min_weight_fraction_leaf` to a sufficiently large number (0.05) to ensure that the accuracy of OOB converges to the out-of-sample accuracy.\n",
    "3. `BaggingClassifier` uses `DecisionTreeClassifier` as the default classifier while `max_samples` is set to the average uniqueness between samples.\n",
    "\n",
    "```{python}\n",
    "weak_model = DecisionTreeClassifier(\n",
    "    criterion = 'entropy',\n",
    "    max_features = 'auto',\n",
    "    class_weight = 'balanced'\n",
    ")\n",
    "bagging = BaggingClassifier(\n",
    "    base_estimator = weak_model,\n",
    "    n_estimators = 1000;\n",
    "    max_samples = average_uniqueness,\n",
    "    max_features = 1\n",
    ")\n",
    "```\n",
    "\n",
    "4. Use `RandomForestClassifier` as the default classifier for `BaggingClassifier`. Here, `max_features` is set to the average_uniqueness between samples.\n",
    "```{python}\n",
    "forest = RandomForestClassifier(\n",
    "    n_estimators = 1; \n",
    "    criterion = 'entropy',\n",
    "    bootstrap = False;\n",
    "    class_weight = 'balanced_subsample'\n",
    ")\n",
    "\n",
    "bagging = BaggingClassifier(\n",
    "    base_estimator = forest,\n",
    "    n_estimators = 1000;\n",
    "    max_samples = average_uniqueness,\n",
    "    max_features = 1\n",
    ")\n",
    "```\n",
    "\n",
    "5. Modify the class of `RandomForestClassifier` to replace standard bootstrapping with sequential bootstrapping.\n",
    "\n",
    "The code below shows three ways to set up a Random Forest using different classes."
   ]
  },
  {
   "cell_type": "markdown",
   "id": "87d38662b665f7df",
   "metadata": {},
   "source": [
    "#### Random Forest"
   ]
  },
  {
   "cell_type": "code",
   "execution_count": 20,
   "id": "83e75b1154ecbfa",
   "metadata": {
    "ExecuteTime": {
     "end_time": "2024-05-18T15:59:45.077237Z",
     "start_time": "2024-05-18T15:59:44.646763Z"
    }
   },
   "outputs": [],
   "source": [
    "from sklearn.ensemble import RandomForestClassifier\n",
    "from FinancialMachineLearning.sample_weights.bootstrapping import *\n",
    "\n",
    "class SequentialRandomForestClassifier(RandomForestClassifier):\n",
    "    def _generate_sample_indices(self, random_state, n_samples):\n",
    "        \"\"\"Generate bootstrap sample indices with sequential bootstrap method.\"\"\"\n",
    "        random_instance = random_state  # get the RandomState instance\n",
    "        \n",
    "        ind_mat = get_indicator_matrix(\n",
    "            triple_barrier_event.index.to_series(),\n",
    "            triple_barrier_event['t1']\n",
    "        )\n",
    "        \n",
    "        sample_indices = seq_bootstrap(ind_mat, n_samples)\n",
    "        \n",
    "        return sample_indices"
   ]
  },
  {
   "cell_type": "code",
   "execution_count": 21,
   "id": "e69b6900c572d186",
   "metadata": {
    "ExecuteTime": {
     "end_time": "2024-05-18T15:59:45.936126Z",
     "start_time": "2024-05-18T15:59:45.078344Z"
    }
   },
   "outputs": [],
   "source": [
    "forest = SequentialRandomForestClassifier(\n",
    "    criterion = 'entropy',\n",
    "    class_weight = 'balanced_subsample',\n",
    "    random_state = 42,\n",
    "    n_estimators = 100,\n",
    "    max_features = 3, # early stopping\n",
    "    min_weight_fraction_leaf = 0.05, # early stopping\n",
    "    oob_score = True\n",
    ")\n",
    "\n",
    "forest_fit = forest.fit(\n",
    "    X = X_train, \n",
    "    y = y_train, \n",
    "    sample_weight = avg_uniqueness.loc[X_train.index].to_numpy().reshape(1, -1)[0]\n",
    ")"
   ]
  },
  {
   "cell_type": "markdown",
   "id": "7069a678bcdf2cd9",
   "metadata": {},
   "source": [
    "Sequantial Bootstrapping을 적용한 OOB 정확도"
   ]
  },
  {
   "cell_type": "code",
   "execution_count": 22,
   "id": "6c6c8658f8c48cff",
   "metadata": {
    "ExecuteTime": {
     "end_time": "2024-05-18T15:59:45.974566Z",
     "start_time": "2024-05-18T15:59:45.947665Z"
    }
   },
   "outputs": [
    {
     "data": {
      "text/plain": [
       "0.8315755832534356"
      ]
     },
     "execution_count": 22,
     "metadata": {},
     "output_type": "execute_result"
    }
   ],
   "source": [
    "forest_fit.oob_score_"
   ]
  },
  {
   "cell_type": "code",
   "execution_count": 23,
   "id": "91f09f8c0697b513",
   "metadata": {
    "ExecuteTime": {
     "end_time": "2024-05-18T15:59:46.031713Z",
     "start_time": "2024-05-18T15:59:45.979667Z"
    }
   },
   "outputs": [
    {
     "name": "stdout",
     "output_type": "stream",
     "text": [
      "Accuracy: 0.8655126498002663\n"
     ]
    }
   ],
   "source": [
    "from sklearn.metrics import accuracy_score, classification_report, confusion_matrix, roc_curve, auc\n",
    "import warnings\n",
    "warnings.filterwarnings('ignore')\n",
    "\n",
    "y_prob = forest_fit.predict_proba(X_test)[:, 1]\n",
    "y_pred = forest_fit.predict(X_test)\n",
    "fpr, tpr, thresholds = roc_curve(y_test, y_prob)\n",
    "accuracy = accuracy_score(y_test, y_pred)\n",
    "print(f'Accuracy: {accuracy}')"
   ]
  },
  {
   "cell_type": "code",
   "execution_count": 24,
   "id": "e7b45f67c21dd302",
   "metadata": {
    "ExecuteTime": {
     "end_time": "2024-05-18T15:59:46.045190Z",
     "start_time": "2024-05-18T15:59:46.033627Z"
    }
   },
   "outputs": [
    {
     "name": "stdout",
     "output_type": "stream",
     "text": [
      "              precision    recall  f1-score   support\n",
      "\n",
      "         0.0       0.12      0.07      0.09        70\n",
      "         1.0       0.91      0.95      0.93       681\n",
      "\n",
      "    accuracy                           0.87       751\n",
      "   macro avg       0.52      0.51      0.51       751\n",
      "weighted avg       0.84      0.87      0.85       751\n",
      "\n"
     ]
    }
   ],
   "source": [
    "print(classification_report(y_test, y_pred))"
   ]
  },
  {
   "cell_type": "code",
   "execution_count": 14,
   "id": "15318a3371f26a74",
   "metadata": {
    "ExecuteTime": {
     "end_time": "2024-05-18T15:59:46.264364Z",
     "start_time": "2024-05-18T15:59:46.048034Z"
    }
   },
   "outputs": [
    {
     "data": {
      "image/png": "[encoded data removed]",
      "text/plain": [
       "<Figure size 300x300 with 1 Axes>"
      ]
     },
     "metadata": {},
     "output_type": "display_data"
    }
   ],
   "source": [
    "cm = confusion_matrix(y_test, y_pred)\n",
    "plt.figure(figsize = (3, 3))\n",
    "sns.heatmap(cm, annot = True, fmt = 'd', cbar = False)\n",
    "plt.xlabel('Predicted')\n",
    "plt.ylabel('True')\n",
    "plt.title('Confusion Matrix')\n",
    "plt.show()"
   ]
  },
  {
   "cell_type": "code",
   "execution_count": 15,
   "id": "111f372ebe242641",
   "metadata": {
    "ExecuteTime": {
     "end_time": "2024-05-18T15:59:46.598110Z",
     "start_time": "2024-05-18T15:59:46.266794Z"
    }
   },
   "outputs": [
    {
     "data": {
      "image/png": "[encoded data removed]",
      "text/plain": [
       "<Figure size 600x400 with 1 Axes>"
      ]
     },
     "metadata": {},
     "output_type": "display_data"
    }
   ],
   "source": [
    "roc_auc = auc(fpr, tpr)\n",
    "\n",
    "plt.figure(figsize = (6, 4))\n",
    "plt.plot(fpr, tpr, label = 'Random Forest (area = {:.2f})'.format(roc_auc), color = 'navy', alpha = 0.8, lw = 1)\n",
    "plt.plot([0, 1], [0, 1], color = 'lightgray', ls = ':', lw = 1)\n",
    "plt.xlabel('False Positive Rate')\n",
    "plt.ylabel('True Positive Rate')\n",
    "plt.title('ROC Curve with Random Forest')\n",
    "plt.grid(False)\n",
    "plt.legend()\n",
    "plt.show()"
   ]
  },
  {
   "cell_type": "markdown",
   "id": "cc1933946e564f19",
   "metadata": {},
   "source": [
    "#### Decision Tree & Bagging Classifier"
   ]
  },
  {
   "cell_type": "code",
   "execution_count": 16,
   "id": "4cfbe60405821d4e",
   "metadata": {
    "ExecuteTime": {
     "end_time": "2024-05-18T15:59:49.664752Z",
     "start_time": "2024-05-18T15:59:46.604817Z"
    }
   },
   "outputs": [],
   "source": [
    "from sklearn.tree import DecisionTreeClassifier\n",
    "from sklearn.ensemble import BaggingClassifier\n",
    "\n",
    "decision_tree_weak = DecisionTreeClassifier(\n",
    "    criterion = 'entropy',\n",
    "    max_features = 3, # early stopping\n",
    "    class_weight = 'balanced',\n",
    "    min_weight_fraction_leaf = 0.05 # early stopping\n",
    ")\n",
    "tree_bagging = BaggingClassifier(\n",
    "    base_estimator = decision_tree_weak,\n",
    "    n_estimators = 1000,\n",
    "    max_samples = avg_uniqueness.loc[X_train.index].mean()[0],\n",
    "    random_state = 42\n",
    ")\n",
    "\n",
    "tree_bagging_fit = tree_bagging.fit(\n",
    "    X = X_train, \n",
    "    y = y_train,\n",
    "    sample_weight = avg_uniqueness.loc[X_train.index].to_numpy().reshape(1, -1)[0]\n",
    ")"
   ]
  },
  {
   "cell_type": "code",
   "execution_count": 17,
   "id": "2f7ecc1e28794ae2",
   "metadata": {
    "ExecuteTime": {
     "end_time": "2024-05-18T15:59:49.891385Z",
     "start_time": "2024-05-18T15:59:49.666692Z"
    }
   },
   "outputs": [
    {
     "name": "stdout",
     "output_type": "stream",
     "text": [
      "Accuracy: 0.9067909454061251\n"
     ]
    }
   ],
   "source": [
    "y_prob = tree_bagging_fit.predict_proba(X_test)[:, 1]\n",
    "y_pred = tree_bagging_fit.predict(X_test)\n",
    "fpr, tpr, thresholds = roc_curve(y_test, y_prob)\n",
    "accuracy = accuracy_score(y_test, y_pred)\n",
    "print(f'Accuracy: {accuracy}')"
   ]
  },
  {
   "cell_type": "code",
   "execution_count": 18,
   "id": "db611d431219186f",
   "metadata": {
    "ExecuteTime": {
     "end_time": "2024-05-18T15:59:49.900807Z",
     "start_time": "2024-05-18T15:59:49.892264Z"
    }
   },
   "outputs": [
    {
     "name": "stdout",
     "output_type": "stream",
     "text": [
      "              precision    recall  f1-score   support\n",
      "\n",
      "         0.0       0.00      0.00      0.00        70\n",
      "         1.0       0.91      1.00      0.95       681\n",
      "\n",
      "    accuracy                           0.91       751\n",
      "   macro avg       0.45      0.50      0.48       751\n",
      "weighted avg       0.82      0.91      0.86       751\n",
      "\n"
     ]
    }
   ],
   "source": [
    "print(classification_report(y_test, y_pred))"
   ]
  },
  {
   "cell_type": "code",
   "execution_count": 19,
   "id": "2c4e84e8c0e5e1cd",
   "metadata": {
    "ExecuteTime": {
     "end_time": "2024-05-18T15:59:49.979468Z",
     "start_time": "2024-05-18T15:59:49.901773Z"
    }
   },
   "outputs": [
    {
     "data": {
      "image/png": "[encoded data removed]",
      "text/plain": [
       "<Figure size 300x300 with 1 Axes>"
      ]
     },
     "metadata": {},
     "output_type": "display_data"
    }
   ],
   "source": [
    "cm = confusion_matrix(y_test, y_pred)\n",
    "plt.figure(figsize = (3, 3))\n",
    "sns.heatmap(cm, annot = True, fmt = 'd', cbar = False)\n",
    "plt.xlabel('Predicted')\n",
    "plt.ylabel('True')\n",
    "plt.title('Confusion Matrix')\n",
    "plt.show()"
   ]
  },
  {
   "cell_type": "code",
   "execution_count": 20,
   "id": "e26b505b02a018f2",
   "metadata": {
    "ExecuteTime": {
     "end_time": "2024-05-18T15:59:50.121313Z",
     "start_time": "2024-05-18T15:59:49.980560Z"
    }
   },
   "outputs": [
    {
     "data": {
      "image/png": "[encoded data removed]",
      "text/plain": [
       "<Figure size 600x400 with 1 Axes>"
      ]
     },
     "metadata": {},
     "output_type": "display_data"
    }
   ],
   "source": [
    "roc_auc = auc(fpr, tpr)\n",
    "\n",
    "plt.figure(figsize = (6, 4))\n",
    "plt.plot(fpr, tpr, label = 'Decision Tree & Bagging Classifier (area = {:.2f})'.format(roc_auc), color = 'navy', alpha = 0.8, lw = 1)\n",
    "plt.plot([0, 1], [0, 1], color = 'lightgray', ls = ':', lw = 1)\n",
    "plt.xlabel('False Positive Rate')\n",
    "plt.ylabel('True Positive Rate')\n",
    "plt.title('ROC Curve with Decision Tree & Bagging Classifier')\n",
    "plt.grid(False)\n",
    "plt.legend()\n",
    "plt.show()"
   ]
  },
  {
   "cell_type": "markdown",
   "id": "dbf98e68702832c6",
   "metadata": {},
   "source": [
    "#### RandomForest & Bagging Classifier"
   ]
  },
  {
   "cell_type": "code",
   "execution_count": 1,
   "id": "11604a9594814379",
   "metadata": {
    "ExecuteTime": {
     "end_time": "2024-05-18T15:59:52.575133Z",
     "start_time": "2024-05-18T15:59:50.122130Z"
    }
   },
   "outputs": [
    {
     "ename": "NameError",
     "evalue": "name 'RandomForestClassifier' is not defined",
     "output_type": "error",
     "traceback": [
      "\u001b[31m---------------------------------------------------------------------------\u001b[39m",
      "\u001b[31mNameError\u001b[39m                                 Traceback (most recent call last)",
      "\u001b[36mCell\u001b[39m\u001b[36m \u001b[39m\u001b[32mIn[1]\u001b[39m\u001b[32m, line 1\u001b[39m\n\u001b[32m----> \u001b[39m\u001b[32m1\u001b[39m random_forest_weak = \u001b[43mRandomForestClassifier\u001b[49m(\n\u001b[32m      2\u001b[39m     n_estimators = \u001b[32m1\u001b[39m,\n\u001b[32m      3\u001b[39m     criterion = \u001b[33m'\u001b[39m\u001b[33mentropy\u001b[39m\u001b[33m'\u001b[39m,\n\u001b[32m      4\u001b[39m     bootstrap = \u001b[38;5;28;01mFalse\u001b[39;00m,\n\u001b[32m      5\u001b[39m     class_weight = \u001b[33m'\u001b[39m\u001b[33mbalanced_subsample\u001b[39m\u001b[33m'\u001b[39m,\n\u001b[32m      6\u001b[39m     min_weight_fraction_leaf = \u001b[32m0.05\u001b[39m,\n\u001b[32m      7\u001b[39m     max_features = \u001b[32m3\u001b[39m,\n\u001b[32m      8\u001b[39m     random_state = \u001b[32m42\u001b[39m\n\u001b[32m      9\u001b[39m )\n\u001b[32m     10\u001b[39m forest_bagging = BaggingClassifier(\n\u001b[32m     11\u001b[39m     base_estimator = random_forest_weak,\n\u001b[32m     12\u001b[39m     n_estimators = \u001b[32m1000\u001b[39m,\n\u001b[32m   (...)\u001b[39m\u001b[32m     15\u001b[39m     random_state = \u001b[32m42\u001b[39m\n\u001b[32m     16\u001b[39m )\n\u001b[32m     17\u001b[39m forest_bagging_fit = forest_bagging.fit(\n\u001b[32m     18\u001b[39m     X = X_train, \n\u001b[32m     19\u001b[39m     y = y_train,\n\u001b[32m     20\u001b[39m     sample_weight = avg_uniqueness.loc[X_train.index].to_numpy().reshape(\u001b[32m1\u001b[39m, -\u001b[32m1\u001b[39m)[\u001b[32m0\u001b[39m]\n\u001b[32m     21\u001b[39m )\n",
      "\u001b[31mNameError\u001b[39m: name 'RandomForestClassifier' is not defined"
     ]
    }
   ],
   "source": [
    "random_forest_weak = RandomForestClassifier(\n",
    "    n_estimators = 1,\n",
    "    criterion = 'entropy',\n",
    "    bootstrap = False,\n",
    "    class_weight = 'balanced_subsample',\n",
    "    min_weight_fraction_leaf = 0.05,\n",
    "    max_features = 3,\n",
    "    random_state = 42\n",
    ")\n",
    "forest_bagging = BaggingClassifier(\n",
    "    base_estimator = random_forest_weak,\n",
    "    n_estimators = 1000,\n",
    "    max_samples = avg_uniqueness.loc[X_train.index].mean()[0],\n",
    "    max_features = 1,\n",
    "    random_state = 42\n",
    ")\n",
    "forest_bagging_fit = forest_bagging.fit(\n",
    "    X = X_train, \n",
    "    y = y_train,\n",
    "    sample_weight = avg_uniqueness.loc[X_train.index].to_numpy().reshape(1, -1)[0]\n",
    ")"
   ]
  },
  {
   "cell_type": "code",
   "execution_count": 22,
   "id": "16fefc7eb39ee871",
   "metadata": {
    "ExecuteTime": {
     "end_time": "2024-05-18T15:59:53.002925Z",
     "start_time": "2024-05-18T15:59:52.576088Z"
    }
   },
   "outputs": [
    {
     "name": "stdout",
     "output_type": "stream",
     "text": [
      "Accuracy: 0.9067909454061251\n"
     ]
    }
   ],
   "source": [
    "y_prob = forest_bagging_fit.predict_proba(X_test)[:, 1]\n",
    "y_pred = forest_bagging_fit.predict(X_test)\n",
    "fpr, tpr, thresholds = roc_curve(y_test, y_prob)\n",
    "accuracy = accuracy_score(y_test, y_pred)\n",
    "print(f'Accuracy: {accuracy}')"
   ]
  },
  {
   "cell_type": "code",
   "execution_count": 23,
   "id": "87b2e52f18b44d55",
   "metadata": {
    "ExecuteTime": {
     "end_time": "2024-05-18T15:59:53.012042Z",
     "start_time": "2024-05-18T15:59:53.004153Z"
    }
   },
   "outputs": [
    {
     "name": "stdout",
     "output_type": "stream",
     "text": [
      "              precision    recall  f1-score   support\n",
      "\n",
      "         0.0       0.00      0.00      0.00        70\n",
      "         1.0       0.91      1.00      0.95       681\n",
      "\n",
      "    accuracy                           0.91       751\n",
      "   macro avg       0.45      0.50      0.48       751\n",
      "weighted avg       0.82      0.91      0.86       751\n",
      "\n"
     ]
    }
   ],
   "source": [
    "print(classification_report(y_test, y_pred))"
   ]
  },
  {
   "cell_type": "code",
   "execution_count": 24,
   "id": "3a5bd50ec6d52ca2",
   "metadata": {
    "ExecuteTime": {
     "end_time": "2024-05-18T15:59:53.077012Z",
     "start_time": "2024-05-18T15:59:53.012980Z"
    }
   },
   "outputs": [
    {
     "data": {
      "image/png": "[encoded data removed]",
      "text/plain": [
       "<Figure size 300x300 with 1 Axes>"
      ]
     },
     "metadata": {},
     "output_type": "display_data"
    }
   ],
   "source": [
    "cm = confusion_matrix(y_test, y_pred)\n",
    "plt.figure(figsize = (3, 3))\n",
    "sns.heatmap(cm, annot = True, fmt = 'd', cbar = False)\n",
    "plt.xlabel('Predicted')\n",
    "plt.ylabel('True')\n",
    "plt.title('Confusion Matrix')\n",
    "plt.show()"
   ]
  },
  {
   "cell_type": "code",
   "execution_count": 25,
   "id": "dbab2c8f48727a81",
   "metadata": {
    "ExecuteTime": {
     "end_time": "2024-05-18T15:59:53.219609Z",
     "start_time": "2024-05-18T15:59:53.078174Z"
    }
   },
   "outputs": [
    {
     "data": {
      "image/png": "[encoded data removed]",
      "text/plain": [
       "<Figure size 600x400 with 1 Axes>"
      ]
     },
     "metadata": {},
     "output_type": "display_data"
    }
   ],
   "source": [
    "roc_auc = auc(fpr, tpr)\n",
    "\n",
    "plt.figure(figsize = (6, 4))\n",
    "plt.plot(fpr, tpr, label = 'RandomForest & Bagging Classifier (area = {:.2f})'.format(roc_auc), color = 'navy', alpha = 0.8, lw = 1)\n",
    "plt.plot([0, 1], [0, 1], color = 'lightgray', ls = ':', lw = 1)\n",
    "plt.xlabel('False Positive Rate')\n",
    "plt.ylabel('True Positive Rate')\n",
    "plt.title('ROC Curve with RandomForest & Bagging Classifier')\n",
    "plt.grid(False)\n",
    "plt.legend()\n",
    "plt.show()"
   ]
  },
  {
   "cell_type": "markdown",
   "id": "a72f907401920984",
   "metadata": {},
   "source": [
    "When fitting a decision tree, the number of levels required in the tree can be reduced by rotating the feature space in the direction that matches the axis. For this reason, it is recommended to adapt PCA features to Random Forest. This can be used to reduce some overfitting and improve calculation speed. Additionally, setting `class_weight = 'balanced_subsample'` prevents the Tree from misclassifying minority classes."
   ]
  }
 ],
 "metadata": {
  "kernelspec": {
   "display_name": ".venv (3.12.3)",
   "language": "python",
   "name": "python3"
  },
  "language_info": {
   "codemirror_mode": {
    "name": "ipython",
    "version": 3
   },
   "file_extension": ".py",
   "mimetype": "text/x-python",
   "name": "python",
   "nbconvert_exporter": "python",
   "pygments_lexer": "ipython3",
   "version": "3.12.3"
  }
 },
 "nbformat": 4,
 "nbformat_minor": 5
}
