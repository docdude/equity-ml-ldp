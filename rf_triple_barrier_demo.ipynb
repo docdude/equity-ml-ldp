{
 "cells": [
  {
   "cell_type": "markdown",
   "id": "86d1ce5d",
   "metadata": {},
   "source": [
    "# Random Forest: Triple-Barrier Labels, Feature Alignment, and `predict_proba` Mapping"
   ]
  },
  {
   "cell_type": "markdown",
   "id": "410c8e04",
   "metadata": {},
   "source": [
    "\n",
    "This notebook shows **exactly** how to:\n",
    "- Build **aligned** features/labels per (ticker, date) without leakage\n",
    "- Create **triple-barrier** labels (+1 = TP/Buy, 0 = Neutral, -1 = SL/Sell)\n",
    "- Train a **RandomForestClassifier**\n",
    "- Interpret `predict_proba` using **`rf.classes_`** to map columns → labels\n",
    "- Run **sanity checks** that catch common misalignment bugs\n"
   ]
  },
  {
   "cell_type": "code",
   "execution_count": 2,
   "id": "2e2c7605",
   "metadata": {},
   "outputs": [],
   "source": [
    "\n",
    "import numpy as np\n",
    "import pandas as pd\n",
    "from sklearn.ensemble import RandomForestClassifier\n",
    "from sklearn.metrics import classification_report, confusion_matrix\n",
    "np.random.seed(42)\n"
   ]
  },
  {
   "cell_type": "markdown",
   "id": "7ceadb4d",
   "metadata": {},
   "source": [
    "## Simulate OHLCV for a couple of tickers"
   ]
  },
  {
   "cell_type": "code",
   "execution_count": 3,
   "id": "895d363b",
   "metadata": {},
   "outputs": [
    {
     "data": {
      "application/vnd.microsoft.datawrangler.viewer.v0+json": {
       "columns": [
        {
         "name": "('ticker', 'date')",
         "rawType": "object",
         "type": "unknown"
        },
        {
         "name": "open",
         "rawType": "float64",
         "type": "float"
        },
        {
         "name": "high",
         "rawType": "float64",
         "type": "float"
        },
        {
         "name": "low",
         "rawType": "float64",
         "type": "float"
        },
        {
         "name": "close",
         "rawType": "float64",
         "type": "float"
        },
        {
         "name": "volume",
         "rawType": "int64",
         "type": "integer"
        }
       ],
       "ref": "795fcbd0-d33f-42a7-9efe-1c7c747b826d",
       "rows": [
        [
         "('AAPL', Timestamp('2018-01-01 00:00:00'))",
         "100.57526567652357",
         "100.59366053467897",
         "100.4555488230074",
         "100.52810373063559",
         "172052"
        ],
        [
         "('AAPL', Timestamp('2018-01-02 00:00:00'))",
         "100.50216523165166",
         "100.64034328870198",
         "100.40157034278447",
         "100.41932657568924",
         "184911"
        ],
        [
         "('AAPL', Timestamp('2018-01-03 00:00:00'))",
         "100.42415276753441",
         "101.1674763765578",
         "100.36925288320485",
         "101.10216799759952",
         "173978"
        ],
        [
         "('AAPL', Timestamp('2018-01-04 00:00:00'))",
         "101.07879948064962",
         "102.76663532801251",
         "101.05134090822509",
         "102.68457063995073",
         "238866"
        ],
        [
         "('AAPL', Timestamp('2018-01-05 00:00:00'))",
         "102.66226261067145",
         "102.71182215291931",
         "102.30366321083162",
         "102.4751504655819",
         "122308"
        ]
       ],
       "shape": {
        "columns": 5,
        "rows": 5
       }
      },
      "text/html": [
       "<div>\n",
       "<style scoped>\n",
       "    .dataframe tbody tr th:only-of-type {\n",
       "        vertical-align: middle;\n",
       "    }\n",
       "\n",
       "    .dataframe tbody tr th {\n",
       "        vertical-align: top;\n",
       "    }\n",
       "\n",
       "    .dataframe thead th {\n",
       "        text-align: right;\n",
       "    }\n",
       "</style>\n",
       "<table border=\"1\" class=\"dataframe\">\n",
       "  <thead>\n",
       "    <tr style=\"text-align: right;\">\n",
       "      <th></th>\n",
       "      <th></th>\n",
       "      <th>open</th>\n",
       "      <th>high</th>\n",
       "      <th>low</th>\n",
       "      <th>close</th>\n",
       "      <th>volume</th>\n",
       "    </tr>\n",
       "    <tr>\n",
       "      <th>ticker</th>\n",
       "      <th>date</th>\n",
       "      <th></th>\n",
       "      <th></th>\n",
       "      <th></th>\n",
       "      <th></th>\n",
       "      <th></th>\n",
       "    </tr>\n",
       "  </thead>\n",
       "  <tbody>\n",
       "    <tr>\n",
       "      <th rowspan=\"5\" valign=\"top\">AAPL</th>\n",
       "      <th>2018-01-01</th>\n",
       "      <td>100.575266</td>\n",
       "      <td>100.593661</td>\n",
       "      <td>100.455549</td>\n",
       "      <td>100.528104</td>\n",
       "      <td>172052</td>\n",
       "    </tr>\n",
       "    <tr>\n",
       "      <th>2018-01-02</th>\n",
       "      <td>100.502165</td>\n",
       "      <td>100.640343</td>\n",
       "      <td>100.401570</td>\n",
       "      <td>100.419327</td>\n",
       "      <td>184911</td>\n",
       "    </tr>\n",
       "    <tr>\n",
       "      <th>2018-01-03</th>\n",
       "      <td>100.424153</td>\n",
       "      <td>101.167476</td>\n",
       "      <td>100.369253</td>\n",
       "      <td>101.102168</td>\n",
       "      <td>173978</td>\n",
       "    </tr>\n",
       "    <tr>\n",
       "      <th>2018-01-04</th>\n",
       "      <td>101.078799</td>\n",
       "      <td>102.766635</td>\n",
       "      <td>101.051341</td>\n",
       "      <td>102.684571</td>\n",
       "      <td>238866</td>\n",
       "    </tr>\n",
       "    <tr>\n",
       "      <th>2018-01-05</th>\n",
       "      <td>102.662263</td>\n",
       "      <td>102.711822</td>\n",
       "      <td>102.303663</td>\n",
       "      <td>102.475150</td>\n",
       "      <td>122308</td>\n",
       "    </tr>\n",
       "  </tbody>\n",
       "</table>\n",
       "</div>"
      ],
      "text/plain": [
       "                         open        high         low       close  volume\n",
       "ticker date                                                              \n",
       "AAPL   2018-01-01  100.575266  100.593661  100.455549  100.528104  172052\n",
       "       2018-01-02  100.502165  100.640343  100.401570  100.419327  184911\n",
       "       2018-01-03  100.424153  101.167476  100.369253  101.102168  173978\n",
       "       2018-01-04  101.078799  102.766635  101.051341  102.684571  238866\n",
       "       2018-01-05  102.662263  102.711822  102.303663  102.475150  122308"
      ]
     },
     "execution_count": 3,
     "metadata": {},
     "output_type": "execute_result"
    }
   ],
   "source": [
    "\n",
    "def simulate_ohlcv(n=800, tickers=('AAPL','MSFT')):\n",
    "    idx = pd.date_range('2018-01-01', periods=n, freq='B')\n",
    "    frames = []\n",
    "    for tkr in tickers:\n",
    "        ret = np.random.normal(loc=0.0003, scale=0.01, size=n)\n",
    "        price = 100 * np.exp(np.cumsum(ret))\n",
    "        close = pd.Series(price, index=idx)\n",
    "        open_ = close.shift(1).fillna(close.iloc[0]) * (1 + np.random.normal(0, 0.0005, n))\n",
    "        high = pd.concat([open_, close], axis=1).max(axis=1) * (1 + np.abs(np.random.normal(0, 0.001, n)))\n",
    "        low  = pd.concat([open_, close], axis=1).min(axis=1) * (1 - np.abs(np.random.normal(0, 0.001, n)))\n",
    "        vol  = (np.random.lognormal(mean=12, sigma=0.3, size=n)).astype(int)\n",
    "        df = pd.DataFrame({'ticker': tkr, 'open': open_, 'high': high, 'low': low, 'close': close, 'volume': vol})\n",
    "        frames.append(df)\n",
    "    data = pd.concat(frames).reset_index().rename(columns={'index':'date'})\n",
    "    data = data.set_index(['ticker','date']).sort_index()\n",
    "    return data\n",
    "\n",
    "data = simulate_ohlcv()\n",
    "data.head()\n"
   ]
  },
  {
   "cell_type": "markdown",
   "id": "50cd064d",
   "metadata": {},
   "source": [
    "## Feature Engineering (lagged to avoid lookahead)"
   ]
  },
  {
   "cell_type": "code",
   "execution_count": 4,
   "id": "d3422e71",
   "metadata": {},
   "outputs": [
    {
     "data": {
      "application/vnd.microsoft.datawrangler.viewer.v0+json": {
       "columns": [
        {
         "name": "('ticker', 'date')",
         "rawType": "object",
         "type": "unknown"
        },
        {
         "name": "open",
         "rawType": "float64",
         "type": "float"
        },
        {
         "name": "high",
         "rawType": "float64",
         "type": "float"
        },
        {
         "name": "low",
         "rawType": "float64",
         "type": "float"
        },
        {
         "name": "close",
         "rawType": "float64",
         "type": "float"
        },
        {
         "name": "volume",
         "rawType": "int64",
         "type": "integer"
        },
        {
         "name": "ret_1",
         "rawType": "float64",
         "type": "float"
        },
        {
         "name": "ret_5",
         "rawType": "float64",
         "type": "float"
        },
        {
         "name": "ret_20",
         "rawType": "float64",
         "type": "float"
        },
        {
         "name": "vol_20",
         "rawType": "float64",
         "type": "float"
        },
        {
         "name": "ma_10",
         "rawType": "float64",
         "type": "float"
        },
        {
         "name": "dist_ma10",
         "rawType": "float64",
         "type": "float"
        },
        {
         "name": "vol_norm_20",
         "rawType": "float64",
         "type": "float"
        }
       ],
       "ref": "0a1396b8-df10-4683-bbdd-90bbe22af56e",
       "rows": [
        [
         "('AAPL', Timestamp('2018-01-01 00:00:00'))",
         "100.57526567652357",
         "100.59366053467897",
         "100.4555488230074",
         "100.52810373063559",
         "172052",
         null,
         null,
         null,
         null,
         null,
         null,
         null
        ],
        [
         "('AAPL', Timestamp('2018-01-02 00:00:00'))",
         "100.50216523165166",
         "100.64034328870198",
         "100.40157034278447",
         "100.41932657568924",
         "184911",
         null,
         null,
         null,
         null,
         null,
         null,
         null
        ],
        [
         "('AAPL', Timestamp('2018-01-03 00:00:00'))",
         "100.42415276753441",
         "101.1674763765578",
         "100.36925288320485",
         "101.10216799759952",
         "173978",
         "-0.0010820571652064848",
         null,
         null,
         null,
         null,
         null,
         null
        ],
        [
         "('AAPL', Timestamp('2018-01-04 00:00:00'))",
         "101.07879948064962",
         "102.76663532801251",
         "101.05134090822509",
         "102.68457063995073",
         "238866",
         "0.006799900429481642",
         null,
         null,
         null,
         null,
         null,
         null
        ],
        [
         "('AAPL', Timestamp('2018-01-05 00:00:00'))",
         "102.66226261067145",
         "102.71182215291931",
         "102.30366321083162",
         "102.4751504655819",
         "122308",
         "0.01565152037480333",
         null,
         null,
         null,
         null,
         null,
         null
        ]
       ],
       "shape": {
        "columns": 12,
        "rows": 5
       }
      },
      "text/html": [
       "<div>\n",
       "<style scoped>\n",
       "    .dataframe tbody tr th:only-of-type {\n",
       "        vertical-align: middle;\n",
       "    }\n",
       "\n",
       "    .dataframe tbody tr th {\n",
       "        vertical-align: top;\n",
       "    }\n",
       "\n",
       "    .dataframe thead th {\n",
       "        text-align: right;\n",
       "    }\n",
       "</style>\n",
       "<table border=\"1\" class=\"dataframe\">\n",
       "  <thead>\n",
       "    <tr style=\"text-align: right;\">\n",
       "      <th></th>\n",
       "      <th></th>\n",
       "      <th>open</th>\n",
       "      <th>high</th>\n",
       "      <th>low</th>\n",
       "      <th>close</th>\n",
       "      <th>volume</th>\n",
       "      <th>ret_1</th>\n",
       "      <th>ret_5</th>\n",
       "      <th>ret_20</th>\n",
       "      <th>vol_20</th>\n",
       "      <th>ma_10</th>\n",
       "      <th>dist_ma10</th>\n",
       "      <th>vol_norm_20</th>\n",
       "    </tr>\n",
       "    <tr>\n",
       "      <th>ticker</th>\n",
       "      <th>date</th>\n",
       "      <th></th>\n",
       "      <th></th>\n",
       "      <th></th>\n",
       "      <th></th>\n",
       "      <th></th>\n",
       "      <th></th>\n",
       "      <th></th>\n",
       "      <th></th>\n",
       "      <th></th>\n",
       "      <th></th>\n",
       "      <th></th>\n",
       "      <th></th>\n",
       "    </tr>\n",
       "  </thead>\n",
       "  <tbody>\n",
       "    <tr>\n",
       "      <th rowspan=\"5\" valign=\"top\">AAPL</th>\n",
       "      <th>2018-01-01</th>\n",
       "      <td>100.575266</td>\n",
       "      <td>100.593661</td>\n",
       "      <td>100.455549</td>\n",
       "      <td>100.528104</td>\n",
       "      <td>172052</td>\n",
       "      <td>NaN</td>\n",
       "      <td>NaN</td>\n",
       "      <td>NaN</td>\n",
       "      <td>NaN</td>\n",
       "      <td>NaN</td>\n",
       "      <td>NaN</td>\n",
       "      <td>NaN</td>\n",
       "    </tr>\n",
       "    <tr>\n",
       "      <th>2018-01-02</th>\n",
       "      <td>100.502165</td>\n",
       "      <td>100.640343</td>\n",
       "      <td>100.401570</td>\n",
       "      <td>100.419327</td>\n",
       "      <td>184911</td>\n",
       "      <td>NaN</td>\n",
       "      <td>NaN</td>\n",
       "      <td>NaN</td>\n",
       "      <td>NaN</td>\n",
       "      <td>NaN</td>\n",
       "      <td>NaN</td>\n",
       "      <td>NaN</td>\n",
       "    </tr>\n",
       "    <tr>\n",
       "      <th>2018-01-03</th>\n",
       "      <td>100.424153</td>\n",
       "      <td>101.167476</td>\n",
       "      <td>100.369253</td>\n",
       "      <td>101.102168</td>\n",
       "      <td>173978</td>\n",
       "      <td>-0.001082</td>\n",
       "      <td>NaN</td>\n",
       "      <td>NaN</td>\n",
       "      <td>NaN</td>\n",
       "      <td>NaN</td>\n",
       "      <td>NaN</td>\n",
       "      <td>NaN</td>\n",
       "    </tr>\n",
       "    <tr>\n",
       "      <th>2018-01-04</th>\n",
       "      <td>101.078799</td>\n",
       "      <td>102.766635</td>\n",
       "      <td>101.051341</td>\n",
       "      <td>102.684571</td>\n",
       "      <td>238866</td>\n",
       "      <td>0.006800</td>\n",
       "      <td>NaN</td>\n",
       "      <td>NaN</td>\n",
       "      <td>NaN</td>\n",
       "      <td>NaN</td>\n",
       "      <td>NaN</td>\n",
       "      <td>NaN</td>\n",
       "    </tr>\n",
       "    <tr>\n",
       "      <th>2018-01-05</th>\n",
       "      <td>102.662263</td>\n",
       "      <td>102.711822</td>\n",
       "      <td>102.303663</td>\n",
       "      <td>102.475150</td>\n",
       "      <td>122308</td>\n",
       "      <td>0.015652</td>\n",
       "      <td>NaN</td>\n",
       "      <td>NaN</td>\n",
       "      <td>NaN</td>\n",
       "      <td>NaN</td>\n",
       "      <td>NaN</td>\n",
       "      <td>NaN</td>\n",
       "    </tr>\n",
       "  </tbody>\n",
       "</table>\n",
       "</div>"
      ],
      "text/plain": [
       "                         open        high         low       close  volume  \\\n",
       "ticker date                                                                 \n",
       "AAPL   2018-01-01  100.575266  100.593661  100.455549  100.528104  172052   \n",
       "       2018-01-02  100.502165  100.640343  100.401570  100.419327  184911   \n",
       "       2018-01-03  100.424153  101.167476  100.369253  101.102168  173978   \n",
       "       2018-01-04  101.078799  102.766635  101.051341  102.684571  238866   \n",
       "       2018-01-05  102.662263  102.711822  102.303663  102.475150  122308   \n",
       "\n",
       "                      ret_1  ret_5  ret_20  vol_20  ma_10  dist_ma10  \\\n",
       "ticker date                                                            \n",
       "AAPL   2018-01-01       NaN    NaN     NaN     NaN    NaN        NaN   \n",
       "       2018-01-02       NaN    NaN     NaN     NaN    NaN        NaN   \n",
       "       2018-01-03 -0.001082    NaN     NaN     NaN    NaN        NaN   \n",
       "       2018-01-04  0.006800    NaN     NaN     NaN    NaN        NaN   \n",
       "       2018-01-05  0.015652    NaN     NaN     NaN    NaN        NaN   \n",
       "\n",
       "                   vol_norm_20  \n",
       "ticker date                     \n",
       "AAPL   2018-01-01          NaN  \n",
       "       2018-01-02          NaN  \n",
       "       2018-01-03          NaN  \n",
       "       2018-01-04          NaN  \n",
       "       2018-01-05          NaN  "
      ]
     },
     "execution_count": 4,
     "metadata": {},
     "output_type": "execute_result"
    }
   ],
   "source": [
    "\n",
    "def make_features(df):\n",
    "    out = df.copy()\n",
    "    out['ret_1']  = out['close'].groupby(level=0).pct_change(1)\n",
    "    out['ret_5']  = out['close'].groupby(level=0).pct_change(5)\n",
    "    out['ret_20'] = out['close'].groupby(level=0).pct_change(20)\n",
    "    out['vol_20'] = out['ret_1'].groupby(level=0).rolling(20).std().values\n",
    "    out['ma_10']  = out['close'].groupby(level=0).rolling(10).mean().values\n",
    "    out['dist_ma10'] = (out['close'] - out['ma_10'])/(out['ma_10']+1e-8)\n",
    "    out['vol_norm_20'] = out['volume']/out['volume'].groupby(level=0).rolling(20).mean().values\n",
    "    feature_cols = ['ret_1','ret_5','ret_20','vol_20','dist_ma10','vol_norm_20']\n",
    "    out[feature_cols] = out.groupby(level=0)[feature_cols].shift(1)\n",
    "    return out\n",
    "\n",
    "feat = make_features(data)\n",
    "feat.head()\n"
   ]
  },
  {
   "cell_type": "markdown",
   "id": "a55156d4",
   "metadata": {},
   "source": [
    "## Triple-barrier labeling (+1 TP, -1 SL, 0 neutral)"
   ]
  },
  {
   "cell_type": "code",
   "execution_count": 5,
   "id": "e87f8d8f",
   "metadata": {},
   "outputs": [
    {
     "ename": "KeyError",
     "evalue": "\"None of ['ticker', 'date'] are in the columns\"",
     "output_type": "error",
     "traceback": [
      "\u001b[31m---------------------------------------------------------------------------\u001b[39m",
      "\u001b[31mKeyError\u001b[39m                                  Traceback (most recent call last)",
      "\u001b[32m/tmp/ipykernel_2355409/2681844852.py\u001b[39m in \u001b[36m?\u001b[39m\u001b[34m()\u001b[39m\n\u001b[32m     28\u001b[39m         frames.append(pd.DataFrame({\u001b[33m'label'\u001b[39m: lbl}).set_index(g.index.names))\n\u001b[32m     29\u001b[39m     y = pd.concat(frames).sort_index()\n\u001b[32m     30\u001b[39m     \u001b[38;5;28;01mreturn\u001b[39;00m y\n\u001b[32m     31\u001b[39m \n\u001b[32m---> \u001b[39m\u001b[32m32\u001b[39m y = apply_triple_barrier(data, ub=\u001b[32m0.02\u001b[39m, lb=-\u001b[32m0.02\u001b[39m, max_h=\u001b[32m10\u001b[39m)\n\u001b[32m     33\u001b[39m y.head()\n",
      "\u001b[32m/tmp/ipykernel_2355409/2681844852.py\u001b[39m in \u001b[36m?\u001b[39m\u001b[34m(df, ub, lb, max_h)\u001b[39m\n\u001b[32m     24\u001b[39m     frames = []\n\u001b[32m     25\u001b[39m     \u001b[38;5;28;01mfor\u001b[39;00m tkr, g \u001b[38;5;28;01min\u001b[39;00m df.groupby(level=\u001b[32m0\u001b[39m):\n\u001b[32m     26\u001b[39m         close = g[\u001b[33m'close'\u001b[39m]\n\u001b[32m     27\u001b[39m         lbl = triple_barrier_labels(close, ub=ub, lb=lb, max_h=max_h)\n\u001b[32m---> \u001b[39m\u001b[32m28\u001b[39m         frames.append(pd.DataFrame({\u001b[33m'label'\u001b[39m: lbl}).set_index(g.index.names))\n\u001b[32m     29\u001b[39m     y = pd.concat(frames).sort_index()\n\u001b[32m     30\u001b[39m     \u001b[38;5;28;01mreturn\u001b[39;00m y\n",
      "\u001b[32m/mnt/ssd_backup/equity-ml-ldp/.venv/lib/python3.12/site-packages/pandas/core/frame.py\u001b[39m in \u001b[36m?\u001b[39m\u001b[34m(self, keys, drop, append, inplace, verify_integrity)\u001b[39m\n\u001b[32m   6140\u001b[39m                     \u001b[38;5;28;01mif\u001b[39;00m \u001b[38;5;28;01mnot\u001b[39;00m found:\n\u001b[32m   6141\u001b[39m                         missing.append(col)\n\u001b[32m   6142\u001b[39m \n\u001b[32m   6143\u001b[39m         \u001b[38;5;28;01mif\u001b[39;00m missing:\n\u001b[32m-> \u001b[39m\u001b[32m6144\u001b[39m             \u001b[38;5;28;01mraise\u001b[39;00m KeyError(f\"None of {missing} are in the columns\")\n\u001b[32m   6145\u001b[39m \n\u001b[32m   6146\u001b[39m         \u001b[38;5;28;01mif\u001b[39;00m inplace:\n\u001b[32m   6147\u001b[39m             frame = self\n",
      "\u001b[31mKeyError\u001b[39m: \"None of ['ticker', 'date'] are in the columns\""
     ]
    }
   ],
   "source": [
    "\n",
    "def triple_barrier_labels(close, ub=0.02, lb=-0.02, max_h=10):\n",
    "    idx = close.index\n",
    "    labels = pd.Series(index=idx, dtype=float)\n",
    "    for i, t in enumerate(idx):\n",
    "        if i == len(idx)-1:\n",
    "            labels[t] = np.nan\n",
    "            continue\n",
    "        p0 = close.iloc[i]\n",
    "        end = min(i+max_h, len(idx)-1)\n",
    "        path = close.iloc[i+1:end+1]/p0 - 1.0\n",
    "        hit_up = (path >= ub).idxmax() if (path >= ub).any() else None\n",
    "        hit_dn = (path <= lb).idxmax() if (path <= lb).any() else None\n",
    "        if hit_up is not None and hit_dn is not None:\n",
    "            labels[t] = 1.0 if hit_up < hit_dn else -1.0\n",
    "        elif hit_up is not None:\n",
    "            labels[t] = 1.0\n",
    "        elif hit_dn is not None:\n",
    "            labels[t] = -1.0\n",
    "        else:\n",
    "            labels[t] = 0.0\n",
    "    return labels\n",
    "\n",
    "def apply_triple_barrier(df, ub=0.02, lb=-0.02, max_h=10):\n",
    "    frames = []\n",
    "    for tkr, g in df.groupby(level=0):\n",
    "        close = g['close']\n",
    "        lbl = triple_barrier_labels(close, ub=ub, lb=lb, max_h=max_h)\n",
    "        frames.append(pd.DataFrame({'label': lbl}).set_index(g.index.names))\n",
    "    y = pd.concat(frames).sort_index()\n",
    "    return y\n",
    "\n",
    "y = apply_triple_barrier(data, ub=0.02, lb=-0.02, max_h=10)\n",
    "y.head()\n"
   ]
  },
  {
   "cell_type": "markdown",
   "id": "fcab4799",
   "metadata": {},
   "source": [
    "## Align features + labels and train RF"
   ]
  },
  {
   "cell_type": "code",
   "execution_count": null,
   "id": "30b21b41",
   "metadata": {},
   "outputs": [],
   "source": [
    "\n",
    "feature_cols = ['ret_1','ret_5','ret_20','vol_20','dist_ma10','vol_norm_20']\n",
    "df = feat.join(y, how='inner').dropna(subset=feature_cols + ['label'])\n",
    "\n",
    "# time-based split per ticker\n",
    "def time_split_per_ticker(df, split_ratio=0.7):\n",
    "    train_idx = []\n",
    "    test_idx = []\n",
    "    for tkr, g in df.groupby(level=0):\n",
    "        n = len(g); k = int(n*split_ratio)\n",
    "        train_idx.extend(g.index[:k]); test_idx.extend(g.index[k:])\n",
    "    return df.loc[train_idx], df.loc[test_idx]\n",
    "\n",
    "train_df, test_df = time_split_per_ticker(df, 0.7)\n",
    "\n",
    "X_train = train_df[feature_cols].values\n",
    "y_train = train_df['label'].values.astype(int)\n",
    "X_test  = test_df[feature_cols].values\n",
    "y_test  = test_df['label'].values.astype(int)\n",
    "\n",
    "rf = RandomForestClassifier(n_estimators=300, random_state=123, min_samples_leaf=5)\n",
    "rf.fit(X_train, y_train)\n",
    "print(\"rf.classes_:\", rf.classes_)\n",
    "\n",
    "proba = rf.predict_proba(X_test)\n",
    "proba[:3]\n"
   ]
  },
  {
   "cell_type": "markdown",
   "id": "d622fef2",
   "metadata": {},
   "source": [
    "## Map `predict_proba` columns using `rf.classes_`"
   ]
  },
  {
   "cell_type": "code",
   "execution_count": null,
   "id": "85e6cfa4",
   "metadata": {},
   "outputs": [],
   "source": [
    "\n",
    "class_order = list(rf.classes_)  # e.g., [-1, 0, 1]\n",
    "proba_df = pd.DataFrame(proba, index=test_df.index, columns=[f\"P({c})\" for c in class_order])\n",
    "\n",
    "P_sell = proba_df[f\"P({-1})\"]\n",
    "P_hold = proba_df[f\"P({0})\"]\n",
    "P_buy  = proba_df[f\"P({1})\"]\n",
    "\n",
    "proba_df.head()\n"
   ]
  },
  {
   "cell_type": "markdown",
   "id": "78ae1ff9",
   "metadata": {},
   "source": [
    "## Quick sanity checks"
   ]
  },
  {
   "cell_type": "code",
   "execution_count": null,
   "id": "2218a49b",
   "metadata": {},
   "outputs": [],
   "source": [
    "\n",
    "from sklearn.metrics import classification_report, confusion_matrix\n",
    "y_pred = rf.predict(X_test)\n",
    "print(classification_report(y_test, y_pred, digits=3))\n",
    "print(confusion_matrix(y_test, y_pred, labels=class_order))\n",
    "\n",
    "peek = pd.DataFrame({\n",
    "    'label_true': y_test[:10],\n",
    "    'label_pred': y_pred[:10],\n",
    "    'P_sell(-1)': proba[:10, class_order.index(-1)],\n",
    "    'P_hold(0)':  proba[:10, class_order.index(0)],\n",
    "    'P_buy(1)':   proba[:10, class_order.index(1)],\n",
    "}, index=test_df.index[:10])\n",
    "peek\n"
   ]
  }
 ],
 "metadata": {
  "kernelspec": {
   "display_name": ".venv (3.12.3)",
   "language": "python",
   "name": "python3"
  },
  "language_info": {
   "codemirror_mode": {
    "name": "ipython",
    "version": 3
   },
   "file_extension": ".py",
   "mimetype": "text/x-python",
   "name": "python",
   "nbconvert_exporter": "python",
   "pygments_lexer": "ipython3",
   "version": "3.12.3"
  }
 },
 "nbformat": 4,
 "nbformat_minor": 5
}
